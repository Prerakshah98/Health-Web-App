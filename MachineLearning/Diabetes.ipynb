{
 "cells": [
  {
   "cell_type": "code",
   "execution_count": 1,
   "metadata": {},
   "outputs": [
    {
     "name": "stdout",
     "output_type": "stream",
     "text": [
      "INFO:tensorflow:Enabling eager execution\n",
      "INFO:tensorflow:Enabling v2 tensorshape\n",
      "INFO:tensorflow:Enabling resource variables\n",
      "INFO:tensorflow:Enabling tensor equality\n",
      "INFO:tensorflow:Enabling control flow v2\n"
     ]
    }
   ],
   "source": [
    "import pandas as pd\n",
    "import numpy as np\n",
    "import matplotlib.pyplot as plt\n",
    "import seaborn as sns\n",
    "import imblearn\n",
    "from imblearn.over_sampling import SMOTE\n",
    "from collections import Counter\n",
    "from sklearn.datasets import make_classification\n",
    "from imblearn.over_sampling import RandomOverSampler\n",
    "from imblearn.under_sampling import RandomUnderSampler\n",
    "from sklearn.impute import KNNImputer\n",
    "from sklearn.experimental import enable_iterative_imputer\n",
    "from sklearn.impute import IterativeImputer\n",
    "from sklearn.preprocessing import power_transform\n",
    "from sklearn.preprocessing import MinMaxScaler,StandardScaler\n",
    "from sklearn import metrics\n",
    "from sklearn.metrics import roc_curve, auc \n",
    "from sklearn.metrics import accuracy_score\n",
    "from sklearn.metrics import confusion_matrix\n",
    "from sklearn.metrics import classification_report\n",
    "from sklearn.model_selection import train_test_split\n",
    "from sklearn.linear_model import LogisticRegression\n",
    "import tensorflow as tf\n",
    "from tensorflow.keras.models import Sequential\n",
    "from tensorflow.keras.layers import Dense, Activation\n",
    "from tensorflow.keras.callbacks import EarlyStopping, ModelCheckpoint\n",
    "from numpy import loadtxt\n",
    "from keras.models import load_model\n",
    "%matplotlib inline\n",
    "import warnings\n",
    "warnings.filterwarnings(\"ignore\")"
   ]
  },
  {
   "cell_type": "code",
   "execution_count": 2,
   "metadata": {},
   "outputs": [],
   "source": [
    "def plot_confusion_matrix(cm, names, title='Confusion matrix', cmap=plt.cm.Blues):\n",
    "    plt.figure()\n",
    "    plt.imshow(cm, interpolation='nearest', cmap=cmap)\n",
    "    plt.title(title)\n",
    "    plt.colorbar()\n",
    "    tick_marks = np.arange(len(names))\n",
    "    plt.xticks(tick_marks, names, rotation=45)\n",
    "    plt.yticks(tick_marks, names)\n",
    "    plt.tight_layout()\n",
    "    plt.ylabel('True label')\n",
    "    plt.xlabel('Predicted label')\n",
    "    plt.show()\n",
    "    \n",
    "\n",
    "# Plot an ROC. pred - the predictions, y - the expected output.\n",
    "def plot_roc(pred,y):\n",
    "    fpr, tpr, thresholds = roc_curve(y, pred)\n",
    "    roc_auc = auc(fpr, tpr)\n",
    "\n",
    "    plt.figure()\n",
    "    plt.plot(fpr, tpr, label='ROC curve (area = %0.2f)' % roc_auc)\n",
    "    plt.plot([0, 1], [0, 1], 'k--')\n",
    "    plt.xlim([0.0, 1.0])\n",
    "    plt.ylim([0.0, 1.05])\n",
    "    plt.xlabel('False Positive Rate')\n",
    "    plt.ylabel('True Positive Rate')\n",
    "    plt.title('Receiver Operating Characteristic (ROC)')\n",
    "    plt.legend(loc=\"lower right\")\n",
    "    plt.show()\n"
   ]
  },
  {
   "cell_type": "code",
   "execution_count": 3,
   "metadata": {},
   "outputs": [],
   "source": [
    "df = pd.read_csv(r\"C:\\Users\\prera\\Desktop\\FinalProject\\data\\diabetes.csv\")"
   ]
  },
  {
   "cell_type": "code",
   "execution_count": 4,
   "metadata": {},
   "outputs": [
    {
     "data": {
      "text/html": [
       "<div>\n",
       "<style scoped>\n",
       "    .dataframe tbody tr th:only-of-type {\n",
       "        vertical-align: middle;\n",
       "    }\n",
       "\n",
       "    .dataframe tbody tr th {\n",
       "        vertical-align: top;\n",
       "    }\n",
       "\n",
       "    .dataframe thead th {\n",
       "        text-align: right;\n",
       "    }\n",
       "</style>\n",
       "<table border=\"1\" class=\"dataframe\">\n",
       "  <thead>\n",
       "    <tr style=\"text-align: right;\">\n",
       "      <th></th>\n",
       "      <th>Pregnancies</th>\n",
       "      <th>Glucose</th>\n",
       "      <th>BloodPressure</th>\n",
       "      <th>SkinThickness</th>\n",
       "      <th>Insulin</th>\n",
       "      <th>BMI</th>\n",
       "      <th>DiabetesPedigreeFunction</th>\n",
       "      <th>Age</th>\n",
       "      <th>Outcome</th>\n",
       "    </tr>\n",
       "  </thead>\n",
       "  <tbody>\n",
       "    <tr>\n",
       "      <th>0</th>\n",
       "      <td>6</td>\n",
       "      <td>148</td>\n",
       "      <td>72</td>\n",
       "      <td>35</td>\n",
       "      <td>0</td>\n",
       "      <td>33.6</td>\n",
       "      <td>0.627</td>\n",
       "      <td>50</td>\n",
       "      <td>1</td>\n",
       "    </tr>\n",
       "    <tr>\n",
       "      <th>1</th>\n",
       "      <td>1</td>\n",
       "      <td>85</td>\n",
       "      <td>66</td>\n",
       "      <td>29</td>\n",
       "      <td>0</td>\n",
       "      <td>26.6</td>\n",
       "      <td>0.351</td>\n",
       "      <td>31</td>\n",
       "      <td>0</td>\n",
       "    </tr>\n",
       "    <tr>\n",
       "      <th>2</th>\n",
       "      <td>8</td>\n",
       "      <td>183</td>\n",
       "      <td>64</td>\n",
       "      <td>0</td>\n",
       "      <td>0</td>\n",
       "      <td>23.3</td>\n",
       "      <td>0.672</td>\n",
       "      <td>32</td>\n",
       "      <td>1</td>\n",
       "    </tr>\n",
       "    <tr>\n",
       "      <th>3</th>\n",
       "      <td>1</td>\n",
       "      <td>89</td>\n",
       "      <td>66</td>\n",
       "      <td>23</td>\n",
       "      <td>94</td>\n",
       "      <td>28.1</td>\n",
       "      <td>0.167</td>\n",
       "      <td>21</td>\n",
       "      <td>0</td>\n",
       "    </tr>\n",
       "    <tr>\n",
       "      <th>4</th>\n",
       "      <td>0</td>\n",
       "      <td>137</td>\n",
       "      <td>40</td>\n",
       "      <td>35</td>\n",
       "      <td>168</td>\n",
       "      <td>43.1</td>\n",
       "      <td>2.288</td>\n",
       "      <td>33</td>\n",
       "      <td>1</td>\n",
       "    </tr>\n",
       "  </tbody>\n",
       "</table>\n",
       "</div>"
      ],
      "text/plain": [
       "   Pregnancies  Glucose  BloodPressure  SkinThickness  Insulin   BMI  \\\n",
       "0            6      148             72             35        0  33.6   \n",
       "1            1       85             66             29        0  26.6   \n",
       "2            8      183             64              0        0  23.3   \n",
       "3            1       89             66             23       94  28.1   \n",
       "4            0      137             40             35      168  43.1   \n",
       "\n",
       "   DiabetesPedigreeFunction  Age  Outcome  \n",
       "0                     0.627   50        1  \n",
       "1                     0.351   31        0  \n",
       "2                     0.672   32        1  \n",
       "3                     0.167   21        0  \n",
       "4                     2.288   33        1  "
      ]
     },
     "execution_count": 4,
     "metadata": {},
     "output_type": "execute_result"
    }
   ],
   "source": [
    "df.head()"
   ]
  },
  {
   "cell_type": "code",
   "execution_count": 5,
   "metadata": {},
   "outputs": [
    {
     "data": {
      "text/plain": [
       "(768, 9)"
      ]
     },
     "execution_count": 5,
     "metadata": {},
     "output_type": "execute_result"
    }
   ],
   "source": [
    "df.shape"
   ]
  },
  {
   "cell_type": "code",
   "execution_count": 6,
   "metadata": {},
   "outputs": [
    {
     "data": {
      "text/plain": [
       "Index(['Pregnancies', 'Glucose', 'BloodPressure', 'SkinThickness', 'Insulin',\n",
       "       'BMI', 'DiabetesPedigreeFunction', 'Age', 'Outcome'],\n",
       "      dtype='object')"
      ]
     },
     "execution_count": 6,
     "metadata": {},
     "output_type": "execute_result"
    }
   ],
   "source": [
    "df.columns"
   ]
  },
  {
   "cell_type": "code",
   "execution_count": 7,
   "metadata": {},
   "outputs": [
    {
     "name": "stdout",
     "output_type": "stream",
     "text": [
      "<class 'pandas.core.frame.DataFrame'>\n",
      "RangeIndex: 768 entries, 0 to 767\n",
      "Data columns (total 9 columns):\n",
      " #   Column                    Non-Null Count  Dtype  \n",
      "---  ------                    --------------  -----  \n",
      " 0   Pregnancies               768 non-null    int64  \n",
      " 1   Glucose                   768 non-null    int64  \n",
      " 2   BloodPressure             768 non-null    int64  \n",
      " 3   SkinThickness             768 non-null    int64  \n",
      " 4   Insulin                   768 non-null    int64  \n",
      " 5   BMI                       768 non-null    float64\n",
      " 6   DiabetesPedigreeFunction  768 non-null    float64\n",
      " 7   Age                       768 non-null    int64  \n",
      " 8   Outcome                   768 non-null    int64  \n",
      "dtypes: float64(2), int64(7)\n",
      "memory usage: 54.1 KB\n"
     ]
    }
   ],
   "source": [
    "df.info()"
   ]
  },
  {
   "cell_type": "code",
   "execution_count": 8,
   "metadata": {},
   "outputs": [
    {
     "name": "stdout",
     "output_type": "stream",
     "text": [
      "Pregnancies : 17 values\n",
      "Glucose : 136 values\n",
      "BloodPressure : 47 values\n",
      "SkinThickness : 51 values\n",
      "Insulin : 186 values\n",
      "BMI : 248 values\n",
      "DiabetesPedigreeFunction : 517 values\n",
      "Age : 52 values\n",
      "Outcome : 2 values\n"
     ]
    }
   ],
   "source": [
    "for i in df.columns:\n",
    "    print(f'{i} : {df[i].nunique()} values')"
   ]
  },
  {
   "cell_type": "code",
   "execution_count": 9,
   "metadata": {},
   "outputs": [],
   "source": [
    "numerical_features = []\n",
    "categorical_features = []\n",
    "\n",
    "for i in df.columns:\n",
    "    if df[i].nunique()>7:\n",
    "        numerical_features.append(i)\n",
    "    else:\n",
    "        categorical_features.append(i)"
   ]
  },
  {
   "cell_type": "code",
   "execution_count": 10,
   "metadata": {},
   "outputs": [
    {
     "name": "stdout",
     "output_type": "stream",
     "text": [
      "8 Numerical features: \n",
      " ['Pregnancies', 'Glucose', 'BloodPressure', 'SkinThickness', 'Insulin', 'BMI', 'DiabetesPedigreeFunction', 'Age']\n",
      "\n",
      "\n",
      " 1 Categorical features:\n",
      "  ['Outcome']\n"
     ]
    }
   ],
   "source": [
    "print(len(numerical_features),'Numerical features: \\n', numerical_features)\n",
    "print('\\n\\n',len(categorical_features),'Categorical features:\\n ', categorical_features)"
   ]
  },
  {
   "cell_type": "code",
   "execution_count": 11,
   "metadata": {},
   "outputs": [
    {
     "data": {
      "text/html": [
       "<div>\n",
       "<style scoped>\n",
       "    .dataframe tbody tr th:only-of-type {\n",
       "        vertical-align: middle;\n",
       "    }\n",
       "\n",
       "    .dataframe tbody tr th {\n",
       "        vertical-align: top;\n",
       "    }\n",
       "\n",
       "    .dataframe thead th {\n",
       "        text-align: right;\n",
       "    }\n",
       "</style>\n",
       "<table border=\"1\" class=\"dataframe\">\n",
       "  <thead>\n",
       "    <tr style=\"text-align: right;\">\n",
       "      <th></th>\n",
       "      <th>count</th>\n",
       "      <th>mean</th>\n",
       "      <th>std</th>\n",
       "      <th>min</th>\n",
       "      <th>25%</th>\n",
       "      <th>50%</th>\n",
       "      <th>75%</th>\n",
       "      <th>max</th>\n",
       "    </tr>\n",
       "  </thead>\n",
       "  <tbody>\n",
       "    <tr>\n",
       "      <th>Pregnancies</th>\n",
       "      <td>768.0</td>\n",
       "      <td>3.845052</td>\n",
       "      <td>3.369578</td>\n",
       "      <td>0.000</td>\n",
       "      <td>1.00000</td>\n",
       "      <td>3.0000</td>\n",
       "      <td>6.00000</td>\n",
       "      <td>17.00</td>\n",
       "    </tr>\n",
       "    <tr>\n",
       "      <th>Glucose</th>\n",
       "      <td>768.0</td>\n",
       "      <td>120.894531</td>\n",
       "      <td>31.972618</td>\n",
       "      <td>0.000</td>\n",
       "      <td>99.00000</td>\n",
       "      <td>117.0000</td>\n",
       "      <td>140.25000</td>\n",
       "      <td>199.00</td>\n",
       "    </tr>\n",
       "    <tr>\n",
       "      <th>BloodPressure</th>\n",
       "      <td>768.0</td>\n",
       "      <td>69.105469</td>\n",
       "      <td>19.355807</td>\n",
       "      <td>0.000</td>\n",
       "      <td>62.00000</td>\n",
       "      <td>72.0000</td>\n",
       "      <td>80.00000</td>\n",
       "      <td>122.00</td>\n",
       "    </tr>\n",
       "    <tr>\n",
       "      <th>SkinThickness</th>\n",
       "      <td>768.0</td>\n",
       "      <td>20.536458</td>\n",
       "      <td>15.952218</td>\n",
       "      <td>0.000</td>\n",
       "      <td>0.00000</td>\n",
       "      <td>23.0000</td>\n",
       "      <td>32.00000</td>\n",
       "      <td>99.00</td>\n",
       "    </tr>\n",
       "    <tr>\n",
       "      <th>Insulin</th>\n",
       "      <td>768.0</td>\n",
       "      <td>79.799479</td>\n",
       "      <td>115.244002</td>\n",
       "      <td>0.000</td>\n",
       "      <td>0.00000</td>\n",
       "      <td>30.5000</td>\n",
       "      <td>127.25000</td>\n",
       "      <td>846.00</td>\n",
       "    </tr>\n",
       "    <tr>\n",
       "      <th>BMI</th>\n",
       "      <td>768.0</td>\n",
       "      <td>31.992578</td>\n",
       "      <td>7.884160</td>\n",
       "      <td>0.000</td>\n",
       "      <td>27.30000</td>\n",
       "      <td>32.0000</td>\n",
       "      <td>36.60000</td>\n",
       "      <td>67.10</td>\n",
       "    </tr>\n",
       "    <tr>\n",
       "      <th>DiabetesPedigreeFunction</th>\n",
       "      <td>768.0</td>\n",
       "      <td>0.471876</td>\n",
       "      <td>0.331329</td>\n",
       "      <td>0.078</td>\n",
       "      <td>0.24375</td>\n",
       "      <td>0.3725</td>\n",
       "      <td>0.62625</td>\n",
       "      <td>2.42</td>\n",
       "    </tr>\n",
       "    <tr>\n",
       "      <th>Age</th>\n",
       "      <td>768.0</td>\n",
       "      <td>33.240885</td>\n",
       "      <td>11.760232</td>\n",
       "      <td>21.000</td>\n",
       "      <td>24.00000</td>\n",
       "      <td>29.0000</td>\n",
       "      <td>41.00000</td>\n",
       "      <td>81.00</td>\n",
       "    </tr>\n",
       "    <tr>\n",
       "      <th>Outcome</th>\n",
       "      <td>768.0</td>\n",
       "      <td>0.348958</td>\n",
       "      <td>0.476951</td>\n",
       "      <td>0.000</td>\n",
       "      <td>0.00000</td>\n",
       "      <td>0.0000</td>\n",
       "      <td>1.00000</td>\n",
       "      <td>1.00</td>\n",
       "    </tr>\n",
       "  </tbody>\n",
       "</table>\n",
       "</div>"
      ],
      "text/plain": [
       "                          count        mean         std     min       25%  \\\n",
       "Pregnancies               768.0    3.845052    3.369578   0.000   1.00000   \n",
       "Glucose                   768.0  120.894531   31.972618   0.000  99.00000   \n",
       "BloodPressure             768.0   69.105469   19.355807   0.000  62.00000   \n",
       "SkinThickness             768.0   20.536458   15.952218   0.000   0.00000   \n",
       "Insulin                   768.0   79.799479  115.244002   0.000   0.00000   \n",
       "BMI                       768.0   31.992578    7.884160   0.000  27.30000   \n",
       "DiabetesPedigreeFunction  768.0    0.471876    0.331329   0.078   0.24375   \n",
       "Age                       768.0   33.240885   11.760232  21.000  24.00000   \n",
       "Outcome                   768.0    0.348958    0.476951   0.000   0.00000   \n",
       "\n",
       "                               50%        75%     max  \n",
       "Pregnancies                 3.0000    6.00000   17.00  \n",
       "Glucose                   117.0000  140.25000  199.00  \n",
       "BloodPressure              72.0000   80.00000  122.00  \n",
       "SkinThickness              23.0000   32.00000   99.00  \n",
       "Insulin                    30.5000  127.25000  846.00  \n",
       "BMI                        32.0000   36.60000   67.10  \n",
       "DiabetesPedigreeFunction    0.3725    0.62625    2.42  \n",
       "Age                        29.0000   41.00000   81.00  \n",
       "Outcome                     0.0000    1.00000    1.00  "
      ]
     },
     "execution_count": 11,
     "metadata": {},
     "output_type": "execute_result"
    }
   ],
   "source": [
    "df.describe().T"
   ]
  },
  {
   "cell_type": "code",
   "execution_count": 12,
   "metadata": {},
   "outputs": [],
   "source": [
    "df.drop(['SkinThickness', 'Insulin'], axis = 1, inplace=True)"
   ]
  },
  {
   "cell_type": "code",
   "execution_count": 13,
   "metadata": {},
   "outputs": [
    {
     "data": {
      "text/plain": [
       "Pregnancies                 0\n",
       "Glucose                     0\n",
       "BloodPressure               0\n",
       "BMI                         0\n",
       "DiabetesPedigreeFunction    0\n",
       "Age                         0\n",
       "Outcome                     0\n",
       "dtype: int64"
      ]
     },
     "execution_count": 13,
     "metadata": {},
     "output_type": "execute_result"
    }
   ],
   "source": [
    "df.isna().sum()"
   ]
  },
  {
   "cell_type": "markdown",
   "metadata": {},
   "source": [
    "# EDA"
   ]
  },
  {
   "cell_type": "code",
   "execution_count": 14,
   "metadata": {},
   "outputs": [
    {
     "data": {
      "text/plain": [
       "0    500\n",
       "1    268\n",
       "Name: Outcome, dtype: int64"
      ]
     },
     "execution_count": 14,
     "metadata": {},
     "output_type": "execute_result"
    }
   ],
   "source": [
    "df.Outcome.value_counts()"
   ]
  },
  {
   "cell_type": "code",
   "execution_count": 15,
   "metadata": {},
   "outputs": [
    {
     "data": {
      "image/png": "[encoded data removed]",
      "text/plain": [
       "<Figure size 432x288 with 1 Axes>"
      ]
     },
     "metadata": {
      "needs_background": "light"
     },
     "output_type": "display_data"
    },
    {
     "name": "stdout",
     "output_type": "stream",
     "text": [
      "Percent of Diabetes outcome:  34.9 %\n",
      "Percent of not a Diabetes outcome:  65.1 %\n"
     ]
    }
   ],
   "source": [
    "sns.countplot(x='Outcome',data=df)\n",
    "plt.xlabel(\"Outcome\")\n",
    "plt.ylabel(\"Count\")\n",
    "plt.title(\"target Class\")\n",
    "plt.show()\n",
    "print('Percent of Diabetes outcome: ',round(len(df[df['Outcome']== 1])/len(df['Outcome'])*100,2),\"%\")\n",
    "print('Percent of not a Diabetes outcome: ',round(len(df[df['Outcome']== 0])/len(df['Outcome'])*100,2),\"%\")"
   ]
  },
  {
   "cell_type": "code",
   "execution_count": 16,
   "metadata": {},
   "outputs": [
    {
     "data": {
      "text/html": [
       "<div>\n",
       "<style scoped>\n",
       "    .dataframe tbody tr th:only-of-type {\n",
       "        vertical-align: middle;\n",
       "    }\n",
       "\n",
       "    .dataframe tbody tr th {\n",
       "        vertical-align: top;\n",
       "    }\n",
       "\n",
       "    .dataframe thead th {\n",
       "        text-align: right;\n",
       "    }\n",
       "</style>\n",
       "<table border=\"1\" class=\"dataframe\">\n",
       "  <thead>\n",
       "    <tr style=\"text-align: right;\">\n",
       "      <th></th>\n",
       "      <th>Pregnancies</th>\n",
       "      <th>Glucose</th>\n",
       "      <th>BloodPressure</th>\n",
       "      <th>BMI</th>\n",
       "      <th>DiabetesPedigreeFunction</th>\n",
       "      <th>Age</th>\n",
       "      <th>Outcome</th>\n",
       "    </tr>\n",
       "  </thead>\n",
       "  <tbody>\n",
       "    <tr>\n",
       "      <th>0</th>\n",
       "      <td>6</td>\n",
       "      <td>148</td>\n",
       "      <td>72</td>\n",
       "      <td>33.6</td>\n",
       "      <td>0.627</td>\n",
       "      <td>50</td>\n",
       "      <td>1</td>\n",
       "    </tr>\n",
       "    <tr>\n",
       "      <th>1</th>\n",
       "      <td>1</td>\n",
       "      <td>85</td>\n",
       "      <td>66</td>\n",
       "      <td>26.6</td>\n",
       "      <td>0.351</td>\n",
       "      <td>31</td>\n",
       "      <td>0</td>\n",
       "    </tr>\n",
       "    <tr>\n",
       "      <th>2</th>\n",
       "      <td>8</td>\n",
       "      <td>183</td>\n",
       "      <td>64</td>\n",
       "      <td>23.3</td>\n",
       "      <td>0.672</td>\n",
       "      <td>32</td>\n",
       "      <td>1</td>\n",
       "    </tr>\n",
       "    <tr>\n",
       "      <th>3</th>\n",
       "      <td>1</td>\n",
       "      <td>89</td>\n",
       "      <td>66</td>\n",
       "      <td>28.1</td>\n",
       "      <td>0.167</td>\n",
       "      <td>21</td>\n",
       "      <td>0</td>\n",
       "    </tr>\n",
       "    <tr>\n",
       "      <th>4</th>\n",
       "      <td>0</td>\n",
       "      <td>137</td>\n",
       "      <td>40</td>\n",
       "      <td>43.1</td>\n",
       "      <td>2.288</td>\n",
       "      <td>33</td>\n",
       "      <td>1</td>\n",
       "    </tr>\n",
       "    <tr>\n",
       "      <th>...</th>\n",
       "      <td>...</td>\n",
       "      <td>...</td>\n",
       "      <td>...</td>\n",
       "      <td>...</td>\n",
       "      <td>...</td>\n",
       "      <td>...</td>\n",
       "      <td>...</td>\n",
       "    </tr>\n",
       "    <tr>\n",
       "      <th>763</th>\n",
       "      <td>10</td>\n",
       "      <td>101</td>\n",
       "      <td>76</td>\n",
       "      <td>32.9</td>\n",
       "      <td>0.171</td>\n",
       "      <td>63</td>\n",
       "      <td>0</td>\n",
       "    </tr>\n",
       "    <tr>\n",
       "      <th>764</th>\n",
       "      <td>2</td>\n",
       "      <td>122</td>\n",
       "      <td>70</td>\n",
       "      <td>36.8</td>\n",
       "      <td>0.340</td>\n",
       "      <td>27</td>\n",
       "      <td>0</td>\n",
       "    </tr>\n",
       "    <tr>\n",
       "      <th>765</th>\n",
       "      <td>5</td>\n",
       "      <td>121</td>\n",
       "      <td>72</td>\n",
       "      <td>26.2</td>\n",
       "      <td>0.245</td>\n",
       "      <td>30</td>\n",
       "      <td>0</td>\n",
       "    </tr>\n",
       "    <tr>\n",
       "      <th>766</th>\n",
       "      <td>1</td>\n",
       "      <td>126</td>\n",
       "      <td>60</td>\n",
       "      <td>30.1</td>\n",
       "      <td>0.349</td>\n",
       "      <td>47</td>\n",
       "      <td>1</td>\n",
       "    </tr>\n",
       "    <tr>\n",
       "      <th>767</th>\n",
       "      <td>1</td>\n",
       "      <td>93</td>\n",
       "      <td>70</td>\n",
       "      <td>30.4</td>\n",
       "      <td>0.315</td>\n",
       "      <td>23</td>\n",
       "      <td>0</td>\n",
       "    </tr>\n",
       "  </tbody>\n",
       "</table>\n",
       "<p>768 rows × 7 columns</p>\n",
       "</div>"
      ],
      "text/plain": [
       "     Pregnancies  Glucose  BloodPressure   BMI  DiabetesPedigreeFunction  Age  \\\n",
       "0              6      148             72  33.6                     0.627   50   \n",
       "1              1       85             66  26.6                     0.351   31   \n",
       "2              8      183             64  23.3                     0.672   32   \n",
       "3              1       89             66  28.1                     0.167   21   \n",
       "4              0      137             40  43.1                     2.288   33   \n",
       "..           ...      ...            ...   ...                       ...  ...   \n",
       "763           10      101             76  32.9                     0.171   63   \n",
       "764            2      122             70  36.8                     0.340   27   \n",
       "765            5      121             72  26.2                     0.245   30   \n",
       "766            1      126             60  30.1                     0.349   47   \n",
       "767            1       93             70  30.4                     0.315   23   \n",
       "\n",
       "     Outcome  \n",
       "0          1  \n",
       "1          0  \n",
       "2          1  \n",
       "3          0  \n",
       "4          1  \n",
       "..       ...  \n",
       "763        0  \n",
       "764        0  \n",
       "765        0  \n",
       "766        1  \n",
       "767        0  \n",
       "\n",
       "[768 rows x 7 columns]"
      ]
     },
     "execution_count": 16,
     "metadata": {},
     "output_type": "execute_result"
    }
   ],
   "source": [
    "df"
   ]
  },
  {
   "cell_type": "code",
   "execution_count": 17,
   "metadata": {},
   "outputs": [
    {
     "data": {
      "image/png": "[encoded data removed]",
      "text/plain": [
       "<Figure size 1440x1440 with 2 Axes>"
      ]
     },
     "metadata": {
      "needs_background": "light"
     },
     "output_type": "display_data"
    }
   ],
   "source": [
    "corr = df.corr()\n",
    "plt.figure(figsize=(20,20))\n",
    "g = sns.heatmap(corr, annot=True, cmap = \"RdYlGn\")"
   ]
  },
  {
   "cell_type": "code",
   "execution_count": 18,
   "metadata": {},
   "outputs": [
    {
     "data": {
      "text/html": [
       "<div>\n",
       "<style scoped>\n",
       "    .dataframe tbody tr th:only-of-type {\n",
       "        vertical-align: middle;\n",
       "    }\n",
       "\n",
       "    .dataframe tbody tr th {\n",
       "        vertical-align: top;\n",
       "    }\n",
       "\n",
       "    .dataframe thead th {\n",
       "        text-align: right;\n",
       "    }\n",
       "</style>\n",
       "<table border=\"1\" class=\"dataframe\">\n",
       "  <thead>\n",
       "    <tr style=\"text-align: right;\">\n",
       "      <th></th>\n",
       "      <th>Pregnancies</th>\n",
       "      <th>Glucose</th>\n",
       "      <th>BloodPressure</th>\n",
       "      <th>BMI</th>\n",
       "      <th>DiabetesPedigreeFunction</th>\n",
       "      <th>Age</th>\n",
       "      <th>Outcome</th>\n",
       "    </tr>\n",
       "  </thead>\n",
       "  <tbody>\n",
       "    <tr>\n",
       "      <th>Pregnancies</th>\n",
       "      <td>1.000000</td>\n",
       "      <td>0.129459</td>\n",
       "      <td>0.141282</td>\n",
       "      <td>0.017683</td>\n",
       "      <td>-0.033523</td>\n",
       "      <td>0.544341</td>\n",
       "      <td>0.221898</td>\n",
       "    </tr>\n",
       "    <tr>\n",
       "      <th>Glucose</th>\n",
       "      <td>0.129459</td>\n",
       "      <td>1.000000</td>\n",
       "      <td>0.152590</td>\n",
       "      <td>0.221071</td>\n",
       "      <td>0.137337</td>\n",
       "      <td>0.263514</td>\n",
       "      <td>0.466581</td>\n",
       "    </tr>\n",
       "    <tr>\n",
       "      <th>BloodPressure</th>\n",
       "      <td>0.141282</td>\n",
       "      <td>0.152590</td>\n",
       "      <td>1.000000</td>\n",
       "      <td>0.281805</td>\n",
       "      <td>0.041265</td>\n",
       "      <td>0.239528</td>\n",
       "      <td>0.065068</td>\n",
       "    </tr>\n",
       "    <tr>\n",
       "      <th>BMI</th>\n",
       "      <td>0.017683</td>\n",
       "      <td>0.221071</td>\n",
       "      <td>0.281805</td>\n",
       "      <td>1.000000</td>\n",
       "      <td>0.140647</td>\n",
       "      <td>0.036242</td>\n",
       "      <td>0.292695</td>\n",
       "    </tr>\n",
       "    <tr>\n",
       "      <th>DiabetesPedigreeFunction</th>\n",
       "      <td>-0.033523</td>\n",
       "      <td>0.137337</td>\n",
       "      <td>0.041265</td>\n",
       "      <td>0.140647</td>\n",
       "      <td>1.000000</td>\n",
       "      <td>0.033561</td>\n",
       "      <td>0.173844</td>\n",
       "    </tr>\n",
       "    <tr>\n",
       "      <th>Age</th>\n",
       "      <td>0.544341</td>\n",
       "      <td>0.263514</td>\n",
       "      <td>0.239528</td>\n",
       "      <td>0.036242</td>\n",
       "      <td>0.033561</td>\n",
       "      <td>1.000000</td>\n",
       "      <td>0.238356</td>\n",
       "    </tr>\n",
       "    <tr>\n",
       "      <th>Outcome</th>\n",
       "      <td>0.221898</td>\n",
       "      <td>0.466581</td>\n",
       "      <td>0.065068</td>\n",
       "      <td>0.292695</td>\n",
       "      <td>0.173844</td>\n",
       "      <td>0.238356</td>\n",
       "      <td>1.000000</td>\n",
       "    </tr>\n",
       "  </tbody>\n",
       "</table>\n",
       "</div>"
      ],
      "text/plain": [
       "                          Pregnancies   Glucose  BloodPressure       BMI  \\\n",
       "Pregnancies                  1.000000  0.129459       0.141282  0.017683   \n",
       "Glucose                      0.129459  1.000000       0.152590  0.221071   \n",
       "BloodPressure                0.141282  0.152590       1.000000  0.281805   \n",
       "BMI                          0.017683  0.221071       0.281805  1.000000   \n",
       "DiabetesPedigreeFunction    -0.033523  0.137337       0.041265  0.140647   \n",
       "Age                          0.544341  0.263514       0.239528  0.036242   \n",
       "Outcome                      0.221898  0.466581       0.065068  0.292695   \n",
       "\n",
       "                          DiabetesPedigreeFunction       Age   Outcome  \n",
       "Pregnancies                              -0.033523  0.544341  0.221898  \n",
       "Glucose                                   0.137337  0.263514  0.466581  \n",
       "BloodPressure                             0.041265  0.239528  0.065068  \n",
       "BMI                                       0.140647  0.036242  0.292695  \n",
       "DiabetesPedigreeFunction                  1.000000  0.033561  0.173844  \n",
       "Age                                       0.033561  1.000000  0.238356  \n",
       "Outcome                                   0.173844  0.238356  1.000000  "
      ]
     },
     "execution_count": 18,
     "metadata": {},
     "output_type": "execute_result"
    }
   ],
   "source": [
    "df.corr()"
   ]
  },
  {
   "cell_type": "code",
   "execution_count": 19,
   "metadata": {},
   "outputs": [
    {
     "name": "stdout",
     "output_type": "stream",
     "text": [
      "<class 'pandas.core.frame.DataFrame'>\n",
      "RangeIndex: 768 entries, 0 to 767\n",
      "Data columns (total 7 columns):\n",
      " #   Column                    Non-Null Count  Dtype  \n",
      "---  ------                    --------------  -----  \n",
      " 0   Pregnancies               768 non-null    int64  \n",
      " 1   Glucose                   768 non-null    int64  \n",
      " 2   BloodPressure             768 non-null    int64  \n",
      " 3   BMI                       768 non-null    float64\n",
      " 4   DiabetesPedigreeFunction  768 non-null    float64\n",
      " 5   Age                       768 non-null    int64  \n",
      " 6   Outcome                   768 non-null    int64  \n",
      "dtypes: float64(2), int64(5)\n",
      "memory usage: 42.1 KB\n"
     ]
    }
   ],
   "source": [
    "df.info()"
   ]
  },
  {
   "cell_type": "markdown",
   "metadata": {},
   "source": [
    "# Splitting in X and Y"
   ]
  },
  {
   "cell_type": "code",
   "execution_count": 20,
   "metadata": {},
   "outputs": [
    {
     "data": {
      "text/plain": [
       "0    500\n",
       "1    268\n",
       "Name: Outcome, dtype: int64"
      ]
     },
     "execution_count": 20,
     "metadata": {},
     "output_type": "execute_result"
    }
   ],
   "source": [
    "x = df.drop('Outcome', axis=1)\n",
    "y = df.Outcome\n",
    "\n",
    "y.value_counts()"
   ]
  },
  {
   "cell_type": "code",
   "execution_count": 21,
   "metadata": {},
   "outputs": [
    {
     "data": {
      "text/plain": [
       "array([[0.35294118, 0.74371859, 0.59016393, 0.50074516, 0.23441503,\n",
       "        0.48333333],\n",
       "       [0.05882353, 0.42713568, 0.54098361, 0.39642325, 0.11656704,\n",
       "        0.16666667],\n",
       "       [0.47058824, 0.91959799, 0.52459016, 0.34724292, 0.25362938,\n",
       "        0.18333333],\n",
       "       ...,\n",
       "       [0.29411765, 0.6080402 , 0.59016393, 0.390462  , 0.07130658,\n",
       "        0.15      ],\n",
       "       [0.05882353, 0.63316583, 0.49180328, 0.4485842 , 0.11571307,\n",
       "        0.43333333],\n",
       "       [0.05882353, 0.46733668, 0.57377049, 0.45305514, 0.10119556,\n",
       "        0.03333333]])"
      ]
     },
     "execution_count": 21,
     "metadata": {},
     "output_type": "execute_result"
    }
   ],
   "source": [
    "sc = MinMaxScaler()\n",
    "x = sc.fit_transform(x)\n",
    "x"
   ]
  },
  {
   "cell_type": "markdown",
   "metadata": {},
   "source": [
    "# OverSampling using SMOTE"
   ]
  },
  {
   "cell_type": "code",
   "execution_count": 22,
   "metadata": {},
   "outputs": [
    {
     "name": "stdout",
     "output_type": "stream",
     "text": [
      "Counter({0: 500, 1: 268})\n"
     ]
    },
    {
     "data": {
      "text/plain": [
       "Counter({1: 500, 0: 500})"
      ]
     },
     "execution_count": 22,
     "metadata": {},
     "output_type": "execute_result"
    }
   ],
   "source": [
    "print(Counter(y))\n",
    "\n",
    "oversample = SMOTE()\n",
    "x, y = oversample.fit_resample(x, y)\n",
    "\n",
    "Counter(y)"
   ]
  },
  {
   "cell_type": "markdown",
   "metadata": {},
   "source": [
    "# Train-Test Split"
   ]
  },
  {
   "cell_type": "code",
   "execution_count": 23,
   "metadata": {},
   "outputs": [],
   "source": [
    "x_train,x_test,y_train,y_test = train_test_split(x,y,test_size=0.15,random_state=0)"
   ]
  },
  {
   "cell_type": "code",
   "execution_count": 24,
   "metadata": {},
   "outputs": [
    {
     "name": "stdout",
     "output_type": "stream",
     "text": [
      "(850, 6)\n",
      "(150, 6)\n",
      "(850,)\n",
      "(150,)\n"
     ]
    }
   ],
   "source": [
    "print(x_train.shape)\n",
    "print(x_test.shape)\n",
    "print(y_train.shape)\n",
    "print(y_test.shape)"
   ]
  },
  {
   "cell_type": "code",
   "execution_count": 25,
   "metadata": {},
   "outputs": [
    {
     "data": {
      "text/plain": [
       "dtype('float64')"
      ]
     },
     "execution_count": 25,
     "metadata": {},
     "output_type": "execute_result"
    }
   ],
   "source": [
    "x_test\n",
    "x_test_1=x_test[2,]\n",
    "\n",
    "x_test_1=x_test_1.reshape(1,-1)\n",
    "\n",
    "x_test_1.dtype"
   ]
  },
  {
   "cell_type": "markdown",
   "metadata": {},
   "source": [
    "# Logistic Regression"
   ]
  },
  {
   "cell_type": "code",
   "execution_count": 26,
   "metadata": {},
   "outputs": [
    {
     "data": {
      "text/plain": [
       "LogisticRegression(solver='liblinear')"
      ]
     },
     "execution_count": 26,
     "metadata": {},
     "output_type": "execute_result"
    }
   ],
   "source": [
    "diabeteslr=LogisticRegression(solver='liblinear')\n",
    "diabeteslr.fit(x_train,y_train)"
   ]
  },
  {
   "cell_type": "code",
   "execution_count": 27,
   "metadata": {},
   "outputs": [
    {
     "name": "stdout",
     "output_type": "stream",
     "text": [
      "Accuracy of logistic regression classifier on test set: 0.78\n"
     ]
    }
   ],
   "source": [
    "# Accuracy\n",
    "y_pred = diabeteslr.predict(x_test)\n",
    "print('Accuracy of logistic regression classifier on test set:',diabeteslr.score(x_test, y_test))"
   ]
  },
  {
   "cell_type": "code",
   "execution_count": 28,
   "metadata": {},
   "outputs": [
    {
     "name": "stdout",
     "output_type": "stream",
     "text": [
      "[[62 19]\n",
      " [14 55]]\n"
     ]
    },
    {
     "data": {
      "image/png": "[encoded data removed]",
      "text/plain": [
       "<Figure size 432x288 with 2 Axes>"
      ]
     },
     "metadata": {
      "needs_background": "light"
     },
     "output_type": "display_data"
    }
   ],
   "source": [
    "# Print and plot confusion matrix   \n",
    "cm = confusion_matrix(y_test, y_pred)\n",
    "print(cm)\n",
    "plot_confusion_matrix(cm,['0','1'])"
   ]
  },
  {
   "cell_type": "code",
   "execution_count": 29,
   "metadata": {},
   "outputs": [
    {
     "data": {
      "image/png": "[encoded data removed]",
      "text/plain": [
       "<Figure size 432x288 with 1 Axes>"
      ]
     },
     "metadata": {
      "needs_background": "light"
     },
     "output_type": "display_data"
    }
   ],
   "source": [
    "# Plot roc curve\n",
    "plot_roc(y_pred,y_test)"
   ]
  },
  {
   "cell_type": "code",
   "execution_count": 30,
   "metadata": {},
   "outputs": [
    {
     "name": "stdout",
     "output_type": "stream",
     "text": [
      "              precision    recall  f1-score   support\n",
      "\n",
      "           0       0.82      0.77      0.79        81\n",
      "           1       0.74      0.80      0.77        69\n",
      "\n",
      "    accuracy                           0.78       150\n",
      "   macro avg       0.78      0.78      0.78       150\n",
      "weighted avg       0.78      0.78      0.78       150\n",
      "\n"
     ]
    }
   ],
   "source": [
    "# Print Classification Report\n",
    "print(classification_report(y_test,y_pred))"
   ]
  },
  {
   "cell_type": "markdown",
   "metadata": {},
   "source": [
    "# Naive Bayes"
   ]
  },
  {
   "cell_type": "code",
   "execution_count": 31,
   "metadata": {},
   "outputs": [],
   "source": [
    "from sklearn.naive_bayes import BernoulliNB\n",
    "diabetesNB = BernoulliNB()\n",
    "y_pred = diabetesNB.fit(x_train, y_train)\n",
    "y_pred = diabetesNB.predict(x_test)"
   ]
  },
  {
   "cell_type": "code",
   "execution_count": 32,
   "metadata": {},
   "outputs": [
    {
     "name": "stdout",
     "output_type": "stream",
     "text": [
      "Bernoulli Naive Bayes model accuracy on test set: 0.56\n"
     ]
    }
   ],
   "source": [
    "#Acuracy\n",
    "print(\"Bernoulli Naive Bayes model accuracy on test set:\",metrics.accuracy_score(y_test, y_pred))"
   ]
  },
  {
   "cell_type": "code",
   "execution_count": 33,
   "metadata": {},
   "outputs": [
    {
     "name": "stdout",
     "output_type": "stream",
     "text": [
      "[[23 58]\n",
      " [ 8 61]]\n"
     ]
    },
    {
     "data": {
      "image/png": "[encoded data removed]",
      "text/plain": [
       "<Figure size 432x288 with 2 Axes>"
      ]
     },
     "metadata": {
      "needs_background": "light"
     },
     "output_type": "display_data"
    }
   ],
   "source": [
    "cm = confusion_matrix(y_test, y_pred)\n",
    "print(cm)\n",
    "plot_confusion_matrix(cm,['0','1'])"
   ]
  },
  {
   "cell_type": "code",
   "execution_count": 34,
   "metadata": {},
   "outputs": [
    {
     "name": "stdout",
     "output_type": "stream",
     "text": [
      "              precision    recall  f1-score   support\n",
      "\n",
      "           0       0.74      0.28      0.41        81\n",
      "           1       0.51      0.88      0.65        69\n",
      "\n",
      "    accuracy                           0.56       150\n",
      "   macro avg       0.63      0.58      0.53       150\n",
      "weighted avg       0.64      0.56      0.52       150\n",
      "\n"
     ]
    }
   ],
   "source": [
    "print(classification_report(y_test,y_pred))"
   ]
  },
  {
   "cell_type": "code",
   "execution_count": 35,
   "metadata": {},
   "outputs": [
    {
     "data": {
      "image/png": "[encoded data removed]",
      "text/plain": [
       "<Figure size 432x288 with 1 Axes>"
      ]
     },
     "metadata": {
      "needs_background": "light"
     },
     "output_type": "display_data"
    }
   ],
   "source": [
    "plot_roc(y_pred,y_test)"
   ]
  },
  {
   "cell_type": "markdown",
   "metadata": {},
   "source": [
    "# Random Forest"
   ]
  },
  {
   "cell_type": "code",
   "execution_count": 36,
   "metadata": {},
   "outputs": [],
   "source": [
    "from sklearn.ensemble import RandomForestClassifier\n",
    "\n",
    "#Create a Gaussian Classifier\n",
    "diabetesrf = RandomForestClassifier()\n",
    "\n",
    "#Train the model using the training sets y_pred=clf.predict(X_test)\n",
    "diabetesrf.fit(x_train,y_train)\n",
    "\n",
    "y_pred=diabetesrf.predict(x_test)"
   ]
  },
  {
   "cell_type": "code",
   "execution_count": 37,
   "metadata": {},
   "outputs": [
    {
     "name": "stdout",
     "output_type": "stream",
     "text": [
      "Accuracy of Random forest on test set: 0.86\n"
     ]
    }
   ],
   "source": [
    "#Accuracy\n",
    "print(\"Accuracy of Random forest on test set:\",metrics.accuracy_score(y_test, y_pred))"
   ]
  },
  {
   "cell_type": "code",
   "execution_count": 38,
   "metadata": {},
   "outputs": [
    {
     "name": "stdout",
     "output_type": "stream",
     "text": [
      "[[68 13]\n",
      " [ 8 61]]\n"
     ]
    },
    {
     "data": {
      "image/png": "[encoded data removed]",
      "text/plain": [
       "<Figure size 432x288 with 2 Axes>"
      ]
     },
     "metadata": {
      "needs_background": "light"
     },
     "output_type": "display_data"
    }
   ],
   "source": [
    "cm = confusion_matrix(y_test, y_pred)\n",
    "print(cm)\n",
    "plot_confusion_matrix(cm,['0','1'])"
   ]
  },
  {
   "cell_type": "code",
   "execution_count": 39,
   "metadata": {},
   "outputs": [
    {
     "name": "stdout",
     "output_type": "stream",
     "text": [
      "              precision    recall  f1-score   support\n",
      "\n",
      "           0       0.89      0.84      0.87        81\n",
      "           1       0.82      0.88      0.85        69\n",
      "\n",
      "    accuracy                           0.86       150\n",
      "   macro avg       0.86      0.86      0.86       150\n",
      "weighted avg       0.86      0.86      0.86       150\n",
      "\n"
     ]
    }
   ],
   "source": [
    "print(classification_report(y_test,y_pred))"
   ]
  },
  {
   "cell_type": "code",
   "execution_count": 40,
   "metadata": {},
   "outputs": [
    {
     "data": {
      "image/png": "[encoded data removed]",
      "text/plain": [
       "<Figure size 432x288 with 1 Axes>"
      ]
     },
     "metadata": {
      "needs_background": "light"
     },
     "output_type": "display_data"
    }
   ],
   "source": [
    "plot_roc(y_pred,y_test)"
   ]
  },
  {
   "cell_type": "markdown",
   "metadata": {},
   "source": [
    "# XG-Boost"
   ]
  },
  {
   "cell_type": "code",
   "execution_count": 41,
   "metadata": {},
   "outputs": [
    {
     "name": "stdout",
     "output_type": "stream",
     "text": [
      "[19:58:53] WARNING: C:/Users/Administrator/workspace/xgboost-win64_release_1.3.0/src/learner.cc:1061: Starting in XGBoost 1.3.0, the default evaluation metric used with the objective 'binary:logistic' was changed from 'error' to 'logloss'. Explicitly set eval_metric if you'd like to restore the old behavior.\n"
     ]
    },
    {
     "data": {
      "text/plain": [
       "XGBClassifier(base_score=0.5, booster='gbtree', colsample_bylevel=1,\n",
       "              colsample_bynode=1, colsample_bytree=1, gamma=0, gpu_id=-1,\n",
       "              importance_type='gain', interaction_constraints='',\n",
       "              learning_rate=0.300000012, max_delta_step=0, max_depth=6,\n",
       "              min_child_weight=1, missing=nan, monotone_constraints='()',\n",
       "              n_estimators=100, n_jobs=8, num_parallel_tree=1, random_state=0,\n",
       "              reg_alpha=0, reg_lambda=1, scale_pos_weight=1, subsample=1,\n",
       "              tree_method='exact', validate_parameters=1, verbosity=None)"
      ]
     },
     "execution_count": 41,
     "metadata": {},
     "output_type": "execute_result"
    }
   ],
   "source": [
    "from numpy import loadtxt\n",
    "from xgboost import XGBClassifier\n",
    "diabetesxgb=XGBClassifier()\n",
    "diabetesxgb.fit(x_train,y_train)"
   ]
  },
  {
   "cell_type": "code",
   "execution_count": 42,
   "metadata": {},
   "outputs": [],
   "source": [
    "y_pred = diabetesxgb.predict(x_test)\n",
    "predictions = [round(value) for value in y_pred]"
   ]
  },
  {
   "cell_type": "code",
   "execution_count": 43,
   "metadata": {},
   "outputs": [
    {
     "name": "stdout",
     "output_type": "stream",
     "text": [
      "Accuracy for XGBoost on test set: 0.8466666666666667\n"
     ]
    }
   ],
   "source": [
    "accuracy = accuracy_score(y_test, predictions)\n",
    "print(\"Accuracy for XGBoost on test set:\", accuracy)"
   ]
  },
  {
   "cell_type": "code",
   "execution_count": 44,
   "metadata": {},
   "outputs": [
    {
     "name": "stdout",
     "output_type": "stream",
     "text": [
      "              precision    recall  f1-score   support\n",
      "\n",
      "           0       0.88      0.83      0.85        81\n",
      "           1       0.81      0.87      0.84        69\n",
      "\n",
      "    accuracy                           0.85       150\n",
      "   macro avg       0.85      0.85      0.85       150\n",
      "weighted avg       0.85      0.85      0.85       150\n",
      "\n"
     ]
    }
   ],
   "source": [
    "print(classification_report(y_test,y_pred))"
   ]
  },
  {
   "cell_type": "code",
   "execution_count": 45,
   "metadata": {},
   "outputs": [
    {
     "data": {
      "image/png": "[encoded data removed]",
      "text/plain": [
       "<Figure size 432x288 with 1 Axes>"
      ]
     },
     "metadata": {
      "needs_background": "light"
     },
     "output_type": "display_data"
    }
   ],
   "source": [
    "plot_roc(y_pred,y_test)"
   ]
  },
  {
   "cell_type": "markdown",
   "metadata": {},
   "source": [
    "# Neural Network"
   ]
  },
  {
   "cell_type": "code",
   "execution_count": 46,
   "metadata": {},
   "outputs": [
    {
     "name": "stdout",
     "output_type": "stream",
     "text": [
      "Epoch 1/200\n",
      "32/32 - 0s - loss: 0.6802 - accuracy: 0.5447 - val_loss: 0.6678 - val_accuracy: 0.6432\n",
      "\n",
      "Epoch 00001: val_loss improved from inf to 0.66779, saving model to .weights.hdf5\n",
      "Epoch 2/200\n",
      "32/32 - 0s - loss: 0.6476 - accuracy: 0.6358 - val_loss: 0.6510 - val_accuracy: 0.6573\n",
      "\n",
      "Epoch 00002: val_loss improved from 0.66779 to 0.65102, saving model to .weights.hdf5\n",
      "Epoch 3/200\n",
      "32/32 - 0s - loss: 0.6202 - accuracy: 0.6907 - val_loss: 0.6221 - val_accuracy: 0.6854\n",
      "\n",
      "Epoch 00003: val_loss improved from 0.65102 to 0.62207, saving model to .weights.hdf5\n",
      "Epoch 4/200\n",
      "32/32 - 0s - loss: 0.5981 - accuracy: 0.7049 - val_loss: 0.6072 - val_accuracy: 0.6901\n",
      "\n",
      "Epoch 00004: val_loss improved from 0.62207 to 0.60723, saving model to .weights.hdf5\n",
      "Epoch 5/200\n",
      "32/32 - 0s - loss: 0.5864 - accuracy: 0.7096 - val_loss: 0.5905 - val_accuracy: 0.6995\n",
      "\n",
      "Epoch 00005: val_loss improved from 0.60723 to 0.59052, saving model to .weights.hdf5\n",
      "Epoch 6/200\n",
      "32/32 - 0s - loss: 0.5792 - accuracy: 0.7190 - val_loss: 0.5818 - val_accuracy: 0.6667\n",
      "\n",
      "Epoch 00006: val_loss improved from 0.59052 to 0.58177, saving model to .weights.hdf5\n",
      "Epoch 7/200\n",
      "32/32 - 0s - loss: 0.5659 - accuracy: 0.7410 - val_loss: 0.5665 - val_accuracy: 0.7042\n",
      "\n",
      "Epoch 00007: val_loss improved from 0.58177 to 0.56647, saving model to .weights.hdf5\n",
      "Epoch 8/200\n",
      "32/32 - 0s - loss: 0.5591 - accuracy: 0.7190 - val_loss: 0.5589 - val_accuracy: 0.6948\n",
      "\n",
      "Epoch 00008: val_loss improved from 0.56647 to 0.55886, saving model to .weights.hdf5\n",
      "Epoch 9/200\n",
      "32/32 - 0s - loss: 0.5455 - accuracy: 0.7378 - val_loss: 0.5677 - val_accuracy: 0.6995\n",
      "\n",
      "Epoch 00009: val_loss did not improve from 0.55886\n",
      "Epoch 10/200\n",
      "32/32 - 0s - loss: 0.5408 - accuracy: 0.7268 - val_loss: 0.5518 - val_accuracy: 0.7230\n",
      "\n",
      "Epoch 00010: val_loss improved from 0.55886 to 0.55179, saving model to .weights.hdf5\n",
      "Epoch 11/200\n",
      "32/32 - 0s - loss: 0.5352 - accuracy: 0.7316 - val_loss: 0.5468 - val_accuracy: 0.7136\n",
      "\n",
      "Epoch 00011: val_loss improved from 0.55179 to 0.54677, saving model to .weights.hdf5\n",
      "Epoch 12/200\n",
      "32/32 - 0s - loss: 0.5325 - accuracy: 0.7378 - val_loss: 0.5302 - val_accuracy: 0.7465\n",
      "\n",
      "Epoch 00012: val_loss improved from 0.54677 to 0.53025, saving model to .weights.hdf5\n",
      "Epoch 13/200\n",
      "32/32 - 0s - loss: 0.5227 - accuracy: 0.7441 - val_loss: 0.5270 - val_accuracy: 0.7512\n",
      "\n",
      "Epoch 00013: val_loss improved from 0.53025 to 0.52704, saving model to .weights.hdf5\n",
      "Epoch 14/200\n",
      "32/32 - 0s - loss: 0.5222 - accuracy: 0.7410 - val_loss: 0.5288 - val_accuracy: 0.7230\n",
      "\n",
      "Epoch 00014: val_loss did not improve from 0.52704\n",
      "Epoch 15/200\n",
      "32/32 - 0s - loss: 0.5176 - accuracy: 0.7394 - val_loss: 0.5279 - val_accuracy: 0.7324\n",
      "\n",
      "Epoch 00015: val_loss did not improve from 0.52704\n",
      "Epoch 16/200\n",
      "32/32 - 0s - loss: 0.5124 - accuracy: 0.7441 - val_loss: 0.5261 - val_accuracy: 0.7512\n",
      "\n",
      "Epoch 00016: val_loss improved from 0.52704 to 0.52615, saving model to .weights.hdf5\n",
      "Epoch 17/200\n",
      "32/32 - 0s - loss: 0.5098 - accuracy: 0.7441 - val_loss: 0.5202 - val_accuracy: 0.7418\n",
      "\n",
      "Epoch 00017: val_loss improved from 0.52615 to 0.52018, saving model to .weights.hdf5\n",
      "Epoch 18/200\n",
      "32/32 - 0s - loss: 0.5173 - accuracy: 0.7347 - val_loss: 0.5181 - val_accuracy: 0.7324\n",
      "\n",
      "Epoch 00018: val_loss improved from 0.52018 to 0.51814, saving model to .weights.hdf5\n",
      "Epoch 19/200\n",
      "32/32 - 0s - loss: 0.5107 - accuracy: 0.7331 - val_loss: 0.5160 - val_accuracy: 0.7418\n",
      "\n",
      "Epoch 00019: val_loss improved from 0.51814 to 0.51604, saving model to .weights.hdf5\n",
      "Epoch 20/200\n",
      "32/32 - 0s - loss: 0.5066 - accuracy: 0.7363 - val_loss: 0.5172 - val_accuracy: 0.7418\n",
      "\n",
      "Epoch 00020: val_loss did not improve from 0.51604\n",
      "Epoch 21/200\n",
      "32/32 - 0s - loss: 0.4999 - accuracy: 0.7504 - val_loss: 0.5168 - val_accuracy: 0.7512\n",
      "\n",
      "Epoch 00021: val_loss did not improve from 0.51604\n",
      "Epoch 22/200\n",
      "32/32 - 0s - loss: 0.5150 - accuracy: 0.7347 - val_loss: 0.5101 - val_accuracy: 0.7418\n",
      "\n",
      "Epoch 00022: val_loss improved from 0.51604 to 0.51014, saving model to .weights.hdf5\n",
      "Epoch 23/200\n",
      "32/32 - 0s - loss: 0.5069 - accuracy: 0.7331 - val_loss: 0.5124 - val_accuracy: 0.7465\n",
      "\n",
      "Epoch 00023: val_loss did not improve from 0.51014\n",
      "Epoch 24/200\n",
      "32/32 - 0s - loss: 0.5001 - accuracy: 0.7582 - val_loss: 0.5088 - val_accuracy: 0.7418\n",
      "\n",
      "Epoch 00024: val_loss improved from 0.51014 to 0.50878, saving model to .weights.hdf5\n",
      "Epoch 25/200\n",
      "32/32 - 0s - loss: 0.4908 - accuracy: 0.7567 - val_loss: 0.5124 - val_accuracy: 0.7606\n",
      "\n",
      "Epoch 00025: val_loss did not improve from 0.50878\n",
      "Epoch 26/200\n",
      "32/32 - 0s - loss: 0.4973 - accuracy: 0.7551 - val_loss: 0.5201 - val_accuracy: 0.7371\n",
      "\n",
      "Epoch 00026: val_loss did not improve from 0.50878\n",
      "Epoch 27/200\n",
      "32/32 - 0s - loss: 0.4952 - accuracy: 0.7473 - val_loss: 0.5322 - val_accuracy: 0.7606\n",
      "\n",
      "Epoch 00027: val_loss did not improve from 0.50878\n",
      "Epoch 28/200\n",
      "32/32 - 0s - loss: 0.4940 - accuracy: 0.7473 - val_loss: 0.5077 - val_accuracy: 0.7512\n",
      "\n",
      "Epoch 00028: val_loss improved from 0.50878 to 0.50774, saving model to .weights.hdf5\n",
      "Epoch 29/200\n",
      "32/32 - 0s - loss: 0.4945 - accuracy: 0.7394 - val_loss: 0.5114 - val_accuracy: 0.7559\n",
      "\n",
      "Epoch 00029: val_loss did not improve from 0.50774\n",
      "Epoch 30/200\n",
      "32/32 - 0s - loss: 0.4910 - accuracy: 0.7473 - val_loss: 0.5186 - val_accuracy: 0.7559\n",
      "\n",
      "Epoch 00030: val_loss did not improve from 0.50774\n",
      "Epoch 31/200\n",
      "32/32 - 0s - loss: 0.4878 - accuracy: 0.7614 - val_loss: 0.5130 - val_accuracy: 0.7559\n",
      "\n",
      "Epoch 00031: val_loss did not improve from 0.50774\n",
      "Epoch 32/200\n",
      "32/32 - 0s - loss: 0.4876 - accuracy: 0.7598 - val_loss: 0.5112 - val_accuracy: 0.7653\n",
      "\n",
      "Epoch 00032: val_loss did not improve from 0.50774\n",
      "Epoch 33/200\n",
      "32/32 - 0s - loss: 0.4831 - accuracy: 0.7598 - val_loss: 0.5079 - val_accuracy: 0.7653\n",
      "\n",
      "Epoch 00033: val_loss did not improve from 0.50774\n",
      "Epoch 34/200\n",
      "32/32 - 0s - loss: 0.4888 - accuracy: 0.7488 - val_loss: 0.5308 - val_accuracy: 0.7559\n",
      "\n",
      "Epoch 00034: val_loss did not improve from 0.50774\n",
      "Epoch 35/200\n",
      "32/32 - 0s - loss: 0.4979 - accuracy: 0.7661 - val_loss: 0.5106 - val_accuracy: 0.7559\n",
      "\n",
      "Epoch 00035: val_loss did not improve from 0.50774\n",
      "Epoch 36/200\n",
      "32/32 - 0s - loss: 0.4852 - accuracy: 0.7567 - val_loss: 0.5118 - val_accuracy: 0.7653\n",
      "\n",
      "Epoch 00036: val_loss did not improve from 0.50774\n",
      "Epoch 37/200\n",
      "32/32 - 0s - loss: 0.4846 - accuracy: 0.7598 - val_loss: 0.5102 - val_accuracy: 0.7653\n",
      "\n",
      "Epoch 00037: val_loss did not improve from 0.50774\n",
      "Epoch 38/200\n",
      "32/32 - 0s - loss: 0.4851 - accuracy: 0.7582 - val_loss: 0.5136 - val_accuracy: 0.7653\n",
      "\n",
      "Epoch 00038: val_loss did not improve from 0.50774\n",
      "Epoch 39/200\n",
      "32/32 - 0s - loss: 0.4821 - accuracy: 0.7692 - val_loss: 0.5291 - val_accuracy: 0.7559\n",
      "\n",
      "Epoch 00039: val_loss did not improve from 0.50774\n",
      "Epoch 40/200\n",
      "32/32 - 0s - loss: 0.4898 - accuracy: 0.7645 - val_loss: 0.5195 - val_accuracy: 0.7700\n",
      "\n",
      "Epoch 00040: val_loss did not improve from 0.50774\n",
      "Epoch 41/200\n",
      "32/32 - 0s - loss: 0.4848 - accuracy: 0.7614 - val_loss: 0.5414 - val_accuracy: 0.7559\n",
      "\n",
      "Epoch 00041: val_loss did not improve from 0.50774\n",
      "Epoch 42/200\n",
      "32/32 - 0s - loss: 0.4823 - accuracy: 0.7645 - val_loss: 0.5131 - val_accuracy: 0.7793\n",
      "\n",
      "Epoch 00042: val_loss did not improve from 0.50774\n",
      "Epoch 43/200\n",
      "32/32 - 0s - loss: 0.4857 - accuracy: 0.7582 - val_loss: 0.5293 - val_accuracy: 0.7653\n",
      "\n",
      "Epoch 00043: val_loss did not improve from 0.50774\n",
      "Epoch 44/200\n",
      "32/32 - 0s - loss: 0.4871 - accuracy: 0.7551 - val_loss: 0.5174 - val_accuracy: 0.7746\n",
      "\n",
      "Epoch 00044: val_loss did not improve from 0.50774\n",
      "Epoch 45/200\n",
      "32/32 - 0s - loss: 0.4804 - accuracy: 0.7724 - val_loss: 0.5183 - val_accuracy: 0.7653\n",
      "\n",
      "Epoch 00045: val_loss did not improve from 0.50774\n",
      "Epoch 46/200\n",
      "32/32 - 0s - loss: 0.4823 - accuracy: 0.7724 - val_loss: 0.5351 - val_accuracy: 0.7183\n",
      "\n",
      "Epoch 00046: val_loss did not improve from 0.50774\n",
      "Epoch 47/200\n",
      "32/32 - 0s - loss: 0.4874 - accuracy: 0.7661 - val_loss: 0.5204 - val_accuracy: 0.7324\n",
      "\n",
      "Epoch 00047: val_loss did not improve from 0.50774\n",
      "Epoch 48/200\n",
      "32/32 - 0s - loss: 0.4865 - accuracy: 0.7582 - val_loss: 0.5138 - val_accuracy: 0.7653\n",
      "\n",
      "Epoch 00048: val_loss did not improve from 0.50774\n",
      "Epoch 00048: early stopping\n"
     ]
    },
    {
     "data": {
      "text/plain": [
       "<tensorflow.python.keras.callbacks.History at 0x139e5c3ac70>"
      ]
     },
     "execution_count": 46,
     "metadata": {},
     "output_type": "execute_result"
    }
   ],
   "source": [
    "diabetesnnmodel = Sequential()\n",
    "diabetesnnmodel.add(Dense(64, input_dim=x_train.shape[1], activation='tanh'))\n",
    "diabetesnnmodel.add(Dense(32, activation='tanh'))\n",
    "diabetesnnmodel.add(Dense(16, activation='tanh'))\n",
    "diabetesnnmodel.add(Dense(1, activation='sigmoid'))\n",
    "\n",
    "diabetesnnmodel.compile(loss='binary_crossentropy', optimizer='adam', metrics=['accuracy'])\n",
    "\n",
    "monitor = EarlyStopping(monitor='val_loss', min_delta=1e-3, patience=20, \n",
    "                        verbose=2, mode='min')\n",
    "\n",
    "# chckpt = ModelCheckpoint(filepath='.weights.hdf5', verbose=1, save_best_only=True)\n",
    "\n",
    "diabetesnnmodel.fit(x_train,y_train,verbose=2,epochs=200, batch_size=20, callbacks=[monitor], validation_split=0.25)"
   ]
  },
  {
   "cell_type": "code",
   "execution_count": 47,
   "metadata": {},
   "outputs": [
    {
     "name": "stdout",
     "output_type": "stream",
     "text": [
      "Model: \"sequential\"\n",
      "_________________________________________________________________\n",
      "Layer (type)                 Output Shape              Param #   \n",
      "=================================================================\n",
      "dense (Dense)                (None, 64)                448       \n",
      "_________________________________________________________________\n",
      "dense_1 (Dense)              (None, 32)                2080      \n",
      "_________________________________________________________________\n",
      "dense_2 (Dense)              (None, 16)                528       \n",
      "_________________________________________________________________\n",
      "dense_3 (Dense)              (None, 1)                 17        \n",
      "=================================================================\n",
      "Total params: 3,073\n",
      "Trainable params: 3,073\n",
      "Non-trainable params: 0\n",
      "_________________________________________________________________\n"
     ]
    }
   ],
   "source": [
    "diabetesnnmodel.summary()"
   ]
  },
  {
   "cell_type": "code",
   "execution_count": 48,
   "metadata": {},
   "outputs": [],
   "source": [
    "y_pred = diabetesnnmodel.predict(x_test)"
   ]
  },
  {
   "cell_type": "code",
   "execution_count": 49,
   "metadata": {},
   "outputs": [
    {
     "data": {
      "text/plain": [
       "[1, 1, 1, 0, 0, 1, 0, 1, 1, 0]"
      ]
     },
     "execution_count": 49,
     "metadata": {},
     "output_type": "execute_result"
    }
   ],
   "source": [
    "argmax = []\n",
    "for val in y_pred:\n",
    "    if val >= 0.5:\n",
    "      argmax.append(1)\n",
    "    else:\n",
    "        argmax.append(0)\n",
    "argmax[:10]"
   ]
  },
  {
   "cell_type": "code",
   "execution_count": 50,
   "metadata": {},
   "outputs": [
    {
     "name": "stdout",
     "output_type": "stream",
     "text": [
      "Accuracy for neural network on test set: 0.8\n"
     ]
    }
   ],
   "source": [
    "accuracy = accuracy_score(y_test,argmax)\n",
    "print(\"Accuracy for neural network on test set:\", accuracy)"
   ]
  },
  {
   "cell_type": "code",
   "execution_count": 51,
   "metadata": {},
   "outputs": [
    {
     "name": "stdout",
     "output_type": "stream",
     "text": [
      "[[62 19]\n",
      " [11 58]]\n"
     ]
    },
    {
     "data": {
      "image/png": "[encoded data removed]",
      "text/plain": [
       "<Figure size 432x288 with 2 Axes>"
      ]
     },
     "metadata": {
      "needs_background": "light"
     },
     "output_type": "display_data"
    }
   ],
   "source": [
    "cm = confusion_matrix(y_test, argmax)\n",
    "print(cm)\n",
    "plot_confusion_matrix(cm,['0','1'])"
   ]
  },
  {
   "cell_type": "code",
   "execution_count": 52,
   "metadata": {},
   "outputs": [
    {
     "data": {
      "image/png": "[encoded data removed]",
      "text/plain": [
       "<Figure size 432x288 with 1 Axes>"
      ]
     },
     "metadata": {
      "needs_background": "light"
     },
     "output_type": "display_data"
    }
   ],
   "source": [
    "plot_roc(argmax,y_test)"
   ]
  },
  {
   "cell_type": "markdown",
   "metadata": {},
   "source": [
    "# SAVING MODEL"
   ]
  },
  {
   "cell_type": "code",
   "execution_count": 53,
   "metadata": {},
   "outputs": [],
   "source": [
    "import pickle\n",
    "pickle.dump(diabetesrf,open(\"C:/Users/prera/Desktop/FINALPROJECT/models/diabetes_model.pkl\",\"wb\"))"
   ]
  },
  {
   "cell_type": "code",
   "execution_count": 54,
   "metadata": {},
   "outputs": [],
   "source": [
    "x_test_1=np.array(x_test_1)"
   ]
  },
  {
   "cell_type": "code",
   "execution_count": 55,
   "metadata": {},
   "outputs": [],
   "source": [
    "x_test_1+=.15"
   ]
  },
  {
   "cell_type": "code",
   "execution_count": 56,
   "metadata": {},
   "outputs": [
    {
     "name": "stdout",
     "output_type": "stream",
     "text": [
      "[0.09837409 0.90162591]\n"
     ]
    }
   ],
   "source": [
    "# x_test_1=x_test[1,]\n",
    "\n",
    "# x_test_1=x_test_1.reshape(1,-1)\n",
    "\n",
    "# x_test_1\n",
    "import pickle\n",
    "model=pickle.load(open(\"C:/Users/prera/Desktop/Project/Diabetes_API/diabetes_model.pkl\",\"rb\"))\n",
    "result = model.predict_proba(x_test_1)\n",
    "print(result[0])\n"
   ]
  },
  {
   "cell_type": "code",
   "execution_count": 57,
   "metadata": {},
   "outputs": [
    {
     "data": {
      "text/plain": [
       "dtype('float64')"
      ]
     },
     "execution_count": 57,
     "metadata": {},
     "output_type": "execute_result"
    }
   ],
   "source": [
    "result.dtype"
   ]
  },
  {
   "cell_type": "code",
   "execution_count": 58,
   "metadata": {},
   "outputs": [
    {
     "data": {
      "text/plain": [
       "0"
      ]
     },
     "execution_count": 58,
     "metadata": {},
     "output_type": "execute_result"
    }
   ],
   "source": [
    "np.argmax(model.predict(x_test_1))"
   ]
  },
  {
   "cell_type": "markdown",
   "metadata": {},
   "source": [
    "# NN save"
   ]
  },
  {
   "cell_type": "code",
   "execution_count": 59,
   "metadata": {},
   "outputs": [],
   "source": [
    "# diabetesnnmodel.save(\"diabetes.h5\")"
   ]
  },
  {
   "cell_type": "code",
   "execution_count": null,
   "metadata": {},
   "outputs": [],
   "source": [
    "# model = load_model('diabetes.h5')\n",
    "# # summarize model.\n",
    "# model.summary()\n",
    "# score = model.evaluate(x_test, y_test, verbose=0)\n",
    "# # print(\"%s: %.2f%%\" % (model.metrics_names[1], score[1]*100))\n",
    "# resultnn=model.predict_proba(x_test_1)\n",
    "# print(resultnn)"
   ]
  },
  {
   "cell_type": "code",
   "execution_count": null,
   "metadata": {},
   "outputs": [],
   "source": []
  }
 ],
 "metadata": {
  "interpreter": {
   "hash": "ac59ebe37160ed0dfa835113d9b8498d9f09ceb179beaac4002f036b9467c963"
  },
  "kernelspec": {
   "display_name": "Python 3.9.7 64-bit",
   "name": "python3"
  },
  "language_info": {
   "codemirror_mode": {
    "name": "ipython",
    "version": 3
   },
   "file_extension": ".py",
   "mimetype": "text/x-python",
   "name": "python",
   "nbconvert_exporter": "python",
   "pygments_lexer": "ipython3",
   "version": "3.9.7"
  }
 },
 "nbformat": 4,
 "nbformat_minor": 4
}
