{
 "cells": [
  {
   "cell_type": "code",
   "execution_count": 1,
   "source": [
    "import pandas as pd\r\n",
    "import numpy as np\r\n",
    "import matplotlib.pyplot as plt\r\n",
    "import seaborn as sns\r\n",
    "import imblearn\r\n",
    "from imblearn.over_sampling import SMOTE\r\n",
    "from collections import Counter\r\n",
    "from sklearn.datasets import make_classification\r\n",
    "from imblearn.over_sampling import RandomOverSampler\r\n",
    "from imblearn.under_sampling import RandomUnderSampler\r\n",
    "from sklearn.impute import KNNImputer\r\n",
    "from sklearn.experimental import enable_iterative_imputer\r\n",
    "from sklearn.impute import IterativeImputer\r\n",
    "from sklearn.preprocessing import power_transform\r\n",
    "from sklearn.preprocessing import MinMaxScaler,StandardScaler\r\n",
    "from sklearn import metrics\r\n",
    "from sklearn.metrics import roc_curve, auc \r\n",
    "from sklearn.metrics import accuracy_score\r\n",
    "from sklearn.metrics import confusion_matrix\r\n",
    "from sklearn.metrics import classification_report\r\n",
    "from sklearn.model_selection import train_test_split\r\n",
    "from sklearn.linear_model import LogisticRegression\r\n",
    "from sklearn.model_selection import cross_val_score\r\n",
    "import tensorflow as tf\r\n",
    "from tensorflow.keras.models import Sequential\r\n",
    "from tensorflow.keras.layers import Dense, Activation\r\n",
    "from tensorflow.keras.callbacks import EarlyStopping, ModelCheckpoint\r\n",
    "from numpy import loadtxt\r\n",
    "from keras.models import load_model\r\n",
    "%matplotlib inline\r\n",
    "import warnings\r\n",
    "warnings.filterwarnings(\"ignore\")"
   ],
   "outputs": [
    {
     "output_type": "stream",
     "name": "stdout",
     "text": [
      "INFO:tensorflow:Enabling eager execution\n",
      "INFO:tensorflow:Enabling v2 tensorshape\n",
      "INFO:tensorflow:Enabling resource variables\n",
      "INFO:tensorflow:Enabling tensor equality\n",
      "INFO:tensorflow:Enabling control flow v2\n"
     ]
    }
   ],
   "metadata": {}
  },
  {
   "cell_type": "code",
   "execution_count": 2,
   "source": [
    "def plot_confusion_matrix(cm, names, title='Confusion matrix', cmap=plt.cm.Blues):\r\n",
    "    plt.figure()\r\n",
    "    plt.imshow(cm, interpolation='nearest', cmap=cmap)\r\n",
    "    plt.title(title)\r\n",
    "    plt.colorbar()\r\n",
    "    tick_marks = np.arange(len(names))\r\n",
    "    plt.xticks(tick_marks, names, rotation=45)\r\n",
    "    plt.yticks(tick_marks, names)\r\n",
    "    plt.tight_layout()\r\n",
    "    plt.ylabel('True label')\r\n",
    "    plt.xlabel('Predicted label')\r\n",
    "    plt.show()\r\n",
    "    \r\n",
    "\r\n",
    "# Plot an ROC. pred - the predictions, y - the expected output.\r\n",
    "def plot_roc(pred,y):\r\n",
    "    fpr, tpr, thresholds = roc_curve(y, pred)\r\n",
    "    roc_auc = auc(fpr, tpr)\r\n",
    "\r\n",
    "    plt.figure()\r\n",
    "    plt.plot(fpr, tpr, label='ROC curve (area = %0.2f)' % roc_auc)\r\n",
    "    plt.plot([0, 1], [0, 1], 'k--')\r\n",
    "    plt.xlim([0.0, 1.0])\r\n",
    "    plt.ylim([0.0, 1.05])\r\n",
    "    plt.xlabel('False Positive Rate')\r\n",
    "    plt.ylabel('True Positive Rate')\r\n",
    "    plt.title('Receiver Operating Characteristic (ROC)')\r\n",
    "    plt.legend(loc=\"lower right\")\r\n",
    "    plt.show()"
   ],
   "outputs": [],
   "metadata": {}
  },
  {
   "cell_type": "code",
   "execution_count": 3,
   "source": [
    "import warnings\r\n",
    "warnings.filterwarnings(\"ignore\")"
   ],
   "outputs": [],
   "metadata": {}
  },
  {
   "cell_type": "code",
   "execution_count": 4,
   "source": [
    "df = pd.read_csv(r\"C:/Users/prera/Desktop/FINALPROJECT/data/liver_disease.csv\")"
   ],
   "outputs": [],
   "metadata": {}
  },
  {
   "cell_type": "code",
   "execution_count": 5,
   "source": [
    "df.head(10)"
   ],
   "outputs": [
    {
     "output_type": "execute_result",
     "data": {
      "text/html": [
       "<div>\n",
       "<style scoped>\n",
       "    .dataframe tbody tr th:only-of-type {\n",
       "        vertical-align: middle;\n",
       "    }\n",
       "\n",
       "    .dataframe tbody tr th {\n",
       "        vertical-align: top;\n",
       "    }\n",
       "\n",
       "    .dataframe thead th {\n",
       "        text-align: right;\n",
       "    }\n",
       "</style>\n",
       "<table border=\"1\" class=\"dataframe\">\n",
       "  <thead>\n",
       "    <tr style=\"text-align: right;\">\n",
       "      <th></th>\n",
       "      <th>Age</th>\n",
       "      <th>Gender</th>\n",
       "      <th>Total_Bilirubin</th>\n",
       "      <th>Direct_Bilirubin</th>\n",
       "      <th>Alkaline_Phosphotase</th>\n",
       "      <th>Alamine_Aminotransferase</th>\n",
       "      <th>Aspartate_Aminotransferase</th>\n",
       "      <th>Total_Protiens</th>\n",
       "      <th>Albumin</th>\n",
       "      <th>Albumin_and_Globulin_Ratio</th>\n",
       "      <th>Dataset</th>\n",
       "    </tr>\n",
       "  </thead>\n",
       "  <tbody>\n",
       "    <tr>\n",
       "      <th>0</th>\n",
       "      <td>65</td>\n",
       "      <td>Female</td>\n",
       "      <td>0.7</td>\n",
       "      <td>0.1</td>\n",
       "      <td>187</td>\n",
       "      <td>16</td>\n",
       "      <td>18</td>\n",
       "      <td>6.8</td>\n",
       "      <td>3.3</td>\n",
       "      <td>0.90</td>\n",
       "      <td>1</td>\n",
       "    </tr>\n",
       "    <tr>\n",
       "      <th>1</th>\n",
       "      <td>62</td>\n",
       "      <td>Male</td>\n",
       "      <td>10.9</td>\n",
       "      <td>5.5</td>\n",
       "      <td>699</td>\n",
       "      <td>64</td>\n",
       "      <td>100</td>\n",
       "      <td>7.5</td>\n",
       "      <td>3.2</td>\n",
       "      <td>0.74</td>\n",
       "      <td>1</td>\n",
       "    </tr>\n",
       "    <tr>\n",
       "      <th>2</th>\n",
       "      <td>62</td>\n",
       "      <td>Male</td>\n",
       "      <td>7.3</td>\n",
       "      <td>4.1</td>\n",
       "      <td>490</td>\n",
       "      <td>60</td>\n",
       "      <td>68</td>\n",
       "      <td>7.0</td>\n",
       "      <td>3.3</td>\n",
       "      <td>0.89</td>\n",
       "      <td>1</td>\n",
       "    </tr>\n",
       "    <tr>\n",
       "      <th>3</th>\n",
       "      <td>58</td>\n",
       "      <td>Male</td>\n",
       "      <td>1.0</td>\n",
       "      <td>0.4</td>\n",
       "      <td>182</td>\n",
       "      <td>14</td>\n",
       "      <td>20</td>\n",
       "      <td>6.8</td>\n",
       "      <td>3.4</td>\n",
       "      <td>1.00</td>\n",
       "      <td>1</td>\n",
       "    </tr>\n",
       "    <tr>\n",
       "      <th>4</th>\n",
       "      <td>72</td>\n",
       "      <td>Male</td>\n",
       "      <td>3.9</td>\n",
       "      <td>2.0</td>\n",
       "      <td>195</td>\n",
       "      <td>27</td>\n",
       "      <td>59</td>\n",
       "      <td>7.3</td>\n",
       "      <td>2.4</td>\n",
       "      <td>0.40</td>\n",
       "      <td>1</td>\n",
       "    </tr>\n",
       "    <tr>\n",
       "      <th>5</th>\n",
       "      <td>46</td>\n",
       "      <td>Male</td>\n",
       "      <td>1.8</td>\n",
       "      <td>0.7</td>\n",
       "      <td>208</td>\n",
       "      <td>19</td>\n",
       "      <td>14</td>\n",
       "      <td>7.6</td>\n",
       "      <td>4.4</td>\n",
       "      <td>1.30</td>\n",
       "      <td>1</td>\n",
       "    </tr>\n",
       "    <tr>\n",
       "      <th>6</th>\n",
       "      <td>26</td>\n",
       "      <td>Female</td>\n",
       "      <td>0.9</td>\n",
       "      <td>0.2</td>\n",
       "      <td>154</td>\n",
       "      <td>16</td>\n",
       "      <td>12</td>\n",
       "      <td>7.0</td>\n",
       "      <td>3.5</td>\n",
       "      <td>1.00</td>\n",
       "      <td>1</td>\n",
       "    </tr>\n",
       "    <tr>\n",
       "      <th>7</th>\n",
       "      <td>29</td>\n",
       "      <td>Female</td>\n",
       "      <td>0.9</td>\n",
       "      <td>0.3</td>\n",
       "      <td>202</td>\n",
       "      <td>14</td>\n",
       "      <td>11</td>\n",
       "      <td>6.7</td>\n",
       "      <td>3.6</td>\n",
       "      <td>1.10</td>\n",
       "      <td>1</td>\n",
       "    </tr>\n",
       "    <tr>\n",
       "      <th>8</th>\n",
       "      <td>17</td>\n",
       "      <td>Male</td>\n",
       "      <td>0.9</td>\n",
       "      <td>0.3</td>\n",
       "      <td>202</td>\n",
       "      <td>22</td>\n",
       "      <td>19</td>\n",
       "      <td>7.4</td>\n",
       "      <td>4.1</td>\n",
       "      <td>1.20</td>\n",
       "      <td>2</td>\n",
       "    </tr>\n",
       "    <tr>\n",
       "      <th>9</th>\n",
       "      <td>55</td>\n",
       "      <td>Male</td>\n",
       "      <td>0.7</td>\n",
       "      <td>0.2</td>\n",
       "      <td>290</td>\n",
       "      <td>53</td>\n",
       "      <td>58</td>\n",
       "      <td>6.8</td>\n",
       "      <td>3.4</td>\n",
       "      <td>1.00</td>\n",
       "      <td>1</td>\n",
       "    </tr>\n",
       "  </tbody>\n",
       "</table>\n",
       "</div>"
      ],
      "text/plain": [
       "   Age  Gender  Total_Bilirubin  Direct_Bilirubin  Alkaline_Phosphotase  \\\n",
       "0   65  Female              0.7               0.1                   187   \n",
       "1   62    Male             10.9               5.5                   699   \n",
       "2   62    Male              7.3               4.1                   490   \n",
       "3   58    Male              1.0               0.4                   182   \n",
       "4   72    Male              3.9               2.0                   195   \n",
       "5   46    Male              1.8               0.7                   208   \n",
       "6   26  Female              0.9               0.2                   154   \n",
       "7   29  Female              0.9               0.3                   202   \n",
       "8   17    Male              0.9               0.3                   202   \n",
       "9   55    Male              0.7               0.2                   290   \n",
       "\n",
       "   Alamine_Aminotransferase  Aspartate_Aminotransferase  Total_Protiens  \\\n",
       "0                        16                          18             6.8   \n",
       "1                        64                         100             7.5   \n",
       "2                        60                          68             7.0   \n",
       "3                        14                          20             6.8   \n",
       "4                        27                          59             7.3   \n",
       "5                        19                          14             7.6   \n",
       "6                        16                          12             7.0   \n",
       "7                        14                          11             6.7   \n",
       "8                        22                          19             7.4   \n",
       "9                        53                          58             6.8   \n",
       "\n",
       "   Albumin  Albumin_and_Globulin_Ratio  Dataset  \n",
       "0      3.3                        0.90        1  \n",
       "1      3.2                        0.74        1  \n",
       "2      3.3                        0.89        1  \n",
       "3      3.4                        1.00        1  \n",
       "4      2.4                        0.40        1  \n",
       "5      4.4                        1.30        1  \n",
       "6      3.5                        1.00        1  \n",
       "7      3.6                        1.10        1  \n",
       "8      4.1                        1.20        2  \n",
       "9      3.4                        1.00        1  "
      ]
     },
     "metadata": {},
     "execution_count": 5
    }
   ],
   "metadata": {
    "scrolled": true
   }
  },
  {
   "cell_type": "code",
   "execution_count": 6,
   "source": [
    "df.shape"
   ],
   "outputs": [
    {
     "output_type": "execute_result",
     "data": {
      "text/plain": [
       "(583, 11)"
      ]
     },
     "metadata": {},
     "execution_count": 6
    }
   ],
   "metadata": {}
  },
  {
   "cell_type": "code",
   "execution_count": 7,
   "source": [
    "df.columns"
   ],
   "outputs": [
    {
     "output_type": "execute_result",
     "data": {
      "text/plain": [
       "Index(['Age', 'Gender', 'Total_Bilirubin', 'Direct_Bilirubin',\n",
       "       'Alkaline_Phosphotase', 'Alamine_Aminotransferase',\n",
       "       'Aspartate_Aminotransferase', 'Total_Protiens', 'Albumin',\n",
       "       'Albumin_and_Globulin_Ratio', 'Dataset'],\n",
       "      dtype='object')"
      ]
     },
     "metadata": {},
     "execution_count": 7
    }
   ],
   "metadata": {}
  },
  {
   "cell_type": "code",
   "execution_count": 8,
   "source": [
    "col_dict={\"Dataset\":\"classification\"}\r\n",
    "\r\n",
    "df.rename(columns=col_dict, inplace=True)"
   ],
   "outputs": [],
   "metadata": {}
  },
  {
   "cell_type": "code",
   "execution_count": 9,
   "source": [
    "df.info()"
   ],
   "outputs": [
    {
     "output_type": "stream",
     "name": "stdout",
     "text": [
      "<class 'pandas.core.frame.DataFrame'>\n",
      "RangeIndex: 583 entries, 0 to 582\n",
      "Data columns (total 11 columns):\n",
      " #   Column                      Non-Null Count  Dtype  \n",
      "---  ------                      --------------  -----  \n",
      " 0   Age                         583 non-null    int64  \n",
      " 1   Gender                      583 non-null    object \n",
      " 2   Total_Bilirubin             583 non-null    float64\n",
      " 3   Direct_Bilirubin            583 non-null    float64\n",
      " 4   Alkaline_Phosphotase        583 non-null    int64  \n",
      " 5   Alamine_Aminotransferase    583 non-null    int64  \n",
      " 6   Aspartate_Aminotransferase  583 non-null    int64  \n",
      " 7   Total_Protiens              583 non-null    float64\n",
      " 8   Albumin                     583 non-null    float64\n",
      " 9   Albumin_and_Globulin_Ratio  579 non-null    float64\n",
      " 10  classification              583 non-null    int64  \n",
      "dtypes: float64(5), int64(5), object(1)\n",
      "memory usage: 50.2+ KB\n"
     ]
    }
   ],
   "metadata": {}
  },
  {
   "cell_type": "code",
   "execution_count": 10,
   "source": [
    "for i in df.columns:\r\n",
    "    print(f'{i} : {df[i].nunique()} values')"
   ],
   "outputs": [
    {
     "output_type": "stream",
     "name": "stdout",
     "text": [
      "Age : 72 values\n",
      "Gender : 2 values\n",
      "Total_Bilirubin : 113 values\n",
      "Direct_Bilirubin : 80 values\n",
      "Alkaline_Phosphotase : 263 values\n",
      "Alamine_Aminotransferase : 152 values\n",
      "Aspartate_Aminotransferase : 177 values\n",
      "Total_Protiens : 58 values\n",
      "Albumin : 40 values\n",
      "Albumin_and_Globulin_Ratio : 69 values\n",
      "classification : 2 values\n"
     ]
    }
   ],
   "metadata": {}
  },
  {
   "cell_type": "code",
   "execution_count": 11,
   "source": [
    "numerical_features = []\r\n",
    "categorical_features = []\r\n",
    "\r\n",
    "for i in df.columns:\r\n",
    "    if df[i].nunique()>7:\r\n",
    "        numerical_features.append(i)\r\n",
    "    else:\r\n",
    "        categorical_features.append(i)"
   ],
   "outputs": [],
   "metadata": {}
  },
  {
   "cell_type": "code",
   "execution_count": 12,
   "source": [
    "print(len(numerical_features),'Numerical features: \\n', numerical_features)\r\n",
    "print('\\n\\n',len(categorical_features),'Categorical features:\\n ', categorical_features)"
   ],
   "outputs": [
    {
     "output_type": "stream",
     "name": "stdout",
     "text": [
      "9 Numerical features: \n",
      " ['Age', 'Total_Bilirubin', 'Direct_Bilirubin', 'Alkaline_Phosphotase', 'Alamine_Aminotransferase', 'Aspartate_Aminotransferase', 'Total_Protiens', 'Albumin', 'Albumin_and_Globulin_Ratio']\n",
      "\n",
      "\n",
      " 2 Categorical features:\n",
      "  ['Gender', 'classification']\n"
     ]
    }
   ],
   "metadata": {}
  },
  {
   "cell_type": "code",
   "execution_count": 13,
   "source": [
    "df[categorical_features].dtypes"
   ],
   "outputs": [
    {
     "output_type": "execute_result",
     "data": {
      "text/plain": [
       "Gender            object\n",
       "classification     int64\n",
       "dtype: object"
      ]
     },
     "metadata": {},
     "execution_count": 13
    }
   ],
   "metadata": {}
  },
  {
   "cell_type": "code",
   "execution_count": 14,
   "source": [
    "for feats in categorical_features:\r\n",
    "    print(f'{feats} has {df[feats].unique()} categories.\\n')"
   ],
   "outputs": [
    {
     "output_type": "stream",
     "name": "stdout",
     "text": [
      "Gender has ['Female' 'Male'] categories.\n",
      "\n",
      "classification has [1 2] categories.\n",
      "\n"
     ]
    }
   ],
   "metadata": {}
  },
  {
   "cell_type": "code",
   "execution_count": 15,
   "source": [
    "df[\"classification\"] = df[\"classification\"].astype(str)\r\n",
    "\r\n",
    "df['classification']=df['classification'].replace({'1':'liver_disease','2':'not_liver_disease'})"
   ],
   "outputs": [],
   "metadata": {}
  },
  {
   "cell_type": "code",
   "execution_count": 16,
   "source": [
    "for feats in categorical_features:\r\n",
    "    print(f'{feats} has {df[feats].unique()} categories.\\n')"
   ],
   "outputs": [
    {
     "output_type": "stream",
     "name": "stdout",
     "text": [
      "Gender has ['Female' 'Male'] categories.\n",
      "\n",
      "classification has ['liver_disease' 'not_liver_disease'] categories.\n",
      "\n"
     ]
    }
   ],
   "metadata": {}
  },
  {
   "cell_type": "code",
   "execution_count": 17,
   "source": [
    "df.describe(include='all').T"
   ],
   "outputs": [
    {
     "output_type": "execute_result",
     "data": {
      "text/html": [
       "<div>\n",
       "<style scoped>\n",
       "    .dataframe tbody tr th:only-of-type {\n",
       "        vertical-align: middle;\n",
       "    }\n",
       "\n",
       "    .dataframe tbody tr th {\n",
       "        vertical-align: top;\n",
       "    }\n",
       "\n",
       "    .dataframe thead th {\n",
       "        text-align: right;\n",
       "    }\n",
       "</style>\n",
       "<table border=\"1\" class=\"dataframe\">\n",
       "  <thead>\n",
       "    <tr style=\"text-align: right;\">\n",
       "      <th></th>\n",
       "      <th>count</th>\n",
       "      <th>unique</th>\n",
       "      <th>top</th>\n",
       "      <th>freq</th>\n",
       "      <th>mean</th>\n",
       "      <th>std</th>\n",
       "      <th>min</th>\n",
       "      <th>25%</th>\n",
       "      <th>50%</th>\n",
       "      <th>75%</th>\n",
       "      <th>max</th>\n",
       "    </tr>\n",
       "  </thead>\n",
       "  <tbody>\n",
       "    <tr>\n",
       "      <th>Age</th>\n",
       "      <td>583.0</td>\n",
       "      <td>NaN</td>\n",
       "      <td>NaN</td>\n",
       "      <td>NaN</td>\n",
       "      <td>44.746141</td>\n",
       "      <td>16.189833</td>\n",
       "      <td>4.0</td>\n",
       "      <td>33.0</td>\n",
       "      <td>45.0</td>\n",
       "      <td>58.0</td>\n",
       "      <td>90.0</td>\n",
       "    </tr>\n",
       "    <tr>\n",
       "      <th>Gender</th>\n",
       "      <td>583</td>\n",
       "      <td>2</td>\n",
       "      <td>Male</td>\n",
       "      <td>441</td>\n",
       "      <td>NaN</td>\n",
       "      <td>NaN</td>\n",
       "      <td>NaN</td>\n",
       "      <td>NaN</td>\n",
       "      <td>NaN</td>\n",
       "      <td>NaN</td>\n",
       "      <td>NaN</td>\n",
       "    </tr>\n",
       "    <tr>\n",
       "      <th>Total_Bilirubin</th>\n",
       "      <td>583.0</td>\n",
       "      <td>NaN</td>\n",
       "      <td>NaN</td>\n",
       "      <td>NaN</td>\n",
       "      <td>3.298799</td>\n",
       "      <td>6.209522</td>\n",
       "      <td>0.4</td>\n",
       "      <td>0.8</td>\n",
       "      <td>1.0</td>\n",
       "      <td>2.6</td>\n",
       "      <td>75.0</td>\n",
       "    </tr>\n",
       "    <tr>\n",
       "      <th>Direct_Bilirubin</th>\n",
       "      <td>583.0</td>\n",
       "      <td>NaN</td>\n",
       "      <td>NaN</td>\n",
       "      <td>NaN</td>\n",
       "      <td>1.486106</td>\n",
       "      <td>2.808498</td>\n",
       "      <td>0.1</td>\n",
       "      <td>0.2</td>\n",
       "      <td>0.3</td>\n",
       "      <td>1.3</td>\n",
       "      <td>19.7</td>\n",
       "    </tr>\n",
       "    <tr>\n",
       "      <th>Alkaline_Phosphotase</th>\n",
       "      <td>583.0</td>\n",
       "      <td>NaN</td>\n",
       "      <td>NaN</td>\n",
       "      <td>NaN</td>\n",
       "      <td>290.576329</td>\n",
       "      <td>242.937989</td>\n",
       "      <td>63.0</td>\n",
       "      <td>175.5</td>\n",
       "      <td>208.0</td>\n",
       "      <td>298.0</td>\n",
       "      <td>2110.0</td>\n",
       "    </tr>\n",
       "    <tr>\n",
       "      <th>Alamine_Aminotransferase</th>\n",
       "      <td>583.0</td>\n",
       "      <td>NaN</td>\n",
       "      <td>NaN</td>\n",
       "      <td>NaN</td>\n",
       "      <td>80.713551</td>\n",
       "      <td>182.620356</td>\n",
       "      <td>10.0</td>\n",
       "      <td>23.0</td>\n",
       "      <td>35.0</td>\n",
       "      <td>60.5</td>\n",
       "      <td>2000.0</td>\n",
       "    </tr>\n",
       "    <tr>\n",
       "      <th>Aspartate_Aminotransferase</th>\n",
       "      <td>583.0</td>\n",
       "      <td>NaN</td>\n",
       "      <td>NaN</td>\n",
       "      <td>NaN</td>\n",
       "      <td>109.910806</td>\n",
       "      <td>288.918529</td>\n",
       "      <td>10.0</td>\n",
       "      <td>25.0</td>\n",
       "      <td>42.0</td>\n",
       "      <td>87.0</td>\n",
       "      <td>4929.0</td>\n",
       "    </tr>\n",
       "    <tr>\n",
       "      <th>Total_Protiens</th>\n",
       "      <td>583.0</td>\n",
       "      <td>NaN</td>\n",
       "      <td>NaN</td>\n",
       "      <td>NaN</td>\n",
       "      <td>6.48319</td>\n",
       "      <td>1.085451</td>\n",
       "      <td>2.7</td>\n",
       "      <td>5.8</td>\n",
       "      <td>6.6</td>\n",
       "      <td>7.2</td>\n",
       "      <td>9.6</td>\n",
       "    </tr>\n",
       "    <tr>\n",
       "      <th>Albumin</th>\n",
       "      <td>583.0</td>\n",
       "      <td>NaN</td>\n",
       "      <td>NaN</td>\n",
       "      <td>NaN</td>\n",
       "      <td>3.141852</td>\n",
       "      <td>0.795519</td>\n",
       "      <td>0.9</td>\n",
       "      <td>2.6</td>\n",
       "      <td>3.1</td>\n",
       "      <td>3.8</td>\n",
       "      <td>5.5</td>\n",
       "    </tr>\n",
       "    <tr>\n",
       "      <th>Albumin_and_Globulin_Ratio</th>\n",
       "      <td>579.0</td>\n",
       "      <td>NaN</td>\n",
       "      <td>NaN</td>\n",
       "      <td>NaN</td>\n",
       "      <td>0.947064</td>\n",
       "      <td>0.319592</td>\n",
       "      <td>0.3</td>\n",
       "      <td>0.7</td>\n",
       "      <td>0.93</td>\n",
       "      <td>1.1</td>\n",
       "      <td>2.8</td>\n",
       "    </tr>\n",
       "    <tr>\n",
       "      <th>classification</th>\n",
       "      <td>583</td>\n",
       "      <td>2</td>\n",
       "      <td>liver_disease</td>\n",
       "      <td>416</td>\n",
       "      <td>NaN</td>\n",
       "      <td>NaN</td>\n",
       "      <td>NaN</td>\n",
       "      <td>NaN</td>\n",
       "      <td>NaN</td>\n",
       "      <td>NaN</td>\n",
       "      <td>NaN</td>\n",
       "    </tr>\n",
       "  </tbody>\n",
       "</table>\n",
       "</div>"
      ],
      "text/plain": [
       "                            count unique            top freq        mean  \\\n",
       "Age                         583.0    NaN            NaN  NaN   44.746141   \n",
       "Gender                        583      2           Male  441         NaN   \n",
       "Total_Bilirubin             583.0    NaN            NaN  NaN    3.298799   \n",
       "Direct_Bilirubin            583.0    NaN            NaN  NaN    1.486106   \n",
       "Alkaline_Phosphotase        583.0    NaN            NaN  NaN  290.576329   \n",
       "Alamine_Aminotransferase    583.0    NaN            NaN  NaN   80.713551   \n",
       "Aspartate_Aminotransferase  583.0    NaN            NaN  NaN  109.910806   \n",
       "Total_Protiens              583.0    NaN            NaN  NaN     6.48319   \n",
       "Albumin                     583.0    NaN            NaN  NaN    3.141852   \n",
       "Albumin_and_Globulin_Ratio  579.0    NaN            NaN  NaN    0.947064   \n",
       "classification                583      2  liver_disease  416         NaN   \n",
       "\n",
       "                                   std   min    25%    50%    75%     max  \n",
       "Age                          16.189833   4.0   33.0   45.0   58.0    90.0  \n",
       "Gender                             NaN   NaN    NaN    NaN    NaN     NaN  \n",
       "Total_Bilirubin               6.209522   0.4    0.8    1.0    2.6    75.0  \n",
       "Direct_Bilirubin              2.808498   0.1    0.2    0.3    1.3    19.7  \n",
       "Alkaline_Phosphotase        242.937989  63.0  175.5  208.0  298.0  2110.0  \n",
       "Alamine_Aminotransferase    182.620356  10.0   23.0   35.0   60.5  2000.0  \n",
       "Aspartate_Aminotransferase  288.918529  10.0   25.0   42.0   87.0  4929.0  \n",
       "Total_Protiens                1.085451   2.7    5.8    6.6    7.2     9.6  \n",
       "Albumin                       0.795519   0.9    2.6    3.1    3.8     5.5  \n",
       "Albumin_and_Globulin_Ratio    0.319592   0.3    0.7   0.93    1.1     2.8  \n",
       "classification                     NaN   NaN    NaN    NaN    NaN     NaN  "
      ]
     },
     "metadata": {},
     "execution_count": 17
    }
   ],
   "metadata": {}
  },
  {
   "cell_type": "code",
   "execution_count": 18,
   "source": [
    "df.isna().sum().sort_values(ascending=False)"
   ],
   "outputs": [
    {
     "output_type": "execute_result",
     "data": {
      "text/plain": [
       "Albumin_and_Globulin_Ratio    4\n",
       "Age                           0\n",
       "Gender                        0\n",
       "Total_Bilirubin               0\n",
       "Direct_Bilirubin              0\n",
       "Alkaline_Phosphotase          0\n",
       "Alamine_Aminotransferase      0\n",
       "Aspartate_Aminotransferase    0\n",
       "Total_Protiens                0\n",
       "Albumin                       0\n",
       "classification                0\n",
       "dtype: int64"
      ]
     },
     "metadata": {},
     "execution_count": 18
    }
   ],
   "metadata": {}
  },
  {
   "cell_type": "markdown",
   "source": [
    "# EDA"
   ],
   "metadata": {}
  },
  {
   "cell_type": "markdown",
   "source": [
    "# Target Class"
   ],
   "metadata": {}
  },
  {
   "cell_type": "code",
   "execution_count": 19,
   "source": [
    "sns.countplot(x='classification',data=df)\r\n",
    "plt.xlabel(\"classification\")\r\n",
    "plt.ylabel(\"Count\")\r\n",
    "plt.title(\"target Class\")\r\n",
    "plt.show()\r\n",
    "print('Percent of chronic kidney disease sample: ',round(len(df[df['classification']=='liver_disease'])/len(df['classification'])*100,2),\"%\")\r\n",
    "print('Percent of not a chronic kidney disease sample: ',round(len(df[df['classification']=='not_liver_disease'])/len(df['classification'])*100,2),\"%\")"
   ],
   "outputs": [
    {
     "output_type": "display_data",
     "data": {
      "image/png": "[encoded data removed]",
      "text/plain": [
       "<Figure size 432x288 with 1 Axes>"
      ]
     },
     "metadata": {
      "needs_background": "light"
     }
    },
    {
     "output_type": "stream",
     "name": "stdout",
     "text": [
      "Percent of chronic kidney disease sample:  71.36 %\n",
      "Percent of not a chronic kidney disease sample:  28.64 %\n"
     ]
    }
   ],
   "metadata": {}
  },
  {
   "cell_type": "markdown",
   "source": [
    "# Numerical features"
   ],
   "metadata": {}
  },
  {
   "cell_type": "markdown",
   "source": [
    "# Imputing numerical coulmns using MICE"
   ],
   "metadata": {}
  },
  {
   "cell_type": "markdown",
   "source": [
    "\n",
    "https://scikit-learn.org/stable/modules/generated/sklearn.impute.IterativeImputer.html\n",
    "\n",
    "https://medium.com/@WalePhenomenon/missing-data-conundrum-exploration-and-imputation-techniques-9f40abe0fd87"
   ],
   "metadata": {}
  },
  {
   "cell_type": "code",
   "execution_count": 20,
   "source": [
    "((df[numerical_features].isnull().sum()/df.shape[0])*100).sort_values(ascending=False)"
   ],
   "outputs": [
    {
     "output_type": "execute_result",
     "data": {
      "text/plain": [
       "Albumin_and_Globulin_Ratio    0.686106\n",
       "Age                           0.000000\n",
       "Total_Bilirubin               0.000000\n",
       "Direct_Bilirubin              0.000000\n",
       "Alkaline_Phosphotase          0.000000\n",
       "Alamine_Aminotransferase      0.000000\n",
       "Aspartate_Aminotransferase    0.000000\n",
       "Total_Protiens                0.000000\n",
       "Albumin                       0.000000\n",
       "dtype: float64"
      ]
     },
     "metadata": {},
     "execution_count": 20
    }
   ],
   "metadata": {}
  },
  {
   "cell_type": "code",
   "execution_count": 21,
   "source": [
    "mice_imputer = IterativeImputer() \r\n",
    "\r\n",
    "df[numerical_features] = mice_imputer.fit_transform(df[numerical_features]) "
   ],
   "outputs": [],
   "metadata": {}
  },
  {
   "cell_type": "code",
   "execution_count": 22,
   "source": [
    "df[numerical_features].isnull().sum().sort_values(ascending=False)"
   ],
   "outputs": [
    {
     "output_type": "execute_result",
     "data": {
      "text/plain": [
       "Age                           0\n",
       "Total_Bilirubin               0\n",
       "Direct_Bilirubin              0\n",
       "Alkaline_Phosphotase          0\n",
       "Alamine_Aminotransferase      0\n",
       "Aspartate_Aminotransferase    0\n",
       "Total_Protiens                0\n",
       "Albumin                       0\n",
       "Albumin_and_Globulin_Ratio    0\n",
       "dtype: int64"
      ]
     },
     "metadata": {},
     "execution_count": 22
    }
   ],
   "metadata": {}
  },
  {
   "cell_type": "markdown",
   "source": [
    "# Correlation"
   ],
   "metadata": {}
  },
  {
   "cell_type": "code",
   "execution_count": 23,
   "source": [
    "df.dtypes"
   ],
   "outputs": [
    {
     "output_type": "execute_result",
     "data": {
      "text/plain": [
       "Age                           float64\n",
       "Gender                         object\n",
       "Total_Bilirubin               float64\n",
       "Direct_Bilirubin              float64\n",
       "Alkaline_Phosphotase          float64\n",
       "Alamine_Aminotransferase      float64\n",
       "Aspartate_Aminotransferase    float64\n",
       "Total_Protiens                float64\n",
       "Albumin                       float64\n",
       "Albumin_and_Globulin_Ratio    float64\n",
       "classification                 object\n",
       "dtype: object"
      ]
     },
     "metadata": {},
     "execution_count": 23
    }
   ],
   "metadata": {}
  },
  {
   "cell_type": "code",
   "execution_count": 24,
   "source": [
    "corr_df = df.corr()\r\n",
    "f,ax=plt.subplots(figsize=(15,15))\r\n",
    "mask = np.zeros_like(corr_df)\r\n",
    "mask[np.triu_indices_from(mask)] = True\r\n",
    "sns.heatmap(corr_df,annot=True,fmt=\".2f\",ax=ax,linewidths=0.5,linecolor=\"orange\", mask = mask, square=True)\r\n",
    "plt.xticks(rotation=45)\r\n",
    "plt.yticks(rotation=45)\r\n",
    "plt.title('Correlations between different predictors')\r\n",
    "plt.show()"
   ],
   "outputs": [
    {
     "output_type": "display_data",
     "data": {
      "image/png": "[encoded data removed]",
      "text/plain": [
       "<Figure size 1080x1080 with 2 Axes>"
      ]
     },
     "metadata": {
      "needs_background": "light"
     }
    }
   ],
   "metadata": {}
  },
  {
   "cell_type": "code",
   "execution_count": 25,
   "source": [
    "corr_df = df.corr()\r\n",
    "fig, ax = plt.subplots(figsize=(18,18)) \r\n",
    "matrix = np.triu(corr_df)\r\n",
    "sns.heatmap(corr_df, annot=True, cmap= 'coolwarm', ax=ax, mask = matrix)\r\n",
    "bottom, top = ax.get_ylim()\r\n",
    "ax.set_ylim(bottom + 0.5, top - 0.5)"
   ],
   "outputs": [
    {
     "output_type": "execute_result",
     "data": {
      "text/plain": [
       "(9.5, -0.5)"
      ]
     },
     "metadata": {},
     "execution_count": 25
    },
    {
     "output_type": "display_data",
     "data": {
      "image/png": "[encoded data removed]",
      "text/plain": [
       "<Figure size 1296x1296 with 2 Axes>"
      ]
     },
     "metadata": {
      "needs_background": "light"
     }
    }
   ],
   "metadata": {}
  },
  {
   "cell_type": "markdown",
   "source": [
    "# Categorical features"
   ],
   "metadata": {}
  },
  {
   "cell_type": "code",
   "execution_count": 26,
   "source": [
    "fig, axes = plt.subplots(nrows=1, ncols=2, figsize=(15,15))\r\n",
    "fig.subplots_adjust(hspace=0.5)\r\n",
    "\r\n",
    "for ax, feats in zip(axes.flatten(), categorical_features):\r\n",
    "    sns.countplot(df[feats], ax=ax)"
   ],
   "outputs": [
    {
     "output_type": "display_data",
     "data": {
      "image/png": "[encoded data removed]",
      "text/plain": [
       "<Figure size 1080x1080 with 2 Axes>"
      ]
     },
     "metadata": {
      "needs_background": "light"
     }
    }
   ],
   "metadata": {}
  },
  {
   "cell_type": "code",
   "execution_count": 27,
   "source": [
    "df.info()"
   ],
   "outputs": [
    {
     "output_type": "stream",
     "name": "stdout",
     "text": [
      "<class 'pandas.core.frame.DataFrame'>\n",
      "RangeIndex: 583 entries, 0 to 582\n",
      "Data columns (total 11 columns):\n",
      " #   Column                      Non-Null Count  Dtype  \n",
      "---  ------                      --------------  -----  \n",
      " 0   Age                         583 non-null    float64\n",
      " 1   Gender                      583 non-null    object \n",
      " 2   Total_Bilirubin             583 non-null    float64\n",
      " 3   Direct_Bilirubin            583 non-null    float64\n",
      " 4   Alkaline_Phosphotase        583 non-null    float64\n",
      " 5   Alamine_Aminotransferase    583 non-null    float64\n",
      " 6   Aspartate_Aminotransferase  583 non-null    float64\n",
      " 7   Total_Protiens              583 non-null    float64\n",
      " 8   Albumin                     583 non-null    float64\n",
      " 9   Albumin_and_Globulin_Ratio  583 non-null    float64\n",
      " 10  classification              583 non-null    object \n",
      "dtypes: float64(9), object(2)\n",
      "memory usage: 50.2+ KB\n"
     ]
    }
   ],
   "metadata": {}
  },
  {
   "cell_type": "code",
   "execution_count": 28,
   "source": [
    "df['Gender']=df['Gender'].replace({'Male':1,'Female':0})\r\n",
    "df['classification']=df['classification'].replace({'liver_disease':1,'not_liver_disease':0})"
   ],
   "outputs": [],
   "metadata": {}
  },
  {
   "cell_type": "code",
   "execution_count": 29,
   "source": [
    "df.Gender.value_counts"
   ],
   "outputs": [
    {
     "output_type": "execute_result",
     "data": {
      "text/plain": [
       "<bound method IndexOpsMixin.value_counts of 0      0\n",
       "1      1\n",
       "2      1\n",
       "3      1\n",
       "4      1\n",
       "      ..\n",
       "578    1\n",
       "579    1\n",
       "580    1\n",
       "581    1\n",
       "582    1\n",
       "Name: Gender, Length: 583, dtype: int64>"
      ]
     },
     "metadata": {},
     "execution_count": 29
    }
   ],
   "metadata": {}
  },
  {
   "cell_type": "markdown",
   "source": [
    "# Splitting into X and y"
   ],
   "metadata": {}
  },
  {
   "cell_type": "code",
   "execution_count": 30,
   "source": [
    "x = df.drop('classification', axis=1)\r\n",
    "y = df.classification"
   ],
   "outputs": [],
   "metadata": {}
  },
  {
   "cell_type": "code",
   "execution_count": 31,
   "source": [
    "y.value_counts()"
   ],
   "outputs": [
    {
     "output_type": "execute_result",
     "data": {
      "text/plain": [
       "1    416\n",
       "0    167\n",
       "Name: classification, dtype: int64"
      ]
     },
     "metadata": {},
     "execution_count": 31
    }
   ],
   "metadata": {}
  },
  {
   "cell_type": "code",
   "execution_count": 32,
   "source": [
    "sc = MinMaxScaler()\r\n",
    "x = sc.fit_transform(x)\r\n",
    "x"
   ],
   "outputs": [
    {
     "output_type": "execute_result",
     "data": {
      "text/plain": [
       "array([[0.70930233, 0.        , 0.00402145, ..., 0.5942029 , 0.52173913,\n",
       "        0.24      ],\n",
       "       [0.6744186 , 1.        , 0.14075067, ..., 0.69565217, 0.5       ,\n",
       "        0.176     ],\n",
       "       [0.6744186 , 1.        , 0.0924933 , ..., 0.62318841, 0.52173913,\n",
       "        0.236     ],\n",
       "       ...,\n",
       "       [0.55813953, 1.        , 0.00536193, ..., 0.53623188, 0.5       ,\n",
       "        0.28      ],\n",
       "       [0.31395349, 1.        , 0.01206434, ..., 0.5942029 , 0.54347826,\n",
       "        0.28      ],\n",
       "       [0.39534884, 1.        , 0.0080429 , ..., 0.66666667, 0.76086957,\n",
       "        0.48      ]])"
      ]
     },
     "metadata": {},
     "execution_count": 32
    }
   ],
   "metadata": {}
  },
  {
   "cell_type": "markdown",
   "source": [
    "# OverSampling using SMOTE"
   ],
   "metadata": {}
  },
  {
   "cell_type": "code",
   "execution_count": 33,
   "source": [
    "print(Counter(y))\r\n",
    "oversample = SMOTE()\r\n",
    "x, y = oversample.fit_resample(x, y)\r\n",
    "Counter(y)"
   ],
   "outputs": [
    {
     "output_type": "stream",
     "name": "stdout",
     "text": [
      "Counter({1: 416, 0: 167})\n"
     ]
    },
    {
     "output_type": "execute_result",
     "data": {
      "text/plain": [
       "Counter({1: 416, 0: 416})"
      ]
     },
     "metadata": {},
     "execution_count": 33
    }
   ],
   "metadata": {}
  },
  {
   "cell_type": "markdown",
   "source": [
    "# Train-Test Split"
   ],
   "metadata": {}
  },
  {
   "cell_type": "code",
   "execution_count": 34,
   "source": [
    "x_train,x_test,y_train,y_test = train_test_split(x,y,test_size=.15,random_state=0)"
   ],
   "outputs": [],
   "metadata": {}
  },
  {
   "cell_type": "code",
   "execution_count": 35,
   "source": [
    "print(x_train.shape)\r\n",
    "print(x_test.shape)\r\n",
    "print(y_train.shape)\r\n",
    "print(y_test.shape)"
   ],
   "outputs": [
    {
     "output_type": "stream",
     "name": "stdout",
     "text": [
      "(707, 10)\n",
      "(125, 10)\n",
      "(707,)\n",
      "(125,)\n"
     ]
    }
   ],
   "metadata": {}
  },
  {
   "cell_type": "code",
   "execution_count": 71,
   "source": [
    "print(x_test[1,])"
   ],
   "outputs": [
    {
     "output_type": "stream",
     "name": "stdout",
     "text": [
      "[0.52325581 0.         0.00268097 0.         0.05959941 0.00351759\n",
      " 0.00325269 0.56521739 0.43478261 0.16      ]\n"
     ]
    }
   ],
   "metadata": {}
  },
  {
   "cell_type": "code",
   "execution_count": 36,
   "source": [
    "x_test_1=x_test[1,]\r\n",
    "x_test_1=x_test_1.reshape(1,-1)\r\n",
    "x_test_1"
   ],
   "outputs": [
    {
     "output_type": "execute_result",
     "data": {
      "text/plain": [
       "array([[0.52325581, 0.        , 0.00268097, 0.        , 0.05959941,\n",
       "        0.00351759, 0.00325269, 0.56521739, 0.43478261, 0.16      ]])"
      ]
     },
     "metadata": {},
     "execution_count": 36
    }
   ],
   "metadata": {}
  },
  {
   "cell_type": "markdown",
   "source": [
    "# Logistic Regression"
   ],
   "metadata": {}
  },
  {
   "cell_type": "code",
   "execution_count": 37,
   "source": [
    "liverlr=LogisticRegression(solver='liblinear')\r\n",
    "liverlr.fit(x_train,y_train)"
   ],
   "outputs": [
    {
     "output_type": "execute_result",
     "data": {
      "text/plain": [
       "LogisticRegression(solver='liblinear')"
      ]
     },
     "metadata": {},
     "execution_count": 37
    }
   ],
   "metadata": {}
  },
  {
   "cell_type": "code",
   "execution_count": 38,
   "source": [
    "# Accuracy\r\n",
    "y_pred = liverlr.predict(x_test)\r\n",
    "print('Accuracy of logistic regression classifier on test set:',liverlr.score(x_test, y_test))"
   ],
   "outputs": [
    {
     "output_type": "stream",
     "name": "stdout",
     "text": [
      "Accuracy of logistic regression classifier on test set: 0.68\n"
     ]
    }
   ],
   "metadata": {}
  },
  {
   "cell_type": "code",
   "execution_count": 39,
   "source": [
    "# Print and plot confusion matrix   \r\n",
    "cm = confusion_matrix(y_test, y_pred)\r\n",
    "print(cm)\r\n",
    "plot_confusion_matrix(cm,['0','1'])"
   ],
   "outputs": [
    {
     "output_type": "stream",
     "name": "stdout",
     "text": [
      "[[55 13]\n",
      " [27 30]]\n"
     ]
    },
    {
     "output_type": "display_data",
     "data": {
      "image/png": "[encoded data removed]",
      "text/plain": [
       "<Figure size 432x288 with 2 Axes>"
      ]
     },
     "metadata": {
      "needs_background": "light"
     }
    }
   ],
   "metadata": {}
  },
  {
   "cell_type": "code",
   "execution_count": 40,
   "source": [
    "# Print Classification Report\r\n",
    "print(classification_report(y_test,y_pred))"
   ],
   "outputs": [
    {
     "output_type": "stream",
     "name": "stdout",
     "text": [
      "              precision    recall  f1-score   support\n",
      "\n",
      "           0       0.67      0.81      0.73        68\n",
      "           1       0.70      0.53      0.60        57\n",
      "\n",
      "    accuracy                           0.68       125\n",
      "   macro avg       0.68      0.67      0.67       125\n",
      "weighted avg       0.68      0.68      0.67       125\n",
      "\n"
     ]
    }
   ],
   "metadata": {}
  },
  {
   "cell_type": "code",
   "execution_count": 41,
   "source": [
    "# Plot roc curve\r\n",
    "plot_roc(y_pred,y_test)"
   ],
   "outputs": [
    {
     "output_type": "display_data",
     "data": {
      "image/png": "[encoded data removed]",
      "text/plain": [
       "<Figure size 432x288 with 1 Axes>"
      ]
     },
     "metadata": {
      "needs_background": "light"
     }
    }
   ],
   "metadata": {}
  },
  {
   "cell_type": "markdown",
   "source": [
    "# Naive Bayes"
   ],
   "metadata": {}
  },
  {
   "cell_type": "code",
   "execution_count": 42,
   "source": [
    "from sklearn.naive_bayes import BernoulliNB\r\n",
    "liverNB = BernoulliNB()\r\n",
    "y_pred = liverNB.fit(x_train, y_train)\r\n",
    "y_pred = liverNB.predict(x_test)"
   ],
   "outputs": [],
   "metadata": {}
  },
  {
   "cell_type": "code",
   "execution_count": 43,
   "source": [
    "#Acuracy\r\n",
    "print(\"Bernoulli Naive Bayes model accuracy on test set:\",metrics.accuracy_score(y_test, y_pred))"
   ],
   "outputs": [
    {
     "output_type": "stream",
     "name": "stdout",
     "text": [
      "Bernoulli Naive Bayes model accuracy on test set: 0.568\n"
     ]
    }
   ],
   "metadata": {}
  },
  {
   "cell_type": "code",
   "execution_count": 44,
   "source": [
    "cm = confusion_matrix(y_test, y_pred)\r\n",
    "print(cm)\r\n",
    "plot_confusion_matrix(cm,['0','1'])"
   ],
   "outputs": [
    {
     "output_type": "stream",
     "name": "stdout",
     "text": [
      "[[21 47]\n",
      " [ 7 50]]\n"
     ]
    },
    {
     "output_type": "display_data",
     "data": {
      "image/png": "[encoded data removed]",
      "text/plain": [
       "<Figure size 432x288 with 2 Axes>"
      ]
     },
     "metadata": {
      "needs_background": "light"
     }
    }
   ],
   "metadata": {}
  },
  {
   "cell_type": "code",
   "execution_count": 45,
   "source": [
    "print(classification_report(y_test,y_pred))"
   ],
   "outputs": [
    {
     "output_type": "stream",
     "name": "stdout",
     "text": [
      "              precision    recall  f1-score   support\n",
      "\n",
      "           0       0.75      0.31      0.44        68\n",
      "           1       0.52      0.88      0.65        57\n",
      "\n",
      "    accuracy                           0.57       125\n",
      "   macro avg       0.63      0.59      0.54       125\n",
      "weighted avg       0.64      0.57      0.53       125\n",
      "\n"
     ]
    }
   ],
   "metadata": {}
  },
  {
   "cell_type": "code",
   "execution_count": 46,
   "source": [
    "plot_roc(y_pred,y_test)"
   ],
   "outputs": [
    {
     "output_type": "display_data",
     "data": {
      "image/png": "[encoded data removed]",
      "text/plain": [
       "<Figure size 432x288 with 1 Axes>"
      ]
     },
     "metadata": {
      "needs_background": "light"
     }
    }
   ],
   "metadata": {}
  },
  {
   "cell_type": "markdown",
   "source": [
    "# Random Forest\r\n"
   ],
   "metadata": {}
  },
  {
   "cell_type": "code",
   "execution_count": 47,
   "source": [
    "from sklearn.ensemble import RandomForestClassifier\r\n",
    "\r\n",
    "#Create a Gaussian Classifier\r\n",
    "liverrf = RandomForestClassifier()\r\n",
    "\r\n",
    "#Train the model using the training sets y_pred=clf.predict(X_test)\r\n",
    "liverrf.fit(x_train,y_train)\r\n",
    "\r\n",
    "y_pred=liverrf.predict(x_test)"
   ],
   "outputs": [],
   "metadata": {}
  },
  {
   "cell_type": "code",
   "execution_count": 48,
   "source": [
    "#Accuracy\r\n",
    "print(\"Accuracy of Random forest on test set:\",metrics.accuracy_score(y_test, y_pred))"
   ],
   "outputs": [
    {
     "output_type": "stream",
     "name": "stdout",
     "text": [
      "Accuracy of Random forest on test set: 0.784\n"
     ]
    }
   ],
   "metadata": {}
  },
  {
   "cell_type": "code",
   "execution_count": 49,
   "source": [
    "print ('F1 score:', metrics.f1_score(y_test, y_pred,average='weighted'))"
   ],
   "outputs": [
    {
     "output_type": "stream",
     "name": "stdout",
     "text": [
      "F1 score: 0.7838325689554938\n"
     ]
    }
   ],
   "metadata": {}
  },
  {
   "cell_type": "code",
   "execution_count": 50,
   "source": [
    "cm = confusion_matrix(y_test, y_pred)\r\n",
    "print(cm)\r\n",
    "plot_confusion_matrix(cm,['0','1'])"
   ],
   "outputs": [
    {
     "output_type": "stream",
     "name": "stdout",
     "text": [
      "[[55 13]\n",
      " [14 43]]\n"
     ]
    },
    {
     "output_type": "display_data",
     "data": {
      "image/png": "[encoded data removed]",
      "text/plain": [
       "<Figure size 432x288 with 2 Axes>"
      ]
     },
     "metadata": {
      "needs_background": "light"
     }
    }
   ],
   "metadata": {}
  },
  {
   "cell_type": "code",
   "execution_count": 51,
   "source": [
    "print(classification_report(y_test,y_pred))"
   ],
   "outputs": [
    {
     "output_type": "stream",
     "name": "stdout",
     "text": [
      "              precision    recall  f1-score   support\n",
      "\n",
      "           0       0.80      0.81      0.80        68\n",
      "           1       0.77      0.75      0.76        57\n",
      "\n",
      "    accuracy                           0.78       125\n",
      "   macro avg       0.78      0.78      0.78       125\n",
      "weighted avg       0.78      0.78      0.78       125\n",
      "\n"
     ]
    }
   ],
   "metadata": {}
  },
  {
   "cell_type": "code",
   "execution_count": 52,
   "source": [
    "plot_roc(y_pred,y_test)"
   ],
   "outputs": [
    {
     "output_type": "display_data",
     "data": {
      "image/png": "[encoded data removed]",
      "text/plain": [
       "<Figure size 432x288 with 1 Axes>"
      ]
     },
     "metadata": {
      "needs_background": "light"
     }
    }
   ],
   "metadata": {}
  },
  {
   "cell_type": "markdown",
   "source": [
    "# XG-Boost"
   ],
   "metadata": {}
  },
  {
   "cell_type": "code",
   "execution_count": 53,
   "source": [
    "from numpy import loadtxt\r\n",
    "from xgboost import XGBClassifier\r\n",
    "liverxgb=XGBClassifier()\r\n",
    "liverxgb.fit(x_train,y_train)"
   ],
   "outputs": [
    {
     "output_type": "stream",
     "name": "stdout",
     "text": [
      "[14:27:23] WARNING: C:/Users/Administrator/workspace/xgboost-win64_release_1.3.0/src/learner.cc:1061: Starting in XGBoost 1.3.0, the default evaluation metric used with the objective 'binary:logistic' was changed from 'error' to 'logloss'. Explicitly set eval_metric if you'd like to restore the old behavior.\n"
     ]
    },
    {
     "output_type": "execute_result",
     "data": {
      "text/plain": [
       "XGBClassifier(base_score=0.5, booster='gbtree', colsample_bylevel=1,\n",
       "              colsample_bynode=1, colsample_bytree=1, gamma=0, gpu_id=-1,\n",
       "              importance_type='gain', interaction_constraints='',\n",
       "              learning_rate=0.300000012, max_delta_step=0, max_depth=6,\n",
       "              min_child_weight=1, missing=nan, monotone_constraints='()',\n",
       "              n_estimators=100, n_jobs=8, num_parallel_tree=1, random_state=0,\n",
       "              reg_alpha=0, reg_lambda=1, scale_pos_weight=1, subsample=1,\n",
       "              tree_method='exact', validate_parameters=1, verbosity=None)"
      ]
     },
     "metadata": {},
     "execution_count": 53
    }
   ],
   "metadata": {}
  },
  {
   "cell_type": "code",
   "execution_count": 54,
   "source": [
    "y_pred = liverxgb.predict(x_test)\r\n",
    "predictions = [round(value) for value in y_pred]"
   ],
   "outputs": [],
   "metadata": {}
  },
  {
   "cell_type": "code",
   "execution_count": 55,
   "source": [
    "accuracy = accuracy_score(y_test, predictions)\r\n",
    "print(\"Accuracy for XGBoost on test set:\", accuracy)"
   ],
   "outputs": [
    {
     "output_type": "stream",
     "name": "stdout",
     "text": [
      "Accuracy for XGBoost on test set: 0.76\n"
     ]
    }
   ],
   "metadata": {}
  },
  {
   "cell_type": "code",
   "execution_count": 56,
   "source": [
    "print ('F1 score:', metrics.f1_score(y_test, y_pred,average='weighted'))"
   ],
   "outputs": [
    {
     "output_type": "stream",
     "name": "stdout",
     "text": [
      "F1 score: 0.7590649350649351\n"
     ]
    }
   ],
   "metadata": {}
  },
  {
   "cell_type": "code",
   "execution_count": 57,
   "source": [
    "print(classification_report(y_test,y_pred))"
   ],
   "outputs": [
    {
     "output_type": "stream",
     "name": "stdout",
     "text": [
      "              precision    recall  f1-score   support\n",
      "\n",
      "           0       0.76      0.81      0.79        68\n",
      "           1       0.75      0.70      0.73        57\n",
      "\n",
      "    accuracy                           0.76       125\n",
      "   macro avg       0.76      0.76      0.76       125\n",
      "weighted avg       0.76      0.76      0.76       125\n",
      "\n"
     ]
    }
   ],
   "metadata": {}
  },
  {
   "cell_type": "code",
   "execution_count": 58,
   "source": [
    "plot_roc(y_pred,y_test)"
   ],
   "outputs": [
    {
     "output_type": "display_data",
     "data": {
      "image/png": "[encoded data removed]",
      "text/plain": [
       "<Figure size 432x288 with 1 Axes>"
      ]
     },
     "metadata": {
      "needs_background": "light"
     }
    }
   ],
   "metadata": {}
  },
  {
   "cell_type": "markdown",
   "source": [
    "# Neural Network"
   ],
   "metadata": {}
  },
  {
   "cell_type": "code",
   "execution_count": 59,
   "source": [
    "livernnmodel = Sequential()\r\n",
    "livernnmodel.add(Dense(128, input_dim=x_train.shape[1], activation='tanh'))\r\n",
    "livernnmodel.add(Dense(32, activation='tanh'))\r\n",
    "livernnmodel.add(Dense(8, activation='tanh'))\r\n",
    "livernnmodel.add(Dense(1, activation='sigmoid'))\r\n",
    "\r\n",
    "livernnmodel.compile(loss='binary_crossentropy', optimizer='adam', metrics=['accuracy'])\r\n",
    "\r\n",
    "monitor = EarlyStopping(monitor='val_loss', min_delta=1e-3, patience=20, \r\n",
    "                        verbose=2, mode='min')\r\n",
    "\r\n",
    "#chckpt = ModelCheckpoint(filepath='.weights.hdf5', verbose=1, save_best_only=True)\r\n",
    "\r\n",
    "livernnmodel.fit(x_train,y_train,verbose=2,epochs=200, batch_size=20, callbacks=[monitor], validation_split=0.25)"
   ],
   "outputs": [
    {
     "output_type": "stream",
     "name": "stdout",
     "text": [
      "Epoch 1/200\n",
      "27/27 - 1s - loss: 0.6733 - accuracy: 0.5604 - val_loss: 0.6581 - val_accuracy: 0.6554\n",
      "Epoch 2/200\n",
      "27/27 - 0s - loss: 0.6300 - accuracy: 0.6547 - val_loss: 0.6363 - val_accuracy: 0.6554\n",
      "Epoch 3/200\n",
      "27/27 - 0s - loss: 0.5987 - accuracy: 0.6849 - val_loss: 0.6211 - val_accuracy: 0.6441\n",
      "Epoch 4/200\n",
      "27/27 - 0s - loss: 0.5756 - accuracy: 0.6868 - val_loss: 0.6199 - val_accuracy: 0.5989\n",
      "Epoch 5/200\n",
      "27/27 - 0s - loss: 0.5614 - accuracy: 0.7057 - val_loss: 0.6213 - val_accuracy: 0.6723\n",
      "Epoch 6/200\n",
      "27/27 - 0s - loss: 0.5551 - accuracy: 0.6962 - val_loss: 0.6054 - val_accuracy: 0.6780\n",
      "Epoch 7/200\n",
      "27/27 - 0s - loss: 0.5551 - accuracy: 0.6962 - val_loss: 0.6101 - val_accuracy: 0.6102\n",
      "Epoch 8/200\n",
      "27/27 - 0s - loss: 0.5477 - accuracy: 0.7151 - val_loss: 0.6023 - val_accuracy: 0.6723\n",
      "Epoch 9/200\n",
      "27/27 - 0s - loss: 0.5394 - accuracy: 0.7208 - val_loss: 0.6113 - val_accuracy: 0.6780\n",
      "Epoch 10/200\n",
      "27/27 - 0s - loss: 0.5339 - accuracy: 0.7264 - val_loss: 0.6061 - val_accuracy: 0.7006\n",
      "Epoch 11/200\n",
      "27/27 - 0s - loss: 0.5357 - accuracy: 0.7208 - val_loss: 0.6009 - val_accuracy: 0.7175\n",
      "Epoch 12/200\n",
      "27/27 - 0s - loss: 0.5282 - accuracy: 0.7189 - val_loss: 0.6051 - val_accuracy: 0.6836\n",
      "Epoch 13/200\n",
      "27/27 - 0s - loss: 0.5286 - accuracy: 0.7283 - val_loss: 0.6535 - val_accuracy: 0.6554\n",
      "Epoch 14/200\n",
      "27/27 - 0s - loss: 0.5263 - accuracy: 0.7094 - val_loss: 0.6131 - val_accuracy: 0.6836\n",
      "Epoch 15/200\n",
      "27/27 - 0s - loss: 0.5318 - accuracy: 0.7151 - val_loss: 0.6028 - val_accuracy: 0.7062\n",
      "Epoch 16/200\n",
      "27/27 - 0s - loss: 0.5328 - accuracy: 0.7264 - val_loss: 0.6235 - val_accuracy: 0.6836\n",
      "Epoch 17/200\n",
      "27/27 - 0s - loss: 0.5262 - accuracy: 0.7151 - val_loss: 0.5985 - val_accuracy: 0.7232\n",
      "Epoch 18/200\n",
      "27/27 - 0s - loss: 0.5347 - accuracy: 0.7151 - val_loss: 0.6092 - val_accuracy: 0.6836\n",
      "Epoch 19/200\n",
      "27/27 - 0s - loss: 0.5221 - accuracy: 0.7302 - val_loss: 0.6382 - val_accuracy: 0.6723\n",
      "Epoch 20/200\n",
      "27/27 - 0s - loss: 0.5205 - accuracy: 0.7321 - val_loss: 0.5984 - val_accuracy: 0.7119\n",
      "Epoch 21/200\n",
      "27/27 - 0s - loss: 0.5233 - accuracy: 0.7283 - val_loss: 0.6047 - val_accuracy: 0.7006\n",
      "Epoch 22/200\n",
      "27/27 - 0s - loss: 0.5203 - accuracy: 0.7321 - val_loss: 0.6331 - val_accuracy: 0.6723\n",
      "Epoch 23/200\n",
      "27/27 - 0s - loss: 0.5261 - accuracy: 0.7226 - val_loss: 0.6101 - val_accuracy: 0.6780\n",
      "Epoch 24/200\n",
      "27/27 - 0s - loss: 0.5204 - accuracy: 0.7208 - val_loss: 0.6379 - val_accuracy: 0.6723\n",
      "Epoch 25/200\n",
      "27/27 - 0s - loss: 0.5218 - accuracy: 0.7302 - val_loss: 0.6197 - val_accuracy: 0.6780\n",
      "Epoch 26/200\n",
      "27/27 - 0s - loss: 0.5367 - accuracy: 0.7094 - val_loss: 0.6537 - val_accuracy: 0.6667\n",
      "Epoch 27/200\n",
      "27/27 - 0s - loss: 0.5294 - accuracy: 0.7113 - val_loss: 0.5942 - val_accuracy: 0.7119\n",
      "Epoch 28/200\n",
      "27/27 - 0s - loss: 0.5194 - accuracy: 0.7151 - val_loss: 0.5935 - val_accuracy: 0.6893\n",
      "Epoch 29/200\n",
      "27/27 - 0s - loss: 0.5189 - accuracy: 0.7132 - val_loss: 0.5934 - val_accuracy: 0.7232\n",
      "Epoch 30/200\n",
      "27/27 - 0s - loss: 0.5176 - accuracy: 0.7094 - val_loss: 0.6015 - val_accuracy: 0.6949\n",
      "Epoch 31/200\n",
      "27/27 - 0s - loss: 0.5182 - accuracy: 0.7189 - val_loss: 0.5996 - val_accuracy: 0.7006\n",
      "Epoch 32/200\n",
      "27/27 - 0s - loss: 0.5181 - accuracy: 0.7415 - val_loss: 0.5973 - val_accuracy: 0.6893\n",
      "Epoch 33/200\n",
      "27/27 - 0s - loss: 0.5109 - accuracy: 0.7377 - val_loss: 0.6273 - val_accuracy: 0.6780\n",
      "Epoch 34/200\n",
      "27/27 - 0s - loss: 0.5135 - accuracy: 0.7302 - val_loss: 0.5933 - val_accuracy: 0.7175\n",
      "Epoch 35/200\n",
      "27/27 - 0s - loss: 0.5121 - accuracy: 0.7264 - val_loss: 0.6028 - val_accuracy: 0.6893\n",
      "Epoch 36/200\n",
      "27/27 - 0s - loss: 0.5139 - accuracy: 0.7340 - val_loss: 0.6136 - val_accuracy: 0.6780\n",
      "Epoch 37/200\n",
      "27/27 - 0s - loss: 0.5099 - accuracy: 0.7245 - val_loss: 0.6025 - val_accuracy: 0.6836\n",
      "Epoch 38/200\n",
      "27/27 - 0s - loss: 0.5165 - accuracy: 0.7264 - val_loss: 0.5911 - val_accuracy: 0.6780\n",
      "Epoch 39/200\n",
      "27/27 - 0s - loss: 0.5131 - accuracy: 0.7245 - val_loss: 0.6005 - val_accuracy: 0.6780\n",
      "Epoch 40/200\n",
      "27/27 - 0s - loss: 0.5189 - accuracy: 0.7226 - val_loss: 0.6002 - val_accuracy: 0.6836\n",
      "Epoch 41/200\n",
      "27/27 - 0s - loss: 0.5115 - accuracy: 0.7226 - val_loss: 0.5904 - val_accuracy: 0.7119\n",
      "Epoch 42/200\n",
      "27/27 - 0s - loss: 0.5182 - accuracy: 0.7245 - val_loss: 0.5935 - val_accuracy: 0.6441\n",
      "Epoch 43/200\n",
      "27/27 - 0s - loss: 0.5118 - accuracy: 0.7245 - val_loss: 0.5881 - val_accuracy: 0.7119\n",
      "Epoch 44/200\n",
      "27/27 - 0s - loss: 0.5093 - accuracy: 0.7358 - val_loss: 0.6205 - val_accuracy: 0.6780\n",
      "Epoch 45/200\n",
      "27/27 - 0s - loss: 0.5111 - accuracy: 0.7245 - val_loss: 0.5915 - val_accuracy: 0.7119\n",
      "Epoch 46/200\n",
      "27/27 - 0s - loss: 0.5161 - accuracy: 0.7358 - val_loss: 0.6012 - val_accuracy: 0.6893\n",
      "Epoch 47/200\n",
      "27/27 - 0s - loss: 0.5079 - accuracy: 0.7245 - val_loss: 0.5879 - val_accuracy: 0.7119\n",
      "Epoch 48/200\n",
      "27/27 - 0s - loss: 0.5198 - accuracy: 0.7302 - val_loss: 0.5869 - val_accuracy: 0.7119\n",
      "Epoch 49/200\n",
      "27/27 - 0s - loss: 0.5073 - accuracy: 0.7283 - val_loss: 0.5894 - val_accuracy: 0.7175\n",
      "Epoch 50/200\n",
      "27/27 - 0s - loss: 0.5069 - accuracy: 0.7264 - val_loss: 0.5890 - val_accuracy: 0.7119\n",
      "Epoch 51/200\n",
      "27/27 - 0s - loss: 0.5066 - accuracy: 0.7283 - val_loss: 0.5969 - val_accuracy: 0.6836\n",
      "Epoch 52/200\n",
      "27/27 - 0s - loss: 0.5081 - accuracy: 0.7264 - val_loss: 0.5945 - val_accuracy: 0.7006\n",
      "Epoch 53/200\n",
      "27/27 - 0s - loss: 0.5044 - accuracy: 0.7283 - val_loss: 0.5970 - val_accuracy: 0.6893\n",
      "Epoch 54/200\n",
      "27/27 - 0s - loss: 0.5046 - accuracy: 0.7302 - val_loss: 0.5866 - val_accuracy: 0.6836\n",
      "Epoch 55/200\n",
      "27/27 - 0s - loss: 0.5093 - accuracy: 0.7302 - val_loss: 0.5868 - val_accuracy: 0.7175\n",
      "Epoch 56/200\n",
      "27/27 - 0s - loss: 0.5046 - accuracy: 0.7377 - val_loss: 0.5897 - val_accuracy: 0.7175\n",
      "Epoch 57/200\n",
      "27/27 - 0s - loss: 0.5076 - accuracy: 0.7415 - val_loss: 0.6018 - val_accuracy: 0.6836\n",
      "Epoch 58/200\n",
      "27/27 - 0s - loss: 0.5086 - accuracy: 0.7415 - val_loss: 0.6091 - val_accuracy: 0.6780\n",
      "Epoch 59/200\n",
      "27/27 - 0s - loss: 0.5089 - accuracy: 0.7509 - val_loss: 0.6185 - val_accuracy: 0.6723\n",
      "Epoch 60/200\n",
      "27/27 - 0s - loss: 0.5135 - accuracy: 0.7245 - val_loss: 0.6030 - val_accuracy: 0.6780\n",
      "Epoch 61/200\n",
      "27/27 - 0s - loss: 0.5083 - accuracy: 0.7453 - val_loss: 0.5946 - val_accuracy: 0.7006\n",
      "Epoch 62/200\n",
      "27/27 - 0s - loss: 0.5039 - accuracy: 0.7264 - val_loss: 0.6123 - val_accuracy: 0.6836\n",
      "Epoch 63/200\n",
      "27/27 - 0s - loss: 0.5058 - accuracy: 0.7264 - val_loss: 0.5891 - val_accuracy: 0.7119\n",
      "Epoch 64/200\n",
      "27/27 - 0s - loss: 0.5034 - accuracy: 0.7377 - val_loss: 0.5830 - val_accuracy: 0.6893\n",
      "Epoch 65/200\n",
      "27/27 - 0s - loss: 0.5046 - accuracy: 0.7340 - val_loss: 0.5980 - val_accuracy: 0.6836\n",
      "Epoch 66/200\n",
      "27/27 - 0s - loss: 0.5019 - accuracy: 0.7396 - val_loss: 0.5845 - val_accuracy: 0.6667\n",
      "Epoch 67/200\n",
      "27/27 - 0s - loss: 0.5035 - accuracy: 0.7377 - val_loss: 0.5946 - val_accuracy: 0.6836\n",
      "Epoch 68/200\n",
      "27/27 - 0s - loss: 0.4988 - accuracy: 0.7434 - val_loss: 0.5841 - val_accuracy: 0.7006\n",
      "Epoch 69/200\n",
      "27/27 - 0s - loss: 0.5005 - accuracy: 0.7321 - val_loss: 0.5817 - val_accuracy: 0.7062\n",
      "Epoch 70/200\n",
      "27/27 - 0s - loss: 0.5059 - accuracy: 0.7321 - val_loss: 0.5899 - val_accuracy: 0.7062\n",
      "Epoch 71/200\n",
      "27/27 - 0s - loss: 0.5067 - accuracy: 0.7340 - val_loss: 0.5937 - val_accuracy: 0.6893\n",
      "Epoch 72/200\n",
      "27/27 - 0s - loss: 0.5005 - accuracy: 0.7396 - val_loss: 0.5888 - val_accuracy: 0.7062\n",
      "Epoch 73/200\n",
      "27/27 - 0s - loss: 0.4982 - accuracy: 0.7358 - val_loss: 0.5820 - val_accuracy: 0.7006\n",
      "Epoch 74/200\n",
      "27/27 - 0s - loss: 0.5000 - accuracy: 0.7245 - val_loss: 0.5824 - val_accuracy: 0.6667\n",
      "Epoch 75/200\n",
      "27/27 - 0s - loss: 0.5021 - accuracy: 0.7264 - val_loss: 0.5821 - val_accuracy: 0.6723\n",
      "Epoch 76/200\n",
      "27/27 - 0s - loss: 0.5003 - accuracy: 0.7283 - val_loss: 0.5831 - val_accuracy: 0.7175\n",
      "Epoch 77/200\n",
      "27/27 - 0s - loss: 0.5019 - accuracy: 0.7434 - val_loss: 0.6187 - val_accuracy: 0.6723\n",
      "Epoch 78/200\n",
      "27/27 - 0s - loss: 0.5146 - accuracy: 0.7321 - val_loss: 0.6088 - val_accuracy: 0.6949\n",
      "Epoch 79/200\n",
      "27/27 - 0s - loss: 0.5035 - accuracy: 0.7264 - val_loss: 0.5850 - val_accuracy: 0.7119\n",
      "Epoch 80/200\n",
      "27/27 - 0s - loss: 0.4972 - accuracy: 0.7358 - val_loss: 0.5921 - val_accuracy: 0.6893\n",
      "Epoch 81/200\n",
      "27/27 - 0s - loss: 0.5022 - accuracy: 0.7321 - val_loss: 0.5823 - val_accuracy: 0.6893\n",
      "Epoch 82/200\n",
      "27/27 - 0s - loss: 0.4993 - accuracy: 0.7396 - val_loss: 0.5809 - val_accuracy: 0.7062\n",
      "Epoch 83/200\n",
      "27/27 - 0s - loss: 0.5002 - accuracy: 0.7415 - val_loss: 0.5820 - val_accuracy: 0.7232\n",
      "Epoch 84/200\n",
      "27/27 - 0s - loss: 0.4975 - accuracy: 0.7434 - val_loss: 0.5874 - val_accuracy: 0.7119\n",
      "Epoch 85/200\n",
      "27/27 - 0s - loss: 0.5025 - accuracy: 0.7321 - val_loss: 0.5790 - val_accuracy: 0.6893\n",
      "Epoch 86/200\n",
      "27/27 - 0s - loss: 0.5021 - accuracy: 0.7377 - val_loss: 0.5815 - val_accuracy: 0.6836\n",
      "Epoch 87/200\n",
      "27/27 - 0s - loss: 0.4987 - accuracy: 0.7226 - val_loss: 0.5878 - val_accuracy: 0.6949\n",
      "Epoch 88/200\n",
      "27/27 - 0s - loss: 0.4931 - accuracy: 0.7434 - val_loss: 0.5805 - val_accuracy: 0.6893\n",
      "Epoch 89/200\n",
      "27/27 - 0s - loss: 0.4969 - accuracy: 0.7321 - val_loss: 0.5780 - val_accuracy: 0.6949\n",
      "Epoch 90/200\n",
      "27/27 - 0s - loss: 0.4929 - accuracy: 0.7358 - val_loss: 0.5932 - val_accuracy: 0.7006\n",
      "Epoch 91/200\n",
      "27/27 - 0s - loss: 0.4951 - accuracy: 0.7453 - val_loss: 0.5803 - val_accuracy: 0.6949\n",
      "Epoch 92/200\n",
      "27/27 - 0s - loss: 0.4953 - accuracy: 0.7396 - val_loss: 0.5800 - val_accuracy: 0.7119\n",
      "Epoch 93/200\n",
      "27/27 - 0s - loss: 0.4921 - accuracy: 0.7415 - val_loss: 0.5778 - val_accuracy: 0.6836\n",
      "Epoch 94/200\n",
      "27/27 - 0s - loss: 0.4945 - accuracy: 0.7415 - val_loss: 0.5807 - val_accuracy: 0.7006\n",
      "Epoch 95/200\n",
      "27/27 - 0s - loss: 0.4982 - accuracy: 0.7396 - val_loss: 0.5881 - val_accuracy: 0.7006\n",
      "Epoch 96/200\n",
      "27/27 - 0s - loss: 0.4941 - accuracy: 0.7396 - val_loss: 0.5811 - val_accuracy: 0.7006\n",
      "Epoch 97/200\n",
      "27/27 - 0s - loss: 0.4918 - accuracy: 0.7415 - val_loss: 0.5800 - val_accuracy: 0.6949\n",
      "Epoch 98/200\n",
      "27/27 - 0s - loss: 0.4930 - accuracy: 0.7434 - val_loss: 0.5773 - val_accuracy: 0.6949\n",
      "Epoch 99/200\n",
      "27/27 - 0s - loss: 0.4881 - accuracy: 0.7491 - val_loss: 0.5963 - val_accuracy: 0.6893\n",
      "Epoch 100/200\n",
      "27/27 - 0s - loss: 0.4992 - accuracy: 0.7377 - val_loss: 0.5845 - val_accuracy: 0.7119\n",
      "Epoch 101/200\n",
      "27/27 - 0s - loss: 0.4920 - accuracy: 0.7283 - val_loss: 0.5778 - val_accuracy: 0.6893\n",
      "Epoch 102/200\n",
      "27/27 - 0s - loss: 0.4904 - accuracy: 0.7434 - val_loss: 0.5777 - val_accuracy: 0.6780\n",
      "Epoch 103/200\n",
      "27/27 - 0s - loss: 0.4898 - accuracy: 0.7528 - val_loss: 0.5906 - val_accuracy: 0.7006\n",
      "Epoch 104/200\n",
      "27/27 - 0s - loss: 0.4888 - accuracy: 0.7566 - val_loss: 0.5765 - val_accuracy: 0.6836\n",
      "Epoch 105/200\n",
      "27/27 - 0s - loss: 0.4936 - accuracy: 0.7396 - val_loss: 0.5774 - val_accuracy: 0.6836\n",
      "Epoch 106/200\n",
      "27/27 - 0s - loss: 0.4893 - accuracy: 0.7415 - val_loss: 0.5792 - val_accuracy: 0.6836\n",
      "Epoch 107/200\n",
      "27/27 - 0s - loss: 0.4943 - accuracy: 0.7396 - val_loss: 0.5747 - val_accuracy: 0.6780\n",
      "Epoch 108/200\n",
      "27/27 - 0s - loss: 0.4881 - accuracy: 0.7453 - val_loss: 0.5805 - val_accuracy: 0.7062\n",
      "Epoch 109/200\n",
      "27/27 - 0s - loss: 0.4902 - accuracy: 0.7472 - val_loss: 0.5807 - val_accuracy: 0.6949\n",
      "Epoch 110/200\n",
      "27/27 - 0s - loss: 0.4893 - accuracy: 0.7453 - val_loss: 0.5915 - val_accuracy: 0.6949\n",
      "Epoch 111/200\n",
      "27/27 - 0s - loss: 0.4870 - accuracy: 0.7358 - val_loss: 0.5759 - val_accuracy: 0.6893\n",
      "Epoch 112/200\n",
      "27/27 - 0s - loss: 0.4940 - accuracy: 0.7472 - val_loss: 0.5736 - val_accuracy: 0.6780\n",
      "Epoch 113/200\n",
      "27/27 - 0s - loss: 0.4994 - accuracy: 0.7434 - val_loss: 0.5790 - val_accuracy: 0.6949\n",
      "Epoch 114/200\n",
      "27/27 - 0s - loss: 0.4882 - accuracy: 0.7472 - val_loss: 0.5769 - val_accuracy: 0.6836\n",
      "Epoch 115/200\n",
      "27/27 - 0s - loss: 0.4883 - accuracy: 0.7453 - val_loss: 0.5911 - val_accuracy: 0.6893\n",
      "Epoch 116/200\n",
      "27/27 - 0s - loss: 0.4922 - accuracy: 0.7472 - val_loss: 0.5761 - val_accuracy: 0.6949\n",
      "Epoch 117/200\n",
      "27/27 - 0s - loss: 0.4875 - accuracy: 0.7264 - val_loss: 0.5897 - val_accuracy: 0.6949\n",
      "Epoch 118/200\n",
      "27/27 - 0s - loss: 0.4982 - accuracy: 0.7415 - val_loss: 0.5856 - val_accuracy: 0.7006\n",
      "Epoch 119/200\n",
      "27/27 - 0s - loss: 0.4911 - accuracy: 0.7434 - val_loss: 0.5830 - val_accuracy: 0.6836\n",
      "Epoch 120/200\n",
      "27/27 - 0s - loss: 0.4878 - accuracy: 0.7528 - val_loss: 0.5756 - val_accuracy: 0.6836\n",
      "Epoch 121/200\n",
      "27/27 - 0s - loss: 0.4921 - accuracy: 0.7396 - val_loss: 0.5897 - val_accuracy: 0.7006\n",
      "Epoch 122/200\n",
      "27/27 - 0s - loss: 0.4830 - accuracy: 0.7491 - val_loss: 0.5789 - val_accuracy: 0.6836\n",
      "Epoch 123/200\n",
      "27/27 - 0s - loss: 0.4878 - accuracy: 0.7453 - val_loss: 0.5743 - val_accuracy: 0.6780\n",
      "Epoch 124/200\n",
      "27/27 - 0s - loss: 0.4835 - accuracy: 0.7585 - val_loss: 0.5768 - val_accuracy: 0.6893\n",
      "Epoch 125/200\n",
      "27/27 - 0s - loss: 0.4840 - accuracy: 0.7509 - val_loss: 0.5776 - val_accuracy: 0.7006\n",
      "Epoch 126/200\n",
      "27/27 - 0s - loss: 0.4844 - accuracy: 0.7434 - val_loss: 0.5846 - val_accuracy: 0.6949\n",
      "Epoch 127/200\n",
      "27/27 - 0s - loss: 0.4828 - accuracy: 0.7528 - val_loss: 0.5794 - val_accuracy: 0.6893\n",
      "Epoch 128/200\n",
      "27/27 - 0s - loss: 0.4859 - accuracy: 0.7434 - val_loss: 0.5749 - val_accuracy: 0.6836\n",
      "Epoch 129/200\n",
      "27/27 - 0s - loss: 0.4838 - accuracy: 0.7566 - val_loss: 0.5819 - val_accuracy: 0.6893\n",
      "Epoch 130/200\n",
      "27/27 - 0s - loss: 0.4856 - accuracy: 0.7472 - val_loss: 0.5795 - val_accuracy: 0.6893\n",
      "Epoch 131/200\n",
      "27/27 - 0s - loss: 0.4813 - accuracy: 0.7415 - val_loss: 0.5908 - val_accuracy: 0.6949\n",
      "Epoch 132/200\n",
      "27/27 - 0s - loss: 0.4840 - accuracy: 0.7509 - val_loss: 0.5798 - val_accuracy: 0.6893\n",
      "Epoch 00132: early stopping\n"
     ]
    },
    {
     "output_type": "execute_result",
     "data": {
      "text/plain": [
       "<tensorflow.python.keras.callbacks.History at 0x24dc8b110d0>"
      ]
     },
     "metadata": {},
     "execution_count": 59
    }
   ],
   "metadata": {}
  },
  {
   "cell_type": "code",
   "execution_count": 60,
   "source": [
    "livernnmodel.summary()"
   ],
   "outputs": [
    {
     "output_type": "stream",
     "name": "stdout",
     "text": [
      "Model: \"sequential\"\n",
      "_________________________________________________________________\n",
      "Layer (type)                 Output Shape              Param #   \n",
      "=================================================================\n",
      "dense (Dense)                (None, 128)               1408      \n",
      "_________________________________________________________________\n",
      "dense_1 (Dense)              (None, 32)                4128      \n",
      "_________________________________________________________________\n",
      "dense_2 (Dense)              (None, 8)                 264       \n",
      "_________________________________________________________________\n",
      "dense_3 (Dense)              (None, 1)                 9         \n",
      "=================================================================\n",
      "Total params: 5,809\n",
      "Trainable params: 5,809\n",
      "Non-trainable params: 0\n",
      "_________________________________________________________________\n"
     ]
    }
   ],
   "metadata": {}
  },
  {
   "cell_type": "code",
   "execution_count": 61,
   "source": [
    "y_pred = livernnmodel.predict(x_test)\r\n",
    "y_pred\r\n",
    "argmax = []\r\n",
    "for val in y_pred:\r\n",
    "    if val >= 0.5:\r\n",
    "      argmax.append(1)\r\n",
    "    else:\r\n",
    "        argmax.append(0)\r\n",
    "argmax[:10]"
   ],
   "outputs": [
    {
     "output_type": "execute_result",
     "data": {
      "text/plain": [
       "[0, 0, 1, 1, 0, 0, 0, 0, 0, 0]"
      ]
     },
     "metadata": {},
     "execution_count": 61
    }
   ],
   "metadata": {}
  },
  {
   "cell_type": "code",
   "execution_count": 62,
   "source": [
    "accuracy = accuracy_score(y_test,argmax)\r\n",
    "print(\"Accuracy for neural network on test set:\", accuracy)"
   ],
   "outputs": [
    {
     "output_type": "stream",
     "name": "stdout",
     "text": [
      "Accuracy for neural network on test set: 0.736\n"
     ]
    }
   ],
   "metadata": {}
  },
  {
   "cell_type": "code",
   "execution_count": 63,
   "source": [
    "cm = confusion_matrix(y_test, argmax)\r\n",
    "print(cm)\r\n",
    "plot_confusion_matrix(cm,['0','1'])"
   ],
   "outputs": [
    {
     "output_type": "stream",
     "name": "stdout",
     "text": [
      "[[59  9]\n",
      " [24 33]]\n"
     ]
    },
    {
     "output_type": "display_data",
     "data": {
      "image/png": "[encoded data removed]",
      "text/plain": [
       "<Figure size 432x288 with 2 Axes>"
      ]
     },
     "metadata": {
      "needs_background": "light"
     }
    }
   ],
   "metadata": {}
  },
  {
   "cell_type": "code",
   "execution_count": 64,
   "source": [
    "plot_roc(argmax,y_test)"
   ],
   "outputs": [
    {
     "output_type": "display_data",
     "data": {
      "image/png": "[encoded data removed]",
      "text/plain": [
       "<Figure size 432x288 with 1 Axes>"
      ]
     },
     "metadata": {
      "needs_background": "light"
     }
    }
   ],
   "metadata": {}
  },
  {
   "cell_type": "markdown",
   "source": [
    "# Saving Model"
   ],
   "metadata": {}
  },
  {
   "cell_type": "code",
   "execution_count": 65,
   "source": [
    "import pickle\r\n",
    "pickle.dump(liverrf,open(\"C:/Users/prera/Desktop/FINALPROJECT/models/liver_model.pkl\",\"wb\"))"
   ],
   "outputs": [],
   "metadata": {}
  },
  {
   "cell_type": "code",
   "execution_count": 69,
   "source": [
    "x_test_2=x_test[2,]\r\n",
    "\r\n",
    "x_test_2=x_test_2.reshape(1,-1)\r\n",
    "\r\n",
    "x_test_2"
   ],
   "outputs": [
    {
     "output_type": "execute_result",
     "data": {
      "text/plain": [
       "array([[0.65116279, 1.        , 0.01474531, 0.0255102 , 0.14509038,\n",
       "        0.11055276, 0.05854849, 0.26086957, 0.23913043, 0.2       ]])"
      ]
     },
     "metadata": {},
     "execution_count": 69
    }
   ],
   "metadata": {}
  },
  {
   "cell_type": "code",
   "execution_count": 70,
   "source": [
    "model=pickle.load(open(\"C:/Users/prera/Desktop/FINALPROJECT/models/liver_model.pkl\",\"rb\"))\r\n",
    "result = model.predict(x_test_2)\r\n",
    "resultp=model.predict_proba(x_test_2)\r\n",
    "print(resultp)"
   ],
   "outputs": [
    {
     "output_type": "stream",
     "name": "stdout",
     "text": [
      "[[0.09 0.91]]\n"
     ]
    }
   ],
   "metadata": {}
  },
  {
   "cell_type": "code",
   "execution_count": 67,
   "source": [
    "# loaded_model = pickle.load(open(filename, 'rb'))\r\n",
    "# result = loaded_model.predict_proba(x_test_1)\r\n",
    "# print(result)"
   ],
   "outputs": [],
   "metadata": {}
  },
  {
   "cell_type": "code",
   "execution_count": 68,
   "source": [
    "# 90% --> .9>.88  no\r\n",
    "# 80% --> .8>.88  yes"
   ],
   "outputs": [],
   "metadata": {}
  }
 ],
 "metadata": {
  "kernelspec": {
   "name": "python3",
   "display_name": "Python 3.9.7 64-bit"
  },
  "language_info": {
   "codemirror_mode": {
    "name": "ipython",
    "version": 3
   },
   "file_extension": ".py",
   "mimetype": "text/x-python",
   "name": "python",
   "nbconvert_exporter": "python",
   "pygments_lexer": "ipython3",
   "version": "3.9.7"
  },
  "interpreter": {
   "hash": "ac59ebe37160ed0dfa835113d9b8498d9f09ceb179beaac4002f036b9467c963"
  }
 },
 "nbformat": 4,
 "nbformat_minor": 2
}