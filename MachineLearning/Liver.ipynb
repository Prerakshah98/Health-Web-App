{
 "cells": [
  {
   "cell_type": "markdown",
   "metadata": {},
   "source": [
    "<h1><b><center>Liver disease Prediction</center></b></h1>"
   ]
  },
  {
   "cell_type": "code",
   "execution_count": 1,
   "metadata": {},
   "outputs": [
    {
     "name": "stdout",
     "output_type": "stream",
     "text": [
      "INFO:tensorflow:Enabling eager execution\n",
      "INFO:tensorflow:Enabling v2 tensorshape\n",
      "INFO:tensorflow:Enabling resource variables\n",
      "INFO:tensorflow:Enabling tensor equality\n",
      "INFO:tensorflow:Enabling control flow v2\n"
     ]
    }
   ],
   "source": [
    "import pandas as pd\n",
    "import numpy as np\n",
    "import matplotlib.pyplot as plt\n",
    "import seaborn as sns\n",
    "import imblearn\n",
    "from imblearn.over_sampling import SMOTE\n",
    "from collections import Counter\n",
    "from sklearn.experimental import enable_iterative_imputer\n",
    "from sklearn.impute import IterativeImputer\n",
    "from sklearn.preprocessing import MinMaxScaler\n",
    "from sklearn import metrics\n",
    "from sklearn.metrics import roc_curve, auc \n",
    "from sklearn.metrics import accuracy_score\n",
    "from sklearn.metrics import confusion_matrix\n",
    "from sklearn.metrics import classification_report\n",
    "from sklearn.model_selection import train_test_split\n",
    "from sklearn.linear_model import LogisticRegression\n",
    "from sklearn.model_selection import cross_val_score\n",
    "import tensorflow as tf\n",
    "from tensorflow.keras.models import Sequential\n",
    "from tensorflow.keras.layers import Dense, Activation\n",
    "from tensorflow.keras.callbacks import EarlyStopping, ModelCheckpoint\n",
    "%matplotlib inline\n",
    "import warnings\n",
    "warnings.filterwarnings(\"ignore\")"
   ]
  },
  {
   "cell_type": "code",
   "execution_count": 2,
   "metadata": {},
   "outputs": [],
   "source": [
    "def plot_confusion_matrix(cm, names, title='Confusion matrix', cmap=plt.cm.Blues):\n",
    "    plt.figure()\n",
    "    plt.imshow(cm, interpolation='nearest', cmap=cmap)\n",
    "    plt.title(title)\n",
    "    plt.colorbar()\n",
    "    tick_marks = np.arange(len(names))\n",
    "    plt.xticks(tick_marks, names, rotation=45)\n",
    "    plt.yticks(tick_marks, names)\n",
    "    plt.tight_layout()\n",
    "    plt.ylabel('True label')\n",
    "    plt.xlabel('Predicted label')\n",
    "    plt.show()\n",
    "    \n",
    "\n",
    "# Plot an ROC. pred - the predictions, y - the expected output.\n",
    "def plot_roc(pred,y):\n",
    "    fpr, tpr, thresholds = roc_curve(y, pred)\n",
    "    roc_auc = auc(fpr, tpr)\n",
    "\n",
    "    plt.figure()\n",
    "    plt.plot(fpr, tpr, label='ROC curve (area = %0.2f)' % roc_auc)\n",
    "    plt.plot([0, 1], [0, 1], 'k--')\n",
    "    plt.xlim([0.0, 1.0])\n",
    "    plt.ylim([0.0, 1.05])\n",
    "    plt.xlabel('False Positive Rate')\n",
    "    plt.ylabel('True Positive Rate')\n",
    "    plt.title('Receiver Operating Characteristic (ROC)')\n",
    "    plt.legend(loc=\"lower right\")\n",
    "    plt.show()"
   ]
  },
  {
   "cell_type": "code",
   "execution_count": 3,
   "metadata": {},
   "outputs": [],
   "source": [
    "import warnings\n",
    "warnings.filterwarnings(\"ignore\")"
   ]
  },
  {
   "cell_type": "code",
   "execution_count": 4,
   "metadata": {},
   "outputs": [],
   "source": [
    "df = pd.read_csv(r\"C:/Users/prera/Desktop/FINALPROJECT/data/liver_disease.csv\")"
   ]
  },
  {
   "cell_type": "code",
   "execution_count": 5,
   "metadata": {
    "scrolled": true
   },
   "outputs": [
    {
     "data": {
      "text/html": [
       "<div>\n",
       "<style scoped>\n",
       "    .dataframe tbody tr th:only-of-type {\n",
       "        vertical-align: middle;\n",
       "    }\n",
       "\n",
       "    .dataframe tbody tr th {\n",
       "        vertical-align: top;\n",
       "    }\n",
       "\n",
       "    .dataframe thead th {\n",
       "        text-align: right;\n",
       "    }\n",
       "</style>\n",
       "<table border=\"1\" class=\"dataframe\">\n",
       "  <thead>\n",
       "    <tr style=\"text-align: right;\">\n",
       "      <th></th>\n",
       "      <th>Age</th>\n",
       "      <th>Gender</th>\n",
       "      <th>Total_Bilirubin</th>\n",
       "      <th>Direct_Bilirubin</th>\n",
       "      <th>Alkaline_Phosphotase</th>\n",
       "      <th>Alamine_Aminotransferase</th>\n",
       "      <th>Aspartate_Aminotransferase</th>\n",
       "      <th>Total_Protiens</th>\n",
       "      <th>Albumin</th>\n",
       "      <th>Albumin_and_Globulin_Ratio</th>\n",
       "      <th>Dataset</th>\n",
       "    </tr>\n",
       "  </thead>\n",
       "  <tbody>\n",
       "    <tr>\n",
       "      <th>0</th>\n",
       "      <td>65</td>\n",
       "      <td>Female</td>\n",
       "      <td>0.7</td>\n",
       "      <td>0.1</td>\n",
       "      <td>187</td>\n",
       "      <td>16</td>\n",
       "      <td>18</td>\n",
       "      <td>6.8</td>\n",
       "      <td>3.3</td>\n",
       "      <td>0.90</td>\n",
       "      <td>1</td>\n",
       "    </tr>\n",
       "    <tr>\n",
       "      <th>1</th>\n",
       "      <td>62</td>\n",
       "      <td>Male</td>\n",
       "      <td>10.9</td>\n",
       "      <td>5.5</td>\n",
       "      <td>699</td>\n",
       "      <td>64</td>\n",
       "      <td>100</td>\n",
       "      <td>7.5</td>\n",
       "      <td>3.2</td>\n",
       "      <td>0.74</td>\n",
       "      <td>1</td>\n",
       "    </tr>\n",
       "    <tr>\n",
       "      <th>2</th>\n",
       "      <td>62</td>\n",
       "      <td>Male</td>\n",
       "      <td>7.3</td>\n",
       "      <td>4.1</td>\n",
       "      <td>490</td>\n",
       "      <td>60</td>\n",
       "      <td>68</td>\n",
       "      <td>7.0</td>\n",
       "      <td>3.3</td>\n",
       "      <td>0.89</td>\n",
       "      <td>1</td>\n",
       "    </tr>\n",
       "    <tr>\n",
       "      <th>3</th>\n",
       "      <td>58</td>\n",
       "      <td>Male</td>\n",
       "      <td>1.0</td>\n",
       "      <td>0.4</td>\n",
       "      <td>182</td>\n",
       "      <td>14</td>\n",
       "      <td>20</td>\n",
       "      <td>6.8</td>\n",
       "      <td>3.4</td>\n",
       "      <td>1.00</td>\n",
       "      <td>1</td>\n",
       "    </tr>\n",
       "    <tr>\n",
       "      <th>4</th>\n",
       "      <td>72</td>\n",
       "      <td>Male</td>\n",
       "      <td>3.9</td>\n",
       "      <td>2.0</td>\n",
       "      <td>195</td>\n",
       "      <td>27</td>\n",
       "      <td>59</td>\n",
       "      <td>7.3</td>\n",
       "      <td>2.4</td>\n",
       "      <td>0.40</td>\n",
       "      <td>1</td>\n",
       "    </tr>\n",
       "    <tr>\n",
       "      <th>5</th>\n",
       "      <td>46</td>\n",
       "      <td>Male</td>\n",
       "      <td>1.8</td>\n",
       "      <td>0.7</td>\n",
       "      <td>208</td>\n",
       "      <td>19</td>\n",
       "      <td>14</td>\n",
       "      <td>7.6</td>\n",
       "      <td>4.4</td>\n",
       "      <td>1.30</td>\n",
       "      <td>1</td>\n",
       "    </tr>\n",
       "    <tr>\n",
       "      <th>6</th>\n",
       "      <td>26</td>\n",
       "      <td>Female</td>\n",
       "      <td>0.9</td>\n",
       "      <td>0.2</td>\n",
       "      <td>154</td>\n",
       "      <td>16</td>\n",
       "      <td>12</td>\n",
       "      <td>7.0</td>\n",
       "      <td>3.5</td>\n",
       "      <td>1.00</td>\n",
       "      <td>1</td>\n",
       "    </tr>\n",
       "    <tr>\n",
       "      <th>7</th>\n",
       "      <td>29</td>\n",
       "      <td>Female</td>\n",
       "      <td>0.9</td>\n",
       "      <td>0.3</td>\n",
       "      <td>202</td>\n",
       "      <td>14</td>\n",
       "      <td>11</td>\n",
       "      <td>6.7</td>\n",
       "      <td>3.6</td>\n",
       "      <td>1.10</td>\n",
       "      <td>1</td>\n",
       "    </tr>\n",
       "    <tr>\n",
       "      <th>8</th>\n",
       "      <td>17</td>\n",
       "      <td>Male</td>\n",
       "      <td>0.9</td>\n",
       "      <td>0.3</td>\n",
       "      <td>202</td>\n",
       "      <td>22</td>\n",
       "      <td>19</td>\n",
       "      <td>7.4</td>\n",
       "      <td>4.1</td>\n",
       "      <td>1.20</td>\n",
       "      <td>2</td>\n",
       "    </tr>\n",
       "    <tr>\n",
       "      <th>9</th>\n",
       "      <td>55</td>\n",
       "      <td>Male</td>\n",
       "      <td>0.7</td>\n",
       "      <td>0.2</td>\n",
       "      <td>290</td>\n",
       "      <td>53</td>\n",
       "      <td>58</td>\n",
       "      <td>6.8</td>\n",
       "      <td>3.4</td>\n",
       "      <td>1.00</td>\n",
       "      <td>1</td>\n",
       "    </tr>\n",
       "  </tbody>\n",
       "</table>\n",
       "</div>"
      ],
      "text/plain": [
       "   Age  Gender  Total_Bilirubin  Direct_Bilirubin  Alkaline_Phosphotase  \\\n",
       "0   65  Female              0.7               0.1                   187   \n",
       "1   62    Male             10.9               5.5                   699   \n",
       "2   62    Male              7.3               4.1                   490   \n",
       "3   58    Male              1.0               0.4                   182   \n",
       "4   72    Male              3.9               2.0                   195   \n",
       "5   46    Male              1.8               0.7                   208   \n",
       "6   26  Female              0.9               0.2                   154   \n",
       "7   29  Female              0.9               0.3                   202   \n",
       "8   17    Male              0.9               0.3                   202   \n",
       "9   55    Male              0.7               0.2                   290   \n",
       "\n",
       "   Alamine_Aminotransferase  Aspartate_Aminotransferase  Total_Protiens  \\\n",
       "0                        16                          18             6.8   \n",
       "1                        64                         100             7.5   \n",
       "2                        60                          68             7.0   \n",
       "3                        14                          20             6.8   \n",
       "4                        27                          59             7.3   \n",
       "5                        19                          14             7.6   \n",
       "6                        16                          12             7.0   \n",
       "7                        14                          11             6.7   \n",
       "8                        22                          19             7.4   \n",
       "9                        53                          58             6.8   \n",
       "\n",
       "   Albumin  Albumin_and_Globulin_Ratio  Dataset  \n",
       "0      3.3                        0.90        1  \n",
       "1      3.2                        0.74        1  \n",
       "2      3.3                        0.89        1  \n",
       "3      3.4                        1.00        1  \n",
       "4      2.4                        0.40        1  \n",
       "5      4.4                        1.30        1  \n",
       "6      3.5                        1.00        1  \n",
       "7      3.6                        1.10        1  \n",
       "8      4.1                        1.20        2  \n",
       "9      3.4                        1.00        1  "
      ]
     },
     "execution_count": 5,
     "metadata": {},
     "output_type": "execute_result"
    }
   ],
   "source": [
    "df.head(10)"
   ]
  },
  {
   "cell_type": "code",
   "execution_count": 6,
   "metadata": {},
   "outputs": [
    {
     "data": {
      "text/plain": [
       "(583, 11)"
      ]
     },
     "execution_count": 6,
     "metadata": {},
     "output_type": "execute_result"
    }
   ],
   "source": [
    "df.shape"
   ]
  },
  {
   "cell_type": "code",
   "execution_count": 7,
   "metadata": {},
   "outputs": [
    {
     "data": {
      "text/plain": [
       "Index(['Age', 'Gender', 'Total_Bilirubin', 'Direct_Bilirubin',\n",
       "       'Alkaline_Phosphotase', 'Alamine_Aminotransferase',\n",
       "       'Aspartate_Aminotransferase', 'Total_Protiens', 'Albumin',\n",
       "       'Albumin_and_Globulin_Ratio', 'Dataset'],\n",
       "      dtype='object')"
      ]
     },
     "execution_count": 7,
     "metadata": {},
     "output_type": "execute_result"
    }
   ],
   "source": [
    "df.columns"
   ]
  },
  {
   "cell_type": "code",
   "execution_count": 8,
   "metadata": {},
   "outputs": [],
   "source": [
    "col_dict={\"Dataset\":\"classification\"}\n",
    "\n",
    "df.rename(columns=col_dict, inplace=True)"
   ]
  },
  {
   "cell_type": "code",
   "execution_count": 9,
   "metadata": {},
   "outputs": [
    {
     "name": "stdout",
     "output_type": "stream",
     "text": [
      "<class 'pandas.core.frame.DataFrame'>\n",
      "RangeIndex: 583 entries, 0 to 582\n",
      "Data columns (total 11 columns):\n",
      " #   Column                      Non-Null Count  Dtype  \n",
      "---  ------                      --------------  -----  \n",
      " 0   Age                         583 non-null    int64  \n",
      " 1   Gender                      583 non-null    object \n",
      " 2   Total_Bilirubin             583 non-null    float64\n",
      " 3   Direct_Bilirubin            583 non-null    float64\n",
      " 4   Alkaline_Phosphotase        583 non-null    int64  \n",
      " 5   Alamine_Aminotransferase    583 non-null    int64  \n",
      " 6   Aspartate_Aminotransferase  583 non-null    int64  \n",
      " 7   Total_Protiens              583 non-null    float64\n",
      " 8   Albumin                     583 non-null    float64\n",
      " 9   Albumin_and_Globulin_Ratio  579 non-null    float64\n",
      " 10  classification              583 non-null    int64  \n",
      "dtypes: float64(5), int64(5), object(1)\n",
      "memory usage: 50.2+ KB\n"
     ]
    }
   ],
   "source": [
    "df.info()"
   ]
  },
  {
   "cell_type": "code",
   "execution_count": 10,
   "metadata": {},
   "outputs": [
    {
     "name": "stdout",
     "output_type": "stream",
     "text": [
      "Age : 72 values\n",
      "Gender : 2 values\n",
      "Total_Bilirubin : 113 values\n",
      "Direct_Bilirubin : 80 values\n",
      "Alkaline_Phosphotase : 263 values\n",
      "Alamine_Aminotransferase : 152 values\n",
      "Aspartate_Aminotransferase : 177 values\n",
      "Total_Protiens : 58 values\n",
      "Albumin : 40 values\n",
      "Albumin_and_Globulin_Ratio : 69 values\n",
      "classification : 2 values\n"
     ]
    }
   ],
   "source": [
    "for i in df.columns:\n",
    "    print(f'{i} : {df[i].nunique()} values')"
   ]
  },
  {
   "cell_type": "code",
   "execution_count": 11,
   "metadata": {},
   "outputs": [],
   "source": [
    "numerical_features = []\n",
    "categorical_features = []\n",
    "\n",
    "for i in df.columns:\n",
    "    if df[i].nunique()>7:\n",
    "        numerical_features.append(i)\n",
    "    else:\n",
    "        categorical_features.append(i)"
   ]
  },
  {
   "cell_type": "code",
   "execution_count": 12,
   "metadata": {},
   "outputs": [
    {
     "name": "stdout",
     "output_type": "stream",
     "text": [
      "9 Numerical features: \n",
      " ['Age', 'Total_Bilirubin', 'Direct_Bilirubin', 'Alkaline_Phosphotase', 'Alamine_Aminotransferase', 'Aspartate_Aminotransferase', 'Total_Protiens', 'Albumin', 'Albumin_and_Globulin_Ratio']\n",
      "\n",
      "\n",
      " 2 Categorical features:\n",
      "  ['Gender', 'classification']\n"
     ]
    }
   ],
   "source": [
    "print(len(numerical_features),'Numerical features: \\n', numerical_features)\n",
    "print('\\n\\n',len(categorical_features),'Categorical features:\\n ', categorical_features)"
   ]
  },
  {
   "cell_type": "code",
   "execution_count": 13,
   "metadata": {},
   "outputs": [
    {
     "data": {
      "text/plain": [
       "Gender            object\n",
       "classification     int64\n",
       "dtype: object"
      ]
     },
     "execution_count": 13,
     "metadata": {},
     "output_type": "execute_result"
    }
   ],
   "source": [
    "df[categorical_features].dtypes"
   ]
  },
  {
   "cell_type": "code",
   "execution_count": 14,
   "metadata": {},
   "outputs": [
    {
     "name": "stdout",
     "output_type": "stream",
     "text": [
      "Gender has ['Female' 'Male'] categories.\n",
      "\n",
      "classification has [1 2] categories.\n",
      "\n"
     ]
    }
   ],
   "source": [
    "for feats in categorical_features:\n",
    "    print(f'{feats} has {df[feats].unique()} categories.\\n')"
   ]
  },
  {
   "cell_type": "code",
   "execution_count": 15,
   "metadata": {},
   "outputs": [],
   "source": [
    "df[\"classification\"] = df[\"classification\"].astype(str)\n",
    "\n",
    "df['classification']=df['classification'].replace({'1':'liver_disease','2':'not_liver_disease'})"
   ]
  },
  {
   "cell_type": "code",
   "execution_count": 16,
   "metadata": {},
   "outputs": [
    {
     "name": "stdout",
     "output_type": "stream",
     "text": [
      "Gender has ['Female' 'Male'] categories.\n",
      "\n",
      "classification has ['liver_disease' 'not_liver_disease'] categories.\n",
      "\n"
     ]
    }
   ],
   "source": [
    "for feats in categorical_features:\n",
    "    print(f'{feats} has {df[feats].unique()} categories.\\n')"
   ]
  },
  {
   "cell_type": "code",
   "execution_count": 17,
   "metadata": {},
   "outputs": [
    {
     "data": {
      "text/html": [
       "<div>\n",
       "<style scoped>\n",
       "    .dataframe tbody tr th:only-of-type {\n",
       "        vertical-align: middle;\n",
       "    }\n",
       "\n",
       "    .dataframe tbody tr th {\n",
       "        vertical-align: top;\n",
       "    }\n",
       "\n",
       "    .dataframe thead th {\n",
       "        text-align: right;\n",
       "    }\n",
       "</style>\n",
       "<table border=\"1\" class=\"dataframe\">\n",
       "  <thead>\n",
       "    <tr style=\"text-align: right;\">\n",
       "      <th></th>\n",
       "      <th>count</th>\n",
       "      <th>unique</th>\n",
       "      <th>top</th>\n",
       "      <th>freq</th>\n",
       "      <th>mean</th>\n",
       "      <th>std</th>\n",
       "      <th>min</th>\n",
       "      <th>25%</th>\n",
       "      <th>50%</th>\n",
       "      <th>75%</th>\n",
       "      <th>max</th>\n",
       "    </tr>\n",
       "  </thead>\n",
       "  <tbody>\n",
       "    <tr>\n",
       "      <th>Age</th>\n",
       "      <td>583.0</td>\n",
       "      <td>NaN</td>\n",
       "      <td>NaN</td>\n",
       "      <td>NaN</td>\n",
       "      <td>44.746141</td>\n",
       "      <td>16.189833</td>\n",
       "      <td>4.0</td>\n",
       "      <td>33.0</td>\n",
       "      <td>45.0</td>\n",
       "      <td>58.0</td>\n",
       "      <td>90.0</td>\n",
       "    </tr>\n",
       "    <tr>\n",
       "      <th>Gender</th>\n",
       "      <td>583</td>\n",
       "      <td>2</td>\n",
       "      <td>Male</td>\n",
       "      <td>441</td>\n",
       "      <td>NaN</td>\n",
       "      <td>NaN</td>\n",
       "      <td>NaN</td>\n",
       "      <td>NaN</td>\n",
       "      <td>NaN</td>\n",
       "      <td>NaN</td>\n",
       "      <td>NaN</td>\n",
       "    </tr>\n",
       "    <tr>\n",
       "      <th>Total_Bilirubin</th>\n",
       "      <td>583.0</td>\n",
       "      <td>NaN</td>\n",
       "      <td>NaN</td>\n",
       "      <td>NaN</td>\n",
       "      <td>3.298799</td>\n",
       "      <td>6.209522</td>\n",
       "      <td>0.4</td>\n",
       "      <td>0.8</td>\n",
       "      <td>1.0</td>\n",
       "      <td>2.6</td>\n",
       "      <td>75.0</td>\n",
       "    </tr>\n",
       "    <tr>\n",
       "      <th>Direct_Bilirubin</th>\n",
       "      <td>583.0</td>\n",
       "      <td>NaN</td>\n",
       "      <td>NaN</td>\n",
       "      <td>NaN</td>\n",
       "      <td>1.486106</td>\n",
       "      <td>2.808498</td>\n",
       "      <td>0.1</td>\n",
       "      <td>0.2</td>\n",
       "      <td>0.3</td>\n",
       "      <td>1.3</td>\n",
       "      <td>19.7</td>\n",
       "    </tr>\n",
       "    <tr>\n",
       "      <th>Alkaline_Phosphotase</th>\n",
       "      <td>583.0</td>\n",
       "      <td>NaN</td>\n",
       "      <td>NaN</td>\n",
       "      <td>NaN</td>\n",
       "      <td>290.576329</td>\n",
       "      <td>242.937989</td>\n",
       "      <td>63.0</td>\n",
       "      <td>175.5</td>\n",
       "      <td>208.0</td>\n",
       "      <td>298.0</td>\n",
       "      <td>2110.0</td>\n",
       "    </tr>\n",
       "    <tr>\n",
       "      <th>Alamine_Aminotransferase</th>\n",
       "      <td>583.0</td>\n",
       "      <td>NaN</td>\n",
       "      <td>NaN</td>\n",
       "      <td>NaN</td>\n",
       "      <td>80.713551</td>\n",
       "      <td>182.620356</td>\n",
       "      <td>10.0</td>\n",
       "      <td>23.0</td>\n",
       "      <td>35.0</td>\n",
       "      <td>60.5</td>\n",
       "      <td>2000.0</td>\n",
       "    </tr>\n",
       "    <tr>\n",
       "      <th>Aspartate_Aminotransferase</th>\n",
       "      <td>583.0</td>\n",
       "      <td>NaN</td>\n",
       "      <td>NaN</td>\n",
       "      <td>NaN</td>\n",
       "      <td>109.910806</td>\n",
       "      <td>288.918529</td>\n",
       "      <td>10.0</td>\n",
       "      <td>25.0</td>\n",
       "      <td>42.0</td>\n",
       "      <td>87.0</td>\n",
       "      <td>4929.0</td>\n",
       "    </tr>\n",
       "    <tr>\n",
       "      <th>Total_Protiens</th>\n",
       "      <td>583.0</td>\n",
       "      <td>NaN</td>\n",
       "      <td>NaN</td>\n",
       "      <td>NaN</td>\n",
       "      <td>6.48319</td>\n",
       "      <td>1.085451</td>\n",
       "      <td>2.7</td>\n",
       "      <td>5.8</td>\n",
       "      <td>6.6</td>\n",
       "      <td>7.2</td>\n",
       "      <td>9.6</td>\n",
       "    </tr>\n",
       "    <tr>\n",
       "      <th>Albumin</th>\n",
       "      <td>583.0</td>\n",
       "      <td>NaN</td>\n",
       "      <td>NaN</td>\n",
       "      <td>NaN</td>\n",
       "      <td>3.141852</td>\n",
       "      <td>0.795519</td>\n",
       "      <td>0.9</td>\n",
       "      <td>2.6</td>\n",
       "      <td>3.1</td>\n",
       "      <td>3.8</td>\n",
       "      <td>5.5</td>\n",
       "    </tr>\n",
       "    <tr>\n",
       "      <th>Albumin_and_Globulin_Ratio</th>\n",
       "      <td>579.0</td>\n",
       "      <td>NaN</td>\n",
       "      <td>NaN</td>\n",
       "      <td>NaN</td>\n",
       "      <td>0.947064</td>\n",
       "      <td>0.319592</td>\n",
       "      <td>0.3</td>\n",
       "      <td>0.7</td>\n",
       "      <td>0.93</td>\n",
       "      <td>1.1</td>\n",
       "      <td>2.8</td>\n",
       "    </tr>\n",
       "    <tr>\n",
       "      <th>classification</th>\n",
       "      <td>583</td>\n",
       "      <td>2</td>\n",
       "      <td>liver_disease</td>\n",
       "      <td>416</td>\n",
       "      <td>NaN</td>\n",
       "      <td>NaN</td>\n",
       "      <td>NaN</td>\n",
       "      <td>NaN</td>\n",
       "      <td>NaN</td>\n",
       "      <td>NaN</td>\n",
       "      <td>NaN</td>\n",
       "    </tr>\n",
       "  </tbody>\n",
       "</table>\n",
       "</div>"
      ],
      "text/plain": [
       "                            count unique            top freq        mean  \\\n",
       "Age                         583.0    NaN            NaN  NaN   44.746141   \n",
       "Gender                        583      2           Male  441         NaN   \n",
       "Total_Bilirubin             583.0    NaN            NaN  NaN    3.298799   \n",
       "Direct_Bilirubin            583.0    NaN            NaN  NaN    1.486106   \n",
       "Alkaline_Phosphotase        583.0    NaN            NaN  NaN  290.576329   \n",
       "Alamine_Aminotransferase    583.0    NaN            NaN  NaN   80.713551   \n",
       "Aspartate_Aminotransferase  583.0    NaN            NaN  NaN  109.910806   \n",
       "Total_Protiens              583.0    NaN            NaN  NaN     6.48319   \n",
       "Albumin                     583.0    NaN            NaN  NaN    3.141852   \n",
       "Albumin_and_Globulin_Ratio  579.0    NaN            NaN  NaN    0.947064   \n",
       "classification                583      2  liver_disease  416         NaN   \n",
       "\n",
       "                                   std   min    25%    50%    75%     max  \n",
       "Age                          16.189833   4.0   33.0   45.0   58.0    90.0  \n",
       "Gender                             NaN   NaN    NaN    NaN    NaN     NaN  \n",
       "Total_Bilirubin               6.209522   0.4    0.8    1.0    2.6    75.0  \n",
       "Direct_Bilirubin              2.808498   0.1    0.2    0.3    1.3    19.7  \n",
       "Alkaline_Phosphotase        242.937989  63.0  175.5  208.0  298.0  2110.0  \n",
       "Alamine_Aminotransferase    182.620356  10.0   23.0   35.0   60.5  2000.0  \n",
       "Aspartate_Aminotransferase  288.918529  10.0   25.0   42.0   87.0  4929.0  \n",
       "Total_Protiens                1.085451   2.7    5.8    6.6    7.2     9.6  \n",
       "Albumin                       0.795519   0.9    2.6    3.1    3.8     5.5  \n",
       "Albumin_and_Globulin_Ratio    0.319592   0.3    0.7   0.93    1.1     2.8  \n",
       "classification                     NaN   NaN    NaN    NaN    NaN     NaN  "
      ]
     },
     "execution_count": 17,
     "metadata": {},
     "output_type": "execute_result"
    }
   ],
   "source": [
    "df.describe(include='all').T"
   ]
  },
  {
   "cell_type": "code",
   "execution_count": 18,
   "metadata": {},
   "outputs": [
    {
     "data": {
      "text/plain": [
       "Albumin_and_Globulin_Ratio    4\n",
       "Age                           0\n",
       "Gender                        0\n",
       "Total_Bilirubin               0\n",
       "Direct_Bilirubin              0\n",
       "Alkaline_Phosphotase          0\n",
       "Alamine_Aminotransferase      0\n",
       "Aspartate_Aminotransferase    0\n",
       "Total_Protiens                0\n",
       "Albumin                       0\n",
       "classification                0\n",
       "dtype: int64"
      ]
     },
     "execution_count": 18,
     "metadata": {},
     "output_type": "execute_result"
    }
   ],
   "source": [
    "df.isna().sum().sort_values(ascending=False)"
   ]
  },
  {
   "cell_type": "markdown",
   "metadata": {},
   "source": [
    "# EDA"
   ]
  },
  {
   "cell_type": "markdown",
   "metadata": {},
   "source": [
    "# Target Class"
   ]
  },
  {
   "cell_type": "code",
   "execution_count": 19,
   "metadata": {},
   "outputs": [
    {
     "data": {
      "image/png": "[encoded data removed]",
      "text/plain": [
       "<Figure size 432x288 with 1 Axes>"
      ]
     },
     "metadata": {
      "needs_background": "light"
     },
     "output_type": "display_data"
    },
    {
     "name": "stdout",
     "output_type": "stream",
     "text": [
      "Percent of chronic kidney disease sample:  71.36 %\n",
      "Percent of not a chronic kidney disease sample:  28.64 %\n"
     ]
    }
   ],
   "source": [
    "sns.countplot(x='classification',data=df)\n",
    "plt.xlabel(\"classification\")\n",
    "plt.ylabel(\"Count\")\n",
    "plt.title(\"target Class\")\n",
    "plt.show()\n",
    "print('Percent of chronic kidney disease sample: ',round(len(df[df['classification']=='liver_disease'])/len(df['classification'])*100,2),\"%\")\n",
    "print('Percent of not a chronic kidney disease sample: ',round(len(df[df['classification']=='not_liver_disease'])/len(df['classification'])*100,2),\"%\")"
   ]
  },
  {
   "cell_type": "markdown",
   "metadata": {},
   "source": [
    "# Numerical features"
   ]
  },
  {
   "cell_type": "markdown",
   "metadata": {},
   "source": [
    "# Imputing numerical coulmns using MICE"
   ]
  },
  {
   "cell_type": "markdown",
   "metadata": {},
   "source": [
    "\n",
    "https://scikit-learn.org/stable/modules/generated/sklearn.impute.IterativeImputer.html\n",
    "\n",
    "https://medium.com/@WalePhenomenon/missing-data-conundrum-exploration-and-imputation-techniques-9f40abe0fd87"
   ]
  },
  {
   "cell_type": "code",
   "execution_count": 20,
   "metadata": {},
   "outputs": [
    {
     "data": {
      "text/plain": [
       "Albumin_and_Globulin_Ratio    0.686106\n",
       "Age                           0.000000\n",
       "Total_Bilirubin               0.000000\n",
       "Direct_Bilirubin              0.000000\n",
       "Alkaline_Phosphotase          0.000000\n",
       "Alamine_Aminotransferase      0.000000\n",
       "Aspartate_Aminotransferase    0.000000\n",
       "Total_Protiens                0.000000\n",
       "Albumin                       0.000000\n",
       "dtype: float64"
      ]
     },
     "execution_count": 20,
     "metadata": {},
     "output_type": "execute_result"
    }
   ],
   "source": [
    "((df[numerical_features].isnull().sum()/df.shape[0])*100).sort_values(ascending=False)"
   ]
  },
  {
   "cell_type": "code",
   "execution_count": 21,
   "metadata": {},
   "outputs": [],
   "source": [
    "mice_imputer = IterativeImputer() \n",
    "\n",
    "df[numerical_features] = mice_imputer.fit_transform(df[numerical_features]) "
   ]
  },
  {
   "cell_type": "code",
   "execution_count": 22,
   "metadata": {},
   "outputs": [
    {
     "data": {
      "text/plain": [
       "Age                           0\n",
       "Total_Bilirubin               0\n",
       "Direct_Bilirubin              0\n",
       "Alkaline_Phosphotase          0\n",
       "Alamine_Aminotransferase      0\n",
       "Aspartate_Aminotransferase    0\n",
       "Total_Protiens                0\n",
       "Albumin                       0\n",
       "Albumin_and_Globulin_Ratio    0\n",
       "dtype: int64"
      ]
     },
     "execution_count": 22,
     "metadata": {},
     "output_type": "execute_result"
    }
   ],
   "source": [
    "df[numerical_features].isnull().sum().sort_values(ascending=False)"
   ]
  },
  {
   "cell_type": "markdown",
   "metadata": {},
   "source": [
    "# Correlation"
   ]
  },
  {
   "cell_type": "code",
   "execution_count": 23,
   "metadata": {},
   "outputs": [
    {
     "data": {
      "text/plain": [
       "Age                           float64\n",
       "Gender                         object\n",
       "Total_Bilirubin               float64\n",
       "Direct_Bilirubin              float64\n",
       "Alkaline_Phosphotase          float64\n",
       "Alamine_Aminotransferase      float64\n",
       "Aspartate_Aminotransferase    float64\n",
       "Total_Protiens                float64\n",
       "Albumin                       float64\n",
       "Albumin_and_Globulin_Ratio    float64\n",
       "classification                 object\n",
       "dtype: object"
      ]
     },
     "execution_count": 23,
     "metadata": {},
     "output_type": "execute_result"
    }
   ],
   "source": [
    "df.dtypes"
   ]
  },
  {
   "cell_type": "code",
   "execution_count": 24,
   "metadata": {},
   "outputs": [
    {
     "data": {
      "image/png": "[encoded data removed]",
      "text/plain": [
       "<Figure size 1080x1080 with 2 Axes>"
      ]
     },
     "metadata": {
      "needs_background": "light"
     },
     "output_type": "display_data"
    }
   ],
   "source": [
    "corr_df = df.corr()\n",
    "f,ax=plt.subplots(figsize=(15,15))\n",
    "mask = np.zeros_like(corr_df)\n",
    "mask[np.triu_indices_from(mask)] = True\n",
    "sns.heatmap(corr_df,annot=True,fmt=\".2f\",ax=ax,linewidths=0.5,linecolor=\"orange\", mask = mask, square=True)\n",
    "plt.xticks(rotation=45)\n",
    "plt.yticks(rotation=45)\n",
    "plt.title('Correlations between different predictors')\n",
    "plt.show()"
   ]
  },
  {
   "cell_type": "code",
   "execution_count": 25,
   "metadata": {},
   "outputs": [
    {
     "data": {
      "text/plain": [
       "(9.5, -0.5)"
      ]
     },
     "execution_count": 25,
     "metadata": {},
     "output_type": "execute_result"
    },
    {
     "data": {
      "image/png": "[encoded data removed]",
      "text/plain": [
       "<Figure size 1296x1296 with 2 Axes>"
      ]
     },
     "metadata": {
      "needs_background": "light"
     },
     "output_type": "display_data"
    }
   ],
   "source": [
    "corr_df = df.corr()\n",
    "fig, ax = plt.subplots(figsize=(18,18)) \n",
    "matrix = np.triu(corr_df)\n",
    "sns.heatmap(corr_df, annot=True, cmap= 'coolwarm', ax=ax, mask = matrix)\n",
    "bottom, top = ax.get_ylim()\n",
    "ax.set_ylim(bottom + 0.5, top - 0.5)"
   ]
  },
  {
   "cell_type": "markdown",
   "metadata": {},
   "source": [
    "# Categorical features"
   ]
  },
  {
   "cell_type": "code",
   "execution_count": 26,
   "metadata": {},
   "outputs": [
    {
     "data": {
      "image/png": "[encoded data removed]",
      "text/plain": [
       "<Figure size 1080x1080 with 2 Axes>"
      ]
     },
     "metadata": {
      "needs_background": "light"
     },
     "output_type": "display_data"
    }
   ],
   "source": [
    "fig, axes = plt.subplots(nrows=1, ncols=2, figsize=(15,15))\n",
    "fig.subplots_adjust(hspace=0.5)\n",
    "\n",
    "for ax, feats in zip(axes.flatten(), categorical_features):\n",
    "    sns.countplot(df[feats], ax=ax)"
   ]
  },
  {
   "cell_type": "code",
   "execution_count": 27,
   "metadata": {},
   "outputs": [
    {
     "name": "stdout",
     "output_type": "stream",
     "text": [
      "<class 'pandas.core.frame.DataFrame'>\n",
      "RangeIndex: 583 entries, 0 to 582\n",
      "Data columns (total 11 columns):\n",
      " #   Column                      Non-Null Count  Dtype  \n",
      "---  ------                      --------------  -----  \n",
      " 0   Age                         583 non-null    float64\n",
      " 1   Gender                      583 non-null    object \n",
      " 2   Total_Bilirubin             583 non-null    float64\n",
      " 3   Direct_Bilirubin            583 non-null    float64\n",
      " 4   Alkaline_Phosphotase        583 non-null    float64\n",
      " 5   Alamine_Aminotransferase    583 non-null    float64\n",
      " 6   Aspartate_Aminotransferase  583 non-null    float64\n",
      " 7   Total_Protiens              583 non-null    float64\n",
      " 8   Albumin                     583 non-null    float64\n",
      " 9   Albumin_and_Globulin_Ratio  583 non-null    float64\n",
      " 10  classification              583 non-null    object \n",
      "dtypes: float64(9), object(2)\n",
      "memory usage: 50.2+ KB\n"
     ]
    }
   ],
   "source": [
    "df.info()"
   ]
  },
  {
   "cell_type": "code",
   "execution_count": 28,
   "metadata": {},
   "outputs": [],
   "source": [
    "df['Gender']=df['Gender'].replace({'Male':1,'Female':0})\n",
    "df['classification']=df['classification'].replace({'liver_disease':1,'not_liver_disease':0})"
   ]
  },
  {
   "cell_type": "code",
   "execution_count": 29,
   "metadata": {},
   "outputs": [
    {
     "data": {
      "text/plain": [
       "<bound method IndexOpsMixin.value_counts of 0      0\n",
       "1      1\n",
       "2      1\n",
       "3      1\n",
       "4      1\n",
       "      ..\n",
       "578    1\n",
       "579    1\n",
       "580    1\n",
       "581    1\n",
       "582    1\n",
       "Name: Gender, Length: 583, dtype: int64>"
      ]
     },
     "execution_count": 29,
     "metadata": {},
     "output_type": "execute_result"
    }
   ],
   "source": [
    "df.Gender.value_counts"
   ]
  },
  {
   "cell_type": "markdown",
   "metadata": {},
   "source": [
    "# Splitting into X and y"
   ]
  },
  {
   "cell_type": "code",
   "execution_count": 30,
   "metadata": {},
   "outputs": [],
   "source": [
    "x = df.drop('classification', axis=1)\n",
    "y = df.classification"
   ]
  },
  {
   "cell_type": "code",
   "execution_count": 31,
   "metadata": {},
   "outputs": [
    {
     "data": {
      "text/plain": [
       "1    416\n",
       "0    167\n",
       "Name: classification, dtype: int64"
      ]
     },
     "execution_count": 31,
     "metadata": {},
     "output_type": "execute_result"
    }
   ],
   "source": [
    "y.value_counts()"
   ]
  },
  {
   "cell_type": "code",
   "execution_count": 33,
   "metadata": {},
   "outputs": [
    {
     "data": {
      "text/plain": [
       "array([[0.70930233, 0.        , 0.00402145, ..., 0.5942029 , 0.52173913,\n",
       "        0.24      ],\n",
       "       [0.6744186 , 1.        , 0.14075067, ..., 0.69565217, 0.5       ,\n",
       "        0.176     ],\n",
       "       [0.6744186 , 1.        , 0.0924933 , ..., 0.62318841, 0.52173913,\n",
       "        0.236     ],\n",
       "       ...,\n",
       "       [0.55813953, 1.        , 0.00536193, ..., 0.53623188, 0.5       ,\n",
       "        0.28      ],\n",
       "       [0.31395349, 1.        , 0.01206434, ..., 0.5942029 , 0.54347826,\n",
       "        0.28      ],\n",
       "       [0.39534884, 1.        , 0.0080429 , ..., 0.66666667, 0.76086957,\n",
       "        0.48      ]])"
      ]
     },
     "execution_count": 33,
     "metadata": {},
     "output_type": "execute_result"
    }
   ],
   "source": [
    "sc = MinMaxScaler()\n",
    "x = sc.fit_transform(x)\n",
    "x"
   ]
  },
  {
   "cell_type": "markdown",
   "metadata": {},
   "source": [
    "# OverSampling using SMOTE"
   ]
  },
  {
   "cell_type": "code",
   "execution_count": 34,
   "metadata": {},
   "outputs": [
    {
     "name": "stdout",
     "output_type": "stream",
     "text": [
      "Counter({1: 416, 0: 167})\n"
     ]
    },
    {
     "data": {
      "text/plain": [
       "Counter({1: 416, 0: 416})"
      ]
     },
     "execution_count": 34,
     "metadata": {},
     "output_type": "execute_result"
    }
   ],
   "source": [
    "print(Counter(y))\n",
    "oversample = SMOTE()\n",
    "x, y = oversample.fit_resample(x, y)\n",
    "Counter(y)"
   ]
  },
  {
   "cell_type": "markdown",
   "metadata": {},
   "source": [
    "# Train-Test Split"
   ]
  },
  {
   "cell_type": "code",
   "execution_count": 58,
   "metadata": {},
   "outputs": [],
   "source": [
    "x_train,x_test,y_train,y_test = train_test_split(x,y,test_size=.12,random_state=0, shuffle=True)"
   ]
  },
  {
   "cell_type": "code",
   "execution_count": 59,
   "metadata": {},
   "outputs": [
    {
     "name": "stdout",
     "output_type": "stream",
     "text": [
      "(732, 10)\n",
      "(100, 10)\n",
      "(732,)\n",
      "(100,)\n"
     ]
    }
   ],
   "source": [
    "print(x_train.shape)\n",
    "print(x_test.shape)\n",
    "print(y_train.shape)\n",
    "print(y_test.shape)"
   ]
  },
  {
   "cell_type": "code",
   "execution_count": 60,
   "metadata": {},
   "outputs": [
    {
     "name": "stdout",
     "output_type": "stream",
     "text": [
      "[0.52325581 0.         0.00268097 0.         0.05959941 0.00351759\n",
      " 0.00325269 0.56521739 0.43478261 0.16      ]\n"
     ]
    }
   ],
   "source": [
    "print(x_test[1,])"
   ]
  },
  {
   "cell_type": "code",
   "execution_count": 61,
   "metadata": {},
   "outputs": [
    {
     "data": {
      "text/plain": [
       "array([[0.52325581, 0.        , 0.00268097, 0.        , 0.05959941,\n",
       "        0.00351759, 0.00325269, 0.56521739, 0.43478261, 0.16      ]])"
      ]
     },
     "execution_count": 61,
     "metadata": {},
     "output_type": "execute_result"
    }
   ],
   "source": [
    "x_test_1=x_test[1,]\n",
    "x_test_1=x_test_1.reshape(1,-1)\n",
    "x_test_1"
   ]
  },
  {
   "cell_type": "markdown",
   "metadata": {},
   "source": [
    "# Logistic Regression"
   ]
  },
  {
   "cell_type": "code",
   "execution_count": 62,
   "metadata": {},
   "outputs": [
    {
     "data": {
      "text/plain": [
       "LogisticRegression(solver='liblinear')"
      ]
     },
     "execution_count": 62,
     "metadata": {},
     "output_type": "execute_result"
    }
   ],
   "source": [
    "liverlr=LogisticRegression(solver='liblinear')\n",
    "liverlr.fit(x_train,y_train)"
   ]
  },
  {
   "cell_type": "code",
   "execution_count": 63,
   "metadata": {},
   "outputs": [
    {
     "name": "stdout",
     "output_type": "stream",
     "text": [
      "Accuracy of logistic regression classifier on test set: 0.7\n"
     ]
    }
   ],
   "source": [
    "# Accuracy\n",
    "y_pred = liverlr.predict(x_test)\n",
    "print('Accuracy of logistic regression classifier on test set:',liverlr.score(x_test, y_test))"
   ]
  },
  {
   "cell_type": "code",
   "execution_count": 64,
   "metadata": {},
   "outputs": [
    {
     "name": "stdout",
     "output_type": "stream",
     "text": [
      "[[44 10]\n",
      " [20 26]]\n"
     ]
    },
    {
     "data": {
      "image/png": "[encoded data removed]",
      "text/plain": [
       "<Figure size 432x288 with 2 Axes>"
      ]
     },
     "metadata": {
      "needs_background": "light"
     },
     "output_type": "display_data"
    }
   ],
   "source": [
    "# Print and plot confusion matrix   \n",
    "cm = confusion_matrix(y_test, y_pred)\n",
    "print(cm)\n",
    "plot_confusion_matrix(cm,['0','1'])"
   ]
  },
  {
   "cell_type": "code",
   "execution_count": 65,
   "metadata": {},
   "outputs": [
    {
     "name": "stdout",
     "output_type": "stream",
     "text": [
      "              precision    recall  f1-score   support\n",
      "\n",
      "           0       0.69      0.81      0.75        54\n",
      "           1       0.72      0.57      0.63        46\n",
      "\n",
      "    accuracy                           0.70       100\n",
      "   macro avg       0.70      0.69      0.69       100\n",
      "weighted avg       0.70      0.70      0.69       100\n",
      "\n"
     ]
    }
   ],
   "source": [
    "# Print Classification Report\n",
    "print(classification_report(y_test,y_pred))"
   ]
  },
  {
   "cell_type": "code",
   "execution_count": 66,
   "metadata": {},
   "outputs": [
    {
     "data": {
      "image/png": "[encoded data removed]",
      "text/plain": [
       "<Figure size 432x288 with 1 Axes>"
      ]
     },
     "metadata": {
      "needs_background": "light"
     },
     "output_type": "display_data"
    }
   ],
   "source": [
    "# Plot roc curve\n",
    "plot_roc(y_pred,y_test)"
   ]
  },
  {
   "cell_type": "markdown",
   "metadata": {},
   "source": [
    "# Naive Bayes"
   ]
  },
  {
   "cell_type": "code",
   "execution_count": 67,
   "metadata": {},
   "outputs": [],
   "source": [
    "from sklearn.naive_bayes import BernoulliNB\n",
    "liverNB = BernoulliNB()\n",
    "y_pred = liverNB.fit(x_train, y_train)\n",
    "y_pred = liverNB.predict(x_test)"
   ]
  },
  {
   "cell_type": "code",
   "execution_count": 68,
   "metadata": {},
   "outputs": [
    {
     "name": "stdout",
     "output_type": "stream",
     "text": [
      "Bernoulli Naive Bayes model accuracy on test set: 0.54\n"
     ]
    }
   ],
   "source": [
    "#Acuracy\n",
    "print(\"Bernoulli Naive Bayes model accuracy on test set:\",metrics.accuracy_score(y_test, y_pred))"
   ]
  },
  {
   "cell_type": "code",
   "execution_count": 69,
   "metadata": {},
   "outputs": [
    {
     "name": "stdout",
     "output_type": "stream",
     "text": [
      "[[14 40]\n",
      " [ 6 40]]\n"
     ]
    },
    {
     "data": {
      "image/png": "[encoded data removed]",
      "text/plain": [
       "<Figure size 432x288 with 2 Axes>"
      ]
     },
     "metadata": {
      "needs_background": "light"
     },
     "output_type": "display_data"
    }
   ],
   "source": [
    "cm = confusion_matrix(y_test, y_pred)\n",
    "print(cm)\n",
    "plot_confusion_matrix(cm,['0','1'])"
   ]
  },
  {
   "cell_type": "code",
   "execution_count": 70,
   "metadata": {},
   "outputs": [
    {
     "name": "stdout",
     "output_type": "stream",
     "text": [
      "              precision    recall  f1-score   support\n",
      "\n",
      "           0       0.70      0.26      0.38        54\n",
      "           1       0.50      0.87      0.63        46\n",
      "\n",
      "    accuracy                           0.54       100\n",
      "   macro avg       0.60      0.56      0.51       100\n",
      "weighted avg       0.61      0.54      0.50       100\n",
      "\n"
     ]
    }
   ],
   "source": [
    "print(classification_report(y_test,y_pred))"
   ]
  },
  {
   "cell_type": "code",
   "execution_count": 71,
   "metadata": {},
   "outputs": [
    {
     "data": {
      "image/png": "[encoded data removed]",
      "text/plain": [
       "<Figure size 432x288 with 1 Axes>"
      ]
     },
     "metadata": {
      "needs_background": "light"
     },
     "output_type": "display_data"
    }
   ],
   "source": [
    "plot_roc(y_pred,y_test)"
   ]
  },
  {
   "cell_type": "markdown",
   "metadata": {},
   "source": [
    "# Random Forest\n"
   ]
  },
  {
   "cell_type": "code",
   "execution_count": 72,
   "metadata": {},
   "outputs": [],
   "source": [
    "from sklearn.ensemble import RandomForestClassifier\n",
    "\n",
    "#Create a Gaussian Classifier\n",
    "liverrf = RandomForestClassifier()\n",
    "\n",
    "#Train the model using the training sets y_pred=clf.predict(X_test)\n",
    "liverrf.fit(x_train,y_train)\n",
    "\n",
    "y_pred=liverrf.predict(x_test)"
   ]
  },
  {
   "cell_type": "code",
   "execution_count": 73,
   "metadata": {},
   "outputs": [
    {
     "name": "stdout",
     "output_type": "stream",
     "text": [
      "Accuracy of Random forest on test set: 0.82\n"
     ]
    }
   ],
   "source": [
    "#Accuracy\n",
    "print(\"Accuracy of Random forest on test set:\",metrics.accuracy_score(y_test, y_pred))"
   ]
  },
  {
   "cell_type": "code",
   "execution_count": 74,
   "metadata": {},
   "outputs": [
    {
     "name": "stdout",
     "output_type": "stream",
     "text": [
      "F1 score: 0.8184577723378215\n"
     ]
    }
   ],
   "source": [
    "print ('F1 score:', metrics.f1_score(y_test, y_pred,average='weighted'))"
   ]
  },
  {
   "cell_type": "code",
   "execution_count": 75,
   "metadata": {},
   "outputs": [
    {
     "name": "stdout",
     "output_type": "stream",
     "text": [
      "[[48  6]\n",
      " [12 34]]\n"
     ]
    },
    {
     "data": {
      "image/png": "[encoded data removed]",
      "text/plain": [
       "<Figure size 432x288 with 2 Axes>"
      ]
     },
     "metadata": {
      "needs_background": "light"
     },
     "output_type": "display_data"
    }
   ],
   "source": [
    "cm = confusion_matrix(y_test, y_pred)\n",
    "print(cm)\n",
    "plot_confusion_matrix(cm,['0','1'])"
   ]
  },
  {
   "cell_type": "code",
   "execution_count": 76,
   "metadata": {},
   "outputs": [
    {
     "name": "stdout",
     "output_type": "stream",
     "text": [
      "              precision    recall  f1-score   support\n",
      "\n",
      "           0       0.80      0.89      0.84        54\n",
      "           1       0.85      0.74      0.79        46\n",
      "\n",
      "    accuracy                           0.82       100\n",
      "   macro avg       0.82      0.81      0.82       100\n",
      "weighted avg       0.82      0.82      0.82       100\n",
      "\n"
     ]
    }
   ],
   "source": [
    "print(classification_report(y_test,y_pred))"
   ]
  },
  {
   "cell_type": "code",
   "execution_count": 77,
   "metadata": {},
   "outputs": [
    {
     "data": {
      "image/png": "[encoded data removed]",
      "text/plain": [
       "<Figure size 432x288 with 1 Axes>"
      ]
     },
     "metadata": {
      "needs_background": "light"
     },
     "output_type": "display_data"
    }
   ],
   "source": [
    "plot_roc(y_pred,y_test)"
   ]
  },
  {
   "cell_type": "markdown",
   "metadata": {},
   "source": [
    "# XG-Boost"
   ]
  },
  {
   "cell_type": "code",
   "execution_count": 78,
   "metadata": {},
   "outputs": [
    {
     "name": "stdout",
     "output_type": "stream",
     "text": [
      "[18:14:24] WARNING: C:/Users/Administrator/workspace/xgboost-win64_release_1.3.0/src/learner.cc:1061: Starting in XGBoost 1.3.0, the default evaluation metric used with the objective 'binary:logistic' was changed from 'error' to 'logloss'. Explicitly set eval_metric if you'd like to restore the old behavior.\n"
     ]
    },
    {
     "data": {
      "text/plain": [
       "XGBClassifier(base_score=0.5, booster='gbtree', colsample_bylevel=1,\n",
       "              colsample_bynode=1, colsample_bytree=1, gamma=0, gpu_id=-1,\n",
       "              importance_type='gain', interaction_constraints='',\n",
       "              learning_rate=0.300000012, max_delta_step=0, max_depth=6,\n",
       "              min_child_weight=1, missing=nan, monotone_constraints='()',\n",
       "              n_estimators=100, n_jobs=8, num_parallel_tree=1, random_state=0,\n",
       "              reg_alpha=0, reg_lambda=1, scale_pos_weight=1, subsample=1,\n",
       "              tree_method='exact', validate_parameters=1, verbosity=None)"
      ]
     },
     "execution_count": 78,
     "metadata": {},
     "output_type": "execute_result"
    }
   ],
   "source": [
    "from numpy import loadtxt\n",
    "from xgboost import XGBClassifier\n",
    "liverxgb=XGBClassifier()\n",
    "liverxgb.fit(x_train,y_train)"
   ]
  },
  {
   "cell_type": "code",
   "execution_count": 79,
   "metadata": {},
   "outputs": [],
   "source": [
    "y_pred = liverxgb.predict(x_test)\n",
    "predictions = [round(value) for value in y_pred]"
   ]
  },
  {
   "cell_type": "code",
   "execution_count": 80,
   "metadata": {},
   "outputs": [
    {
     "name": "stdout",
     "output_type": "stream",
     "text": [
      "Accuracy for XGBoost on test set: 0.88\n"
     ]
    }
   ],
   "source": [
    "accuracy = accuracy_score(y_test, predictions)\n",
    "print(\"Accuracy for XGBoost on test set:\", accuracy)"
   ]
  },
  {
   "cell_type": "code",
   "execution_count": 81,
   "metadata": {},
   "outputs": [
    {
     "name": "stdout",
     "output_type": "stream",
     "text": [
      "F1 score: 0.8797575757575757\n"
     ]
    }
   ],
   "source": [
    "print ('F1 score:', metrics.f1_score(y_test, y_pred,average='weighted'))"
   ]
  },
  {
   "cell_type": "code",
   "execution_count": 82,
   "metadata": {},
   "outputs": [
    {
     "name": "stdout",
     "output_type": "stream",
     "text": [
      "              precision    recall  f1-score   support\n",
      "\n",
      "           0       0.88      0.91      0.89        54\n",
      "           1       0.89      0.85      0.87        46\n",
      "\n",
      "    accuracy                           0.88       100\n",
      "   macro avg       0.88      0.88      0.88       100\n",
      "weighted avg       0.88      0.88      0.88       100\n",
      "\n"
     ]
    }
   ],
   "source": [
    "print(classification_report(y_test,y_pred))"
   ]
  },
  {
   "cell_type": "code",
   "execution_count": 83,
   "metadata": {},
   "outputs": [
    {
     "data": {
      "image/png": "[encoded data removed]",
      "text/plain": [
       "<Figure size 432x288 with 1 Axes>"
      ]
     },
     "metadata": {
      "needs_background": "light"
     },
     "output_type": "display_data"
    }
   ],
   "source": [
    "plot_roc(y_pred,y_test)"
   ]
  },
  {
   "cell_type": "markdown",
   "metadata": {},
   "source": [
    "# Neural Network"
   ]
  },
  {
   "cell_type": "code",
   "execution_count": 84,
   "metadata": {},
   "outputs": [
    {
     "name": "stdout",
     "output_type": "stream",
     "text": [
      "Epoch 1/200\n",
      "28/28 - 0s - loss: 0.6902 - accuracy: 0.5428 - val_loss: 0.6665 - val_accuracy: 0.6066\n",
      "Epoch 2/200\n",
      "28/28 - 0s - loss: 0.6538 - accuracy: 0.6102 - val_loss: 0.6436 - val_accuracy: 0.6612\n",
      "Epoch 3/200\n",
      "28/28 - 0s - loss: 0.6280 - accuracy: 0.6448 - val_loss: 0.6241 - val_accuracy: 0.6612\n",
      "Epoch 4/200\n",
      "28/28 - 0s - loss: 0.6075 - accuracy: 0.6630 - val_loss: 0.6056 - val_accuracy: 0.6612\n",
      "Epoch 5/200\n",
      "28/28 - 0s - loss: 0.5882 - accuracy: 0.6740 - val_loss: 0.6113 - val_accuracy: 0.6503\n",
      "Epoch 6/200\n",
      "28/28 - 0s - loss: 0.5777 - accuracy: 0.6958 - val_loss: 0.6038 - val_accuracy: 0.6339\n",
      "Epoch 7/200\n",
      "28/28 - 0s - loss: 0.5777 - accuracy: 0.6849 - val_loss: 0.5946 - val_accuracy: 0.6776\n",
      "Epoch 8/200\n",
      "28/28 - 0s - loss: 0.5584 - accuracy: 0.7140 - val_loss: 0.6115 - val_accuracy: 0.6339\n",
      "Epoch 9/200\n",
      "28/28 - 0s - loss: 0.5584 - accuracy: 0.7104 - val_loss: 0.5987 - val_accuracy: 0.6612\n",
      "Epoch 10/200\n",
      "28/28 - 0s - loss: 0.5534 - accuracy: 0.7177 - val_loss: 0.5868 - val_accuracy: 0.6612\n",
      "Epoch 11/200\n",
      "28/28 - 0s - loss: 0.5562 - accuracy: 0.7231 - val_loss: 0.5872 - val_accuracy: 0.6885\n",
      "Epoch 12/200\n",
      "28/28 - 0s - loss: 0.5595 - accuracy: 0.7067 - val_loss: 0.5888 - val_accuracy: 0.6831\n",
      "Epoch 13/200\n",
      "28/28 - 0s - loss: 0.5483 - accuracy: 0.7195 - val_loss: 0.5833 - val_accuracy: 0.6940\n",
      "Epoch 14/200\n",
      "28/28 - 0s - loss: 0.5454 - accuracy: 0.7213 - val_loss: 0.5857 - val_accuracy: 0.6776\n",
      "Epoch 15/200\n",
      "28/28 - 0s - loss: 0.5474 - accuracy: 0.7104 - val_loss: 0.5815 - val_accuracy: 0.6776\n",
      "Epoch 16/200\n",
      "28/28 - 0s - loss: 0.5456 - accuracy: 0.7140 - val_loss: 0.5888 - val_accuracy: 0.6557\n",
      "Epoch 17/200\n",
      "28/28 - 0s - loss: 0.5430 - accuracy: 0.7122 - val_loss: 0.5963 - val_accuracy: 0.6557\n",
      "Epoch 18/200\n",
      "28/28 - 0s - loss: 0.5385 - accuracy: 0.7013 - val_loss: 0.6083 - val_accuracy: 0.6557\n",
      "Epoch 19/200\n",
      "28/28 - 0s - loss: 0.5505 - accuracy: 0.7104 - val_loss: 0.6212 - val_accuracy: 0.6503\n",
      "Epoch 20/200\n",
      "28/28 - 0s - loss: 0.5424 - accuracy: 0.7304 - val_loss: 0.6028 - val_accuracy: 0.6721\n",
      "Epoch 21/200\n",
      "28/28 - 0s - loss: 0.5386 - accuracy: 0.7213 - val_loss: 0.5764 - val_accuracy: 0.6885\n",
      "Epoch 22/200\n",
      "28/28 - 0s - loss: 0.5416 - accuracy: 0.7122 - val_loss: 0.5715 - val_accuracy: 0.6776\n",
      "Epoch 23/200\n",
      "28/28 - 0s - loss: 0.5472 - accuracy: 0.7158 - val_loss: 0.5714 - val_accuracy: 0.6831\n",
      "Epoch 24/200\n",
      "28/28 - 0s - loss: 0.5365 - accuracy: 0.7177 - val_loss: 0.5762 - val_accuracy: 0.6667\n",
      "Epoch 25/200\n",
      "28/28 - 0s - loss: 0.5373 - accuracy: 0.7177 - val_loss: 0.5789 - val_accuracy: 0.6776\n",
      "Epoch 26/200\n",
      "28/28 - 0s - loss: 0.5351 - accuracy: 0.7304 - val_loss: 0.5851 - val_accuracy: 0.6831\n",
      "Epoch 27/200\n",
      "28/28 - 0s - loss: 0.5318 - accuracy: 0.7268 - val_loss: 0.5766 - val_accuracy: 0.6667\n",
      "Epoch 28/200\n",
      "28/28 - 0s - loss: 0.5321 - accuracy: 0.7195 - val_loss: 0.5692 - val_accuracy: 0.6831\n",
      "Epoch 29/200\n",
      "28/28 - 0s - loss: 0.5379 - accuracy: 0.7177 - val_loss: 0.5645 - val_accuracy: 0.7049\n",
      "Epoch 30/200\n",
      "28/28 - 0s - loss: 0.5402 - accuracy: 0.7140 - val_loss: 0.5656 - val_accuracy: 0.6995\n",
      "Epoch 31/200\n",
      "28/28 - 0s - loss: 0.5294 - accuracy: 0.7122 - val_loss: 0.5677 - val_accuracy: 0.6776\n",
      "Epoch 32/200\n",
      "28/28 - 0s - loss: 0.5319 - accuracy: 0.7213 - val_loss: 0.5629 - val_accuracy: 0.6940\n",
      "Epoch 33/200\n",
      "28/28 - 0s - loss: 0.5329 - accuracy: 0.7140 - val_loss: 0.5904 - val_accuracy: 0.6721\n",
      "Epoch 34/200\n",
      "28/28 - 0s - loss: 0.5319 - accuracy: 0.7268 - val_loss: 0.5895 - val_accuracy: 0.6612\n",
      "Epoch 35/200\n",
      "28/28 - 0s - loss: 0.5310 - accuracy: 0.7067 - val_loss: 0.5737 - val_accuracy: 0.6776\n",
      "Epoch 36/200\n",
      "28/28 - 0s - loss: 0.5254 - accuracy: 0.7213 - val_loss: 0.5597 - val_accuracy: 0.6940\n",
      "Epoch 37/200\n",
      "28/28 - 0s - loss: 0.5273 - accuracy: 0.7304 - val_loss: 0.5537 - val_accuracy: 0.6940\n",
      "Epoch 38/200\n",
      "28/28 - 0s - loss: 0.5325 - accuracy: 0.6976 - val_loss: 0.5571 - val_accuracy: 0.6940\n",
      "Epoch 39/200\n",
      "28/28 - 0s - loss: 0.5246 - accuracy: 0.7250 - val_loss: 0.5551 - val_accuracy: 0.6831\n",
      "Epoch 40/200\n",
      "28/28 - 0s - loss: 0.5406 - accuracy: 0.7031 - val_loss: 0.5704 - val_accuracy: 0.6776\n",
      "Epoch 41/200\n",
      "28/28 - 0s - loss: 0.5231 - accuracy: 0.7122 - val_loss: 0.5567 - val_accuracy: 0.7104\n",
      "Epoch 42/200\n",
      "28/28 - 0s - loss: 0.5247 - accuracy: 0.7195 - val_loss: 0.5523 - val_accuracy: 0.6995\n",
      "Epoch 43/200\n",
      "28/28 - 0s - loss: 0.5213 - accuracy: 0.7177 - val_loss: 0.5567 - val_accuracy: 0.6885\n",
      "Epoch 44/200\n",
      "28/28 - 0s - loss: 0.5216 - accuracy: 0.7177 - val_loss: 0.5532 - val_accuracy: 0.7104\n",
      "Epoch 45/200\n",
      "28/28 - 0s - loss: 0.5195 - accuracy: 0.7104 - val_loss: 0.5564 - val_accuracy: 0.6885\n",
      "Epoch 46/200\n",
      "28/28 - 0s - loss: 0.5207 - accuracy: 0.7268 - val_loss: 0.5744 - val_accuracy: 0.6831\n",
      "Epoch 47/200\n",
      "28/28 - 0s - loss: 0.5203 - accuracy: 0.7213 - val_loss: 0.5467 - val_accuracy: 0.6940\n",
      "Epoch 48/200\n",
      "28/28 - 0s - loss: 0.5176 - accuracy: 0.7268 - val_loss: 0.5636 - val_accuracy: 0.6940\n",
      "Epoch 49/200\n",
      "28/28 - 0s - loss: 0.5170 - accuracy: 0.7213 - val_loss: 0.5717 - val_accuracy: 0.6831\n",
      "Epoch 50/200\n",
      "28/28 - 0s - loss: 0.5187 - accuracy: 0.7268 - val_loss: 0.5510 - val_accuracy: 0.7049\n",
      "Epoch 51/200\n",
      "28/28 - 0s - loss: 0.5181 - accuracy: 0.7268 - val_loss: 0.5617 - val_accuracy: 0.6940\n",
      "Epoch 52/200\n",
      "28/28 - 0s - loss: 0.5203 - accuracy: 0.7177 - val_loss: 0.5433 - val_accuracy: 0.7104\n",
      "Epoch 53/200\n",
      "28/28 - 0s - loss: 0.5156 - accuracy: 0.7322 - val_loss: 0.5711 - val_accuracy: 0.6776\n",
      "Epoch 54/200\n",
      "28/28 - 0s - loss: 0.5202 - accuracy: 0.7286 - val_loss: 0.5739 - val_accuracy: 0.6831\n",
      "Epoch 55/200\n",
      "28/28 - 0s - loss: 0.5193 - accuracy: 0.7122 - val_loss: 0.5719 - val_accuracy: 0.6831\n",
      "Epoch 56/200\n",
      "28/28 - 0s - loss: 0.5158 - accuracy: 0.7195 - val_loss: 0.5581 - val_accuracy: 0.6831\n",
      "Epoch 57/200\n",
      "28/28 - 0s - loss: 0.5176 - accuracy: 0.7213 - val_loss: 0.5555 - val_accuracy: 0.6940\n",
      "Epoch 58/200\n",
      "28/28 - 0s - loss: 0.5152 - accuracy: 0.7195 - val_loss: 0.5390 - val_accuracy: 0.7158\n",
      "Epoch 59/200\n",
      "28/28 - 0s - loss: 0.5121 - accuracy: 0.7140 - val_loss: 0.5471 - val_accuracy: 0.6940\n",
      "Epoch 60/200\n",
      "28/28 - 0s - loss: 0.5157 - accuracy: 0.7322 - val_loss: 0.5467 - val_accuracy: 0.6885\n",
      "Epoch 61/200\n",
      "28/28 - 0s - loss: 0.5140 - accuracy: 0.7177 - val_loss: 0.5535 - val_accuracy: 0.6995\n",
      "Epoch 62/200\n",
      "28/28 - 0s - loss: 0.5110 - accuracy: 0.7213 - val_loss: 0.5533 - val_accuracy: 0.6831\n",
      "Epoch 63/200\n",
      "28/28 - 0s - loss: 0.5118 - accuracy: 0.7322 - val_loss: 0.5396 - val_accuracy: 0.7104\n",
      "Epoch 64/200\n",
      "28/28 - 0s - loss: 0.5078 - accuracy: 0.7213 - val_loss: 0.5734 - val_accuracy: 0.6940\n",
      "Epoch 65/200\n",
      "28/28 - 0s - loss: 0.5096 - accuracy: 0.7304 - val_loss: 0.5529 - val_accuracy: 0.7049\n",
      "Epoch 66/200\n",
      "28/28 - 0s - loss: 0.5112 - accuracy: 0.7158 - val_loss: 0.5533 - val_accuracy: 0.7049\n",
      "Epoch 67/200\n",
      "28/28 - 0s - loss: 0.5089 - accuracy: 0.7286 - val_loss: 0.5627 - val_accuracy: 0.6885\n",
      "Epoch 68/200\n",
      "28/28 - 0s - loss: 0.5070 - accuracy: 0.7158 - val_loss: 0.5515 - val_accuracy: 0.6831\n",
      "Epoch 69/200\n",
      "28/28 - 0s - loss: 0.5096 - accuracy: 0.7286 - val_loss: 0.5327 - val_accuracy: 0.7158\n",
      "Epoch 70/200\n",
      "28/28 - 0s - loss: 0.5053 - accuracy: 0.7286 - val_loss: 0.5631 - val_accuracy: 0.6885\n",
      "Epoch 71/200\n",
      "28/28 - 0s - loss: 0.5056 - accuracy: 0.7268 - val_loss: 0.5323 - val_accuracy: 0.7158\n",
      "Epoch 72/200\n",
      "28/28 - 0s - loss: 0.5111 - accuracy: 0.7268 - val_loss: 0.5269 - val_accuracy: 0.6995\n",
      "Epoch 73/200\n",
      "28/28 - 0s - loss: 0.5100 - accuracy: 0.7341 - val_loss: 0.5379 - val_accuracy: 0.7049\n",
      "Epoch 74/200\n",
      "28/28 - 0s - loss: 0.5045 - accuracy: 0.7158 - val_loss: 0.5339 - val_accuracy: 0.7213\n",
      "Epoch 75/200\n",
      "28/28 - 0s - loss: 0.5008 - accuracy: 0.7286 - val_loss: 0.5235 - val_accuracy: 0.7104\n",
      "Epoch 76/200\n",
      "28/28 - 0s - loss: 0.5025 - accuracy: 0.7359 - val_loss: 0.5228 - val_accuracy: 0.7158\n",
      "Epoch 77/200\n",
      "28/28 - 0s - loss: 0.5050 - accuracy: 0.7268 - val_loss: 0.5287 - val_accuracy: 0.7049\n",
      "Epoch 78/200\n",
      "28/28 - 0s - loss: 0.5037 - accuracy: 0.7286 - val_loss: 0.5375 - val_accuracy: 0.6940\n",
      "Epoch 79/200\n",
      "28/28 - 0s - loss: 0.5037 - accuracy: 0.7268 - val_loss: 0.5314 - val_accuracy: 0.7213\n",
      "Epoch 80/200\n",
      "28/28 - 0s - loss: 0.5037 - accuracy: 0.7286 - val_loss: 0.5453 - val_accuracy: 0.6995\n",
      "Epoch 81/200\n",
      "28/28 - 0s - loss: 0.5035 - accuracy: 0.7268 - val_loss: 0.5283 - val_accuracy: 0.7158\n",
      "Epoch 82/200\n",
      "28/28 - 0s - loss: 0.4985 - accuracy: 0.7322 - val_loss: 0.5309 - val_accuracy: 0.7158\n",
      "Epoch 83/200\n",
      "28/28 - 0s - loss: 0.4973 - accuracy: 0.7231 - val_loss: 0.5213 - val_accuracy: 0.7158\n",
      "Epoch 84/200\n",
      "28/28 - 0s - loss: 0.5013 - accuracy: 0.7231 - val_loss: 0.5293 - val_accuracy: 0.7213\n",
      "Epoch 85/200\n",
      "28/28 - 0s - loss: 0.4964 - accuracy: 0.7341 - val_loss: 0.5221 - val_accuracy: 0.7049\n",
      "Epoch 86/200\n",
      "28/28 - 0s - loss: 0.4985 - accuracy: 0.7359 - val_loss: 0.5202 - val_accuracy: 0.7158\n",
      "Epoch 87/200\n",
      "28/28 - 0s - loss: 0.4951 - accuracy: 0.7377 - val_loss: 0.5247 - val_accuracy: 0.7213\n",
      "Epoch 88/200\n",
      "28/28 - 0s - loss: 0.4933 - accuracy: 0.7341 - val_loss: 0.5208 - val_accuracy: 0.7049\n",
      "Epoch 89/200\n",
      "28/28 - 0s - loss: 0.5054 - accuracy: 0.7250 - val_loss: 0.5447 - val_accuracy: 0.6940\n",
      "Epoch 90/200\n",
      "28/28 - 0s - loss: 0.4964 - accuracy: 0.7286 - val_loss: 0.5246 - val_accuracy: 0.7213\n",
      "Epoch 91/200\n",
      "28/28 - 0s - loss: 0.4950 - accuracy: 0.7250 - val_loss: 0.5210 - val_accuracy: 0.6940\n",
      "Epoch 92/200\n",
      "28/28 - 0s - loss: 0.4986 - accuracy: 0.7268 - val_loss: 0.5215 - val_accuracy: 0.7268\n",
      "Epoch 93/200\n",
      "28/28 - 0s - loss: 0.4927 - accuracy: 0.7322 - val_loss: 0.5165 - val_accuracy: 0.7268\n",
      "Epoch 94/200\n",
      "28/28 - 0s - loss: 0.4919 - accuracy: 0.7341 - val_loss: 0.5208 - val_accuracy: 0.7268\n",
      "Epoch 95/200\n",
      "28/28 - 0s - loss: 0.4909 - accuracy: 0.7268 - val_loss: 0.5546 - val_accuracy: 0.6995\n",
      "Epoch 96/200\n",
      "28/28 - 0s - loss: 0.4934 - accuracy: 0.7341 - val_loss: 0.5192 - val_accuracy: 0.7213\n",
      "Epoch 97/200\n",
      "28/28 - 0s - loss: 0.4939 - accuracy: 0.7359 - val_loss: 0.5270 - val_accuracy: 0.6940\n",
      "Epoch 98/200\n",
      "28/28 - 0s - loss: 0.5012 - accuracy: 0.7195 - val_loss: 0.5219 - val_accuracy: 0.7104\n",
      "Epoch 99/200\n",
      "28/28 - 0s - loss: 0.4903 - accuracy: 0.7304 - val_loss: 0.5245 - val_accuracy: 0.7213\n",
      "Epoch 100/200\n",
      "28/28 - 0s - loss: 0.4912 - accuracy: 0.7341 - val_loss: 0.5228 - val_accuracy: 0.7377\n",
      "Epoch 101/200\n",
      "28/28 - 0s - loss: 0.4894 - accuracy: 0.7322 - val_loss: 0.5318 - val_accuracy: 0.7158\n",
      "Epoch 102/200\n",
      "28/28 - 0s - loss: 0.4926 - accuracy: 0.7322 - val_loss: 0.5352 - val_accuracy: 0.7213\n",
      "Epoch 103/200\n",
      "28/28 - 0s - loss: 0.4847 - accuracy: 0.7341 - val_loss: 0.5350 - val_accuracy: 0.6721\n",
      "Epoch 104/200\n",
      "28/28 - 0s - loss: 0.4954 - accuracy: 0.7341 - val_loss: 0.5190 - val_accuracy: 0.7377\n",
      "Epoch 105/200\n",
      "28/28 - 0s - loss: 0.4872 - accuracy: 0.7286 - val_loss: 0.5462 - val_accuracy: 0.7158\n",
      "Epoch 106/200\n",
      "28/28 - 0s - loss: 0.4977 - accuracy: 0.7377 - val_loss: 0.5280 - val_accuracy: 0.7213\n",
      "Epoch 107/200\n",
      "28/28 - 0s - loss: 0.4958 - accuracy: 0.7377 - val_loss: 0.5260 - val_accuracy: 0.7213\n",
      "Epoch 108/200\n",
      "28/28 - 0s - loss: 0.4877 - accuracy: 0.7468 - val_loss: 0.5263 - val_accuracy: 0.7377\n",
      "Epoch 109/200\n",
      "28/28 - 0s - loss: 0.4874 - accuracy: 0.7468 - val_loss: 0.5322 - val_accuracy: 0.7158\n",
      "Epoch 110/200\n",
      "28/28 - 0s - loss: 0.4881 - accuracy: 0.7322 - val_loss: 0.5324 - val_accuracy: 0.7104\n",
      "Epoch 111/200\n",
      "28/28 - 0s - loss: 0.4854 - accuracy: 0.7341 - val_loss: 0.5174 - val_accuracy: 0.7541\n",
      "Epoch 112/200\n",
      "28/28 - 0s - loss: 0.4893 - accuracy: 0.7322 - val_loss: 0.5167 - val_accuracy: 0.7377\n",
      "Epoch 113/200\n",
      "28/28 - 0s - loss: 0.4866 - accuracy: 0.7359 - val_loss: 0.5190 - val_accuracy: 0.7377\n",
      "Epoch 00113: early stopping\n"
     ]
    },
    {
     "data": {
      "text/plain": [
       "<tensorflow.python.keras.callbacks.History at 0x2b679ddb3a0>"
      ]
     },
     "execution_count": 84,
     "metadata": {},
     "output_type": "execute_result"
    }
   ],
   "source": [
    "livernnmodel = Sequential()\n",
    "livernnmodel.add(Dense(128, input_dim=x_train.shape[1], activation='tanh'))\n",
    "livernnmodel.add(Dense(32, activation='tanh'))\n",
    "livernnmodel.add(Dense(8, activation='tanh'))\n",
    "livernnmodel.add(Dense(1, activation='sigmoid'))\n",
    "\n",
    "livernnmodel.compile(loss='binary_crossentropy', optimizer='adam', metrics=['accuracy'])\n",
    "\n",
    "monitor = EarlyStopping(monitor='val_loss', min_delta=1e-3, patience=20, \n",
    "                        verbose=2, mode='min')\n",
    "\n",
    "#chckpt = ModelCheckpoint(filepath='.weights.hdf5', verbose=1, save_best_only=True)\n",
    "\n",
    "livernnmodel.fit(x_train,y_train,verbose=2,epochs=200, batch_size=20, callbacks=[monitor], validation_split=0.25)"
   ]
  },
  {
   "cell_type": "code",
   "execution_count": 85,
   "metadata": {},
   "outputs": [
    {
     "name": "stdout",
     "output_type": "stream",
     "text": [
      "Model: \"sequential\"\n",
      "_________________________________________________________________\n",
      "Layer (type)                 Output Shape              Param #   \n",
      "=================================================================\n",
      "dense (Dense)                (None, 128)               1408      \n",
      "_________________________________________________________________\n",
      "dense_1 (Dense)              (None, 32)                4128      \n",
      "_________________________________________________________________\n",
      "dense_2 (Dense)              (None, 8)                 264       \n",
      "_________________________________________________________________\n",
      "dense_3 (Dense)              (None, 1)                 9         \n",
      "=================================================================\n",
      "Total params: 5,809\n",
      "Trainable params: 5,809\n",
      "Non-trainable params: 0\n",
      "_________________________________________________________________\n"
     ]
    }
   ],
   "source": [
    "livernnmodel.summary()"
   ]
  },
  {
   "cell_type": "code",
   "execution_count": 86,
   "metadata": {},
   "outputs": [
    {
     "data": {
      "text/plain": [
       "[0, 0, 1, 1, 0, 1, 0, 0, 0, 0]"
      ]
     },
     "execution_count": 86,
     "metadata": {},
     "output_type": "execute_result"
    }
   ],
   "source": [
    "y_pred = livernnmodel.predict(x_test)\n",
    "y_pred\n",
    "argmax = []\n",
    "for val in y_pred:\n",
    "    if val >= 0.5:\n",
    "      argmax.append(1)\n",
    "    else:\n",
    "        argmax.append(0)\n",
    "argmax[:10]"
   ]
  },
  {
   "cell_type": "code",
   "execution_count": 87,
   "metadata": {},
   "outputs": [
    {
     "name": "stdout",
     "output_type": "stream",
     "text": [
      "Accuracy for neural network on test set: 0.74\n"
     ]
    }
   ],
   "source": [
    "accuracy = accuracy_score(y_test,argmax)\n",
    "print(\"Accuracy for neural network on test set:\", accuracy)"
   ]
  },
  {
   "cell_type": "code",
   "execution_count": 88,
   "metadata": {},
   "outputs": [
    {
     "name": "stdout",
     "output_type": "stream",
     "text": [
      "[[45  9]\n",
      " [17 29]]\n"
     ]
    },
    {
     "data": {
      "image/png": "[encoded data removed]",
      "text/plain": [
       "<Figure size 432x288 with 2 Axes>"
      ]
     },
     "metadata": {
      "needs_background": "light"
     },
     "output_type": "display_data"
    }
   ],
   "source": [
    "cm = confusion_matrix(y_test, argmax)\n",
    "print(cm)\n",
    "plot_confusion_matrix(cm,['0','1'])"
   ]
  },
  {
   "cell_type": "code",
   "execution_count": 89,
   "metadata": {},
   "outputs": [
    {
     "data": {
      "image/png": "[encoded data removed]",
      "text/plain": [
       "<Figure size 432x288 with 1 Axes>"
      ]
     },
     "metadata": {
      "needs_background": "light"
     },
     "output_type": "display_data"
    }
   ],
   "source": [
    "plot_roc(argmax,y_test)"
   ]
  },
  {
   "cell_type": "markdown",
   "metadata": {},
   "source": [
    "# Saving Model"
   ]
  },
  {
   "cell_type": "code",
   "execution_count": 90,
   "metadata": {},
   "outputs": [],
   "source": [
    "import pickle\n",
    "pickle.dump(liverrf,open(\"C:/Users/prera/Desktop/FINALPROJECT/models/liver_model.pkl\",\"wb\"))"
   ]
  },
  {
   "cell_type": "code",
   "execution_count": 91,
   "metadata": {},
   "outputs": [
    {
     "data": {
      "text/plain": [
       "array([[0.65116279, 1.        , 0.01474531, 0.0255102 , 0.14509038,\n",
       "        0.11055276, 0.05854849, 0.26086957, 0.23913043, 0.2       ]])"
      ]
     },
     "execution_count": 91,
     "metadata": {},
     "output_type": "execute_result"
    }
   ],
   "source": [
    "x_test_2=x_test[2,]\n",
    "\n",
    "x_test_2=x_test_2.reshape(1,-1)\n",
    "\n",
    "x_test_2"
   ]
  },
  {
   "cell_type": "code",
   "execution_count": 92,
   "metadata": {},
   "outputs": [
    {
     "name": "stdout",
     "output_type": "stream",
     "text": [
      "[[0.09 0.91]]\n"
     ]
    }
   ],
   "source": [
    "model=pickle.load(open(\"C:/Users/prera/Desktop/FINALPROJECT/models/liver_model.pkl\",\"rb\"))\n",
    "result = model.predict(x_test_2)\n",
    "resultp=model.predict_proba(x_test_2)\n",
    "print(resultp)"
   ]
  }
 ],
 "metadata": {
  "interpreter": {
   "hash": "ac59ebe37160ed0dfa835113d9b8498d9f09ceb179beaac4002f036b9467c963"
  },
  "kernelspec": {
   "display_name": "Python 3.9.7 64-bit",
   "name": "python3"
  },
  "language_info": {
   "codemirror_mode": {
    "name": "ipython",
    "version": 3
   },
   "file_extension": ".py",
   "mimetype": "text/x-python",
   "name": "python",
   "nbconvert_exporter": "python",
   "pygments_lexer": "ipython3",
   "version": "3.9.7"
  }
 },
 "nbformat": 4,
 "nbformat_minor": 2
}
